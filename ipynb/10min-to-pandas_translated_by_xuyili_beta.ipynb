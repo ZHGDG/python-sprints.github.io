{
 "cells": [
  {
   "cell_type": "markdown",
   "metadata": {},
   "source": [
    "## Pandas十分钟入门"
   ]
  },
  {
   "cell_type": "markdown",
   "metadata": {},
   "source": [
    "### 这是一份面向新用户的Pandas简要介绍。想要学习更深入的内容请进入<a herf>http://pandas.pydata.org/pandas-docs/stable/cookbook.html#cookbook</a>\n",
    "### 通常，我们先导入如下内容："
   ]
  },
  {
   "cell_type": "code",
   "execution_count": 1,
   "metadata": {},
   "outputs": [],
   "source": [
    "import pandas as pd\n",
    "\n",
    "import numpy as np\n",
    "\n",
    "import matplotlib.pyplot as plt"
   ]
  },
  {
   "cell_type": "markdown",
   "metadata": {},
   "source": [
    "\n",
    "## 1.创建对象\n",
    "\n",
    "### 详情参见[Data Structure Intro section](http://pandas.pydata.org/pandas-docs/stable/dsintro.html#dsintro)"
   ]
  },
  {
   "cell_type": "markdown",
   "metadata": {},
   "source": [
    "### 我们可以通过传入一个列表对象来创建Series，pandas会默认为其创建整数索引："
   ]
  },
  {
   "cell_type": "code",
   "execution_count": 3,
   "metadata": {},
   "outputs": [],
   "source": [
    "s = pd.Series([1,3,5,np.nan,6,8])"
   ]
  },
  {
   "cell_type": "code",
   "execution_count": 4,
   "metadata": {},
   "outputs": [
    {
     "data": {
      "text/plain": [
       "0    1.0\n",
       "1    3.0\n",
       "2    5.0\n",
       "3    NaN\n",
       "4    6.0\n",
       "5    8.0\n",
       "dtype: float64"
      ]
     },
     "execution_count": 4,
     "metadata": {},
     "output_type": "execute_result"
    }
   ],
   "source": [
    "s"
   ]
  },
  {
   "cell_type": "markdown",
   "metadata": {},
   "source": [
    "### 同样，通过传入一个numpy矩阵、时间索引和列标签来创建DataFrame："
   ]
  },
  {
   "cell_type": "code",
   "execution_count": 5,
   "metadata": {},
   "outputs": [],
   "source": [
    "dates = pd.date_range('20180101', periods=6)"
   ]
  },
  {
   "cell_type": "code",
   "execution_count": 6,
   "metadata": {},
   "outputs": [
    {
     "data": {
      "text/plain": [
       "DatetimeIndex(['2018-01-01', '2018-01-02', '2018-01-03', '2018-01-04',\n",
       "               '2018-01-05', '2018-01-06'],\n",
       "              dtype='datetime64[ns]', freq='D')"
      ]
     },
     "execution_count": 6,
     "metadata": {},
     "output_type": "execute_result"
    }
   ],
   "source": [
    "dates"
   ]
  },
  {
   "cell_type": "code",
   "execution_count": 7,
   "metadata": {},
   "outputs": [],
   "source": [
    "df = pd.DataFrame(np.random.randn(6,4), index=dates, columns=list('ABCD'))"
   ]
  },
  {
   "cell_type": "code",
   "execution_count": 8,
   "metadata": {},
   "outputs": [
    {
     "data": {
      "text/html": [
       "<div>\n",
       "<style scoped>\n",
       "    .dataframe tbody tr th:only-of-type {\n",
       "        vertical-align: middle;\n",
       "    }\n",
       "\n",
       "    .dataframe tbody tr th {\n",
       "        vertical-align: top;\n",
       "    }\n",
       "\n",
       "    .dataframe thead th {\n",
       "        text-align: right;\n",
       "    }\n",
       "</style>\n",
       "<table border=\"1\" class=\"dataframe\">\n",
       "  <thead>\n",
       "    <tr style=\"text-align: right;\">\n",
       "      <th></th>\n",
       "      <th>A</th>\n",
       "      <th>B</th>\n",
       "      <th>C</th>\n",
       "      <th>D</th>\n",
       "    </tr>\n",
       "  </thead>\n",
       "  <tbody>\n",
       "    <tr>\n",
       "      <th>2018-01-01</th>\n",
       "      <td>1.213726</td>\n",
       "      <td>1.223995</td>\n",
       "      <td>-0.514832</td>\n",
       "      <td>-1.373114</td>\n",
       "    </tr>\n",
       "    <tr>\n",
       "      <th>2018-01-02</th>\n",
       "      <td>1.456675</td>\n",
       "      <td>-0.009855</td>\n",
       "      <td>-0.691739</td>\n",
       "      <td>0.403864</td>\n",
       "    </tr>\n",
       "    <tr>\n",
       "      <th>2018-01-03</th>\n",
       "      <td>0.733697</td>\n",
       "      <td>-1.623424</td>\n",
       "      <td>0.265715</td>\n",
       "      <td>0.505009</td>\n",
       "    </tr>\n",
       "    <tr>\n",
       "      <th>2018-01-04</th>\n",
       "      <td>-0.175506</td>\n",
       "      <td>-0.404253</td>\n",
       "      <td>0.725063</td>\n",
       "      <td>-0.029984</td>\n",
       "    </tr>\n",
       "    <tr>\n",
       "      <th>2018-01-05</th>\n",
       "      <td>-2.081784</td>\n",
       "      <td>-0.847961</td>\n",
       "      <td>-0.187492</td>\n",
       "      <td>-2.720050</td>\n",
       "    </tr>\n",
       "    <tr>\n",
       "      <th>2018-01-06</th>\n",
       "      <td>-0.216038</td>\n",
       "      <td>1.482802</td>\n",
       "      <td>0.410181</td>\n",
       "      <td>-0.669965</td>\n",
       "    </tr>\n",
       "  </tbody>\n",
       "</table>\n",
       "</div>"
      ],
      "text/plain": [
       "                   A         B         C         D\n",
       "2018-01-01  1.213726  1.223995 -0.514832 -1.373114\n",
       "2018-01-02  1.456675 -0.009855 -0.691739  0.403864\n",
       "2018-01-03  0.733697 -1.623424  0.265715  0.505009\n",
       "2018-01-04 -0.175506 -0.404253  0.725063 -0.029984\n",
       "2018-01-05 -2.081784 -0.847961 -0.187492 -2.720050\n",
       "2018-01-06 -0.216038  1.482802  0.410181 -0.669965"
      ]
     },
     "execution_count": 8,
     "metadata": {},
     "output_type": "execute_result"
    }
   ],
   "source": [
    "df"
   ]
  },
  {
   "cell_type": "markdown",
   "metadata": {},
   "source": [
    "### 也可以通过传入一个能够被转换成形似Series结构的字典对象来创建DataFrame。"
   ]
  },
  {
   "cell_type": "code",
   "execution_count": 12,
   "metadata": {},
   "outputs": [],
   "source": [
    "df2 = pd.DataFrame({ 'A' : 1.,\n",
    "                     'B' : pd.Timestamp('20180102'),\n",
    "                     'C' : pd.Series(1,index=list(range(4)),dtype='float32'),\n",
    "                     'D' : np.array([3] * 4,dtype='int32'),\n",
    "                     'E' : pd.Categorical([\"test\",\"train\",\"test\",\"train\"]),\n",
    "                     'F' : 'foo' })"
   ]
  },
  {
   "cell_type": "code",
   "execution_count": 13,
   "metadata": {},
   "outputs": [
    {
     "data": {
      "text/html": [
       "<div>\n",
       "<style scoped>\n",
       "    .dataframe tbody tr th:only-of-type {\n",
       "        vertical-align: middle;\n",
       "    }\n",
       "\n",
       "    .dataframe tbody tr th {\n",
       "        vertical-align: top;\n",
       "    }\n",
       "\n",
       "    .dataframe thead th {\n",
       "        text-align: right;\n",
       "    }\n",
       "</style>\n",
       "<table border=\"1\" class=\"dataframe\">\n",
       "  <thead>\n",
       "    <tr style=\"text-align: right;\">\n",
       "      <th></th>\n",
       "      <th>A</th>\n",
       "      <th>B</th>\n",
       "      <th>C</th>\n",
       "      <th>D</th>\n",
       "      <th>E</th>\n",
       "      <th>F</th>\n",
       "    </tr>\n",
       "  </thead>\n",
       "  <tbody>\n",
       "    <tr>\n",
       "      <th>0</th>\n",
       "      <td>1.0</td>\n",
       "      <td>2018-01-02</td>\n",
       "      <td>1.0</td>\n",
       "      <td>3</td>\n",
       "      <td>test</td>\n",
       "      <td>foo</td>\n",
       "    </tr>\n",
       "    <tr>\n",
       "      <th>1</th>\n",
       "      <td>1.0</td>\n",
       "      <td>2018-01-02</td>\n",
       "      <td>1.0</td>\n",
       "      <td>3</td>\n",
       "      <td>train</td>\n",
       "      <td>foo</td>\n",
       "    </tr>\n",
       "    <tr>\n",
       "      <th>2</th>\n",
       "      <td>1.0</td>\n",
       "      <td>2018-01-02</td>\n",
       "      <td>1.0</td>\n",
       "      <td>3</td>\n",
       "      <td>test</td>\n",
       "      <td>foo</td>\n",
       "    </tr>\n",
       "    <tr>\n",
       "      <th>3</th>\n",
       "      <td>1.0</td>\n",
       "      <td>2018-01-02</td>\n",
       "      <td>1.0</td>\n",
       "      <td>3</td>\n",
       "      <td>train</td>\n",
       "      <td>foo</td>\n",
       "    </tr>\n",
       "  </tbody>\n",
       "</table>\n",
       "</div>"
      ],
      "text/plain": [
       "     A          B    C  D      E    F\n",
       "0  1.0 2018-01-02  1.0  3   test  foo\n",
       "1  1.0 2018-01-02  1.0  3  train  foo\n",
       "2  1.0 2018-01-02  1.0  3   test  foo\n",
       "3  1.0 2018-01-02  1.0  3  train  foo"
      ]
     },
     "execution_count": 13,
     "metadata": {},
     "output_type": "execute_result"
    }
   ],
   "source": [
    "df2"
   ]
  },
  {
   "cell_type": "markdown",
   "metadata": {},
   "source": [
    "### 查看各列的数据类型："
   ]
  },
  {
   "cell_type": "code",
   "execution_count": 14,
   "metadata": {},
   "outputs": [
    {
     "data": {
      "text/plain": [
       "A           float64\n",
       "B    datetime64[ns]\n",
       "C           float32\n",
       "D             int32\n",
       "E          category\n",
       "F            object\n",
       "dtype: object"
      ]
     },
     "execution_count": 14,
     "metadata": {},
     "output_type": "execute_result"
    }
   ],
   "source": [
    "df2.dtypes"
   ]
  },
  {
   "cell_type": "markdown",
   "metadata": {},
   "source": [
    "### 如果你使用的是IPython，使用Tab键可以自动补全功能命令，下图中是此功能的示例："
   ]
  },
  {
   "cell_type": "markdown",
   "metadata": {},
   "source": [
    "df2.<TAB>\n",
    "df2.A                  df2.bool\n",
    "df2.abs                df2.boxplot\n",
    "df2.add                df2.C\n",
    "df2.add_prefix         df2.clip\n",
    "df2.add_suffix         df2.clip_lower\n",
    "df2.align              df2.clip_upper\n",
    "df2.all                df2.columns\n",
    "df2.any                df2.combine\n",
    "df2.append             df2.combine_fibeta\n",
    "df2.apply              df2.compound\n",
    "df2.applymap           df2.consolidate\n",
    "df2.D"
   ]
  },
  {
   "cell_type": "markdown",
   "metadata": {},
   "source": [
    "### 可以看到，df2的A，B，C，D乃至E列都在可以被Tab自动补全，受篇幅所限，其他内容省略显示。"
   ]
  },
  {
   "cell_type": "markdown",
   "metadata": {},
   "source": [
    "## 2.查看数据\n",
    "### 详情参见[Basics section](http://pandas.pydata.org/pandas-docs/stable/basics.html#basics)"
   ]
  },
  {
   "cell_type": "markdown",
   "metadata": {},
   "source": [
    "### 分别查看数据的最前、最后几行："
   ]
  },
  {
   "cell_type": "code",
   "execution_count": 10,
   "metadata": {},
   "outputs": [
    {
     "data": {
      "text/html": [
       "<div>\n",
       "<style scoped>\n",
       "    .dataframe tbody tr th:only-of-type {\n",
       "        vertical-align: middle;\n",
       "    }\n",
       "\n",
       "    .dataframe tbody tr th {\n",
       "        vertical-align: top;\n",
       "    }\n",
       "\n",
       "    .dataframe thead th {\n",
       "        text-align: right;\n",
       "    }\n",
       "</style>\n",
       "<table border=\"1\" class=\"dataframe\">\n",
       "  <thead>\n",
       "    <tr style=\"text-align: right;\">\n",
       "      <th></th>\n",
       "      <th>A</th>\n",
       "      <th>B</th>\n",
       "      <th>C</th>\n",
       "      <th>D</th>\n",
       "    </tr>\n",
       "  </thead>\n",
       "  <tbody>\n",
       "    <tr>\n",
       "      <th>2018-01-01</th>\n",
       "      <td>1.213726</td>\n",
       "      <td>1.223995</td>\n",
       "      <td>-0.514832</td>\n",
       "      <td>-1.373114</td>\n",
       "    </tr>\n",
       "    <tr>\n",
       "      <th>2018-01-02</th>\n",
       "      <td>1.456675</td>\n",
       "      <td>-0.009855</td>\n",
       "      <td>-0.691739</td>\n",
       "      <td>0.403864</td>\n",
       "    </tr>\n",
       "    <tr>\n",
       "      <th>2018-01-03</th>\n",
       "      <td>0.733697</td>\n",
       "      <td>-1.623424</td>\n",
       "      <td>0.265715</td>\n",
       "      <td>0.505009</td>\n",
       "    </tr>\n",
       "    <tr>\n",
       "      <th>2018-01-04</th>\n",
       "      <td>-0.175506</td>\n",
       "      <td>-0.404253</td>\n",
       "      <td>0.725063</td>\n",
       "      <td>-0.029984</td>\n",
       "    </tr>\n",
       "    <tr>\n",
       "      <th>2018-01-05</th>\n",
       "      <td>-2.081784</td>\n",
       "      <td>-0.847961</td>\n",
       "      <td>-0.187492</td>\n",
       "      <td>-2.720050</td>\n",
       "    </tr>\n",
       "  </tbody>\n",
       "</table>\n",
       "</div>"
      ],
      "text/plain": [
       "                   A         B         C         D\n",
       "2018-01-01  1.213726  1.223995 -0.514832 -1.373114\n",
       "2018-01-02  1.456675 -0.009855 -0.691739  0.403864\n",
       "2018-01-03  0.733697 -1.623424  0.265715  0.505009\n",
       "2018-01-04 -0.175506 -0.404253  0.725063 -0.029984\n",
       "2018-01-05 -2.081784 -0.847961 -0.187492 -2.720050"
      ]
     },
     "execution_count": 10,
     "metadata": {},
     "output_type": "execute_result"
    }
   ],
   "source": [
    "df.head()"
   ]
  },
  {
   "cell_type": "code",
   "execution_count": 9,
   "metadata": {},
   "outputs": [
    {
     "data": {
      "text/html": [
       "<div>\n",
       "<style scoped>\n",
       "    .dataframe tbody tr th:only-of-type {\n",
       "        vertical-align: middle;\n",
       "    }\n",
       "\n",
       "    .dataframe tbody tr th {\n",
       "        vertical-align: top;\n",
       "    }\n",
       "\n",
       "    .dataframe thead th {\n",
       "        text-align: right;\n",
       "    }\n",
       "</style>\n",
       "<table border=\"1\" class=\"dataframe\">\n",
       "  <thead>\n",
       "    <tr style=\"text-align: right;\">\n",
       "      <th></th>\n",
       "      <th>A</th>\n",
       "      <th>B</th>\n",
       "      <th>C</th>\n",
       "      <th>D</th>\n",
       "    </tr>\n",
       "  </thead>\n",
       "  <tbody>\n",
       "    <tr>\n",
       "      <th>2018-01-04</th>\n",
       "      <td>-0.175506</td>\n",
       "      <td>-0.404253</td>\n",
       "      <td>0.725063</td>\n",
       "      <td>-0.029984</td>\n",
       "    </tr>\n",
       "    <tr>\n",
       "      <th>2018-01-05</th>\n",
       "      <td>-2.081784</td>\n",
       "      <td>-0.847961</td>\n",
       "      <td>-0.187492</td>\n",
       "      <td>-2.720050</td>\n",
       "    </tr>\n",
       "    <tr>\n",
       "      <th>2018-01-06</th>\n",
       "      <td>-0.216038</td>\n",
       "      <td>1.482802</td>\n",
       "      <td>0.410181</td>\n",
       "      <td>-0.669965</td>\n",
       "    </tr>\n",
       "  </tbody>\n",
       "</table>\n",
       "</div>"
      ],
      "text/plain": [
       "                   A         B         C         D\n",
       "2018-01-04 -0.175506 -0.404253  0.725063 -0.029984\n",
       "2018-01-05 -2.081784 -0.847961 -0.187492 -2.720050\n",
       "2018-01-06 -0.216038  1.482802  0.410181 -0.669965"
      ]
     },
     "execution_count": 9,
     "metadata": {},
     "output_type": "execute_result"
    }
   ],
   "source": [
    "df.tail(3)"
   ]
  },
  {
   "cell_type": "markdown",
   "metadata": {},
   "source": [
    "### 显示数据的索引（index），列名（column）和取值（value）："
   ]
  },
  {
   "cell_type": "code",
   "execution_count": 15,
   "metadata": {},
   "outputs": [
    {
     "data": {
      "text/plain": [
       "DatetimeIndex(['2018-01-01', '2018-01-02', '2018-01-03', '2018-01-04',\n",
       "               '2018-01-05', '2018-01-06'],\n",
       "              dtype='datetime64[ns]', freq='D')"
      ]
     },
     "execution_count": 15,
     "metadata": {},
     "output_type": "execute_result"
    }
   ],
   "source": [
    "df.index"
   ]
  },
  {
   "cell_type": "code",
   "execution_count": 16,
   "metadata": {},
   "outputs": [
    {
     "data": {
      "text/plain": [
       "Index(['A', 'B', 'C', 'D'], dtype='object')"
      ]
     },
     "execution_count": 16,
     "metadata": {},
     "output_type": "execute_result"
    }
   ],
   "source": [
    "df.columns"
   ]
  },
  {
   "cell_type": "code",
   "execution_count": 17,
   "metadata": {},
   "outputs": [
    {
     "data": {
      "text/plain": [
       "array([[ 1.21372622,  1.22399486, -0.5148324 , -1.37311402],\n",
       "       [ 1.45667538, -0.00985463, -0.69173895,  0.40386356],\n",
       "       [ 0.73369744, -1.62342358,  0.26571529,  0.50500891],\n",
       "       [-0.17550552, -0.40425299,  0.72506331, -0.02998398],\n",
       "       [-2.08178366, -0.84796051, -0.18749204, -2.72004962],\n",
       "       [-0.2160383 ,  1.48280168,  0.41018092, -0.66996496]])"
      ]
     },
     "execution_count": 17,
     "metadata": {},
     "output_type": "execute_result"
    }
   ],
   "source": [
    "df.values"
   ]
  },
  {
   "cell_type": "markdown",
   "metadata": {},
   "source": [
    "### describe用于显示数据的快速统计汇总："
   ]
  },
  {
   "cell_type": "code",
   "execution_count": 18,
   "metadata": {},
   "outputs": [
    {
     "data": {
      "text/html": [
       "<div>\n",
       "<style scoped>\n",
       "    .dataframe tbody tr th:only-of-type {\n",
       "        vertical-align: middle;\n",
       "    }\n",
       "\n",
       "    .dataframe tbody tr th {\n",
       "        vertical-align: top;\n",
       "    }\n",
       "\n",
       "    .dataframe thead th {\n",
       "        text-align: right;\n",
       "    }\n",
       "</style>\n",
       "<table border=\"1\" class=\"dataframe\">\n",
       "  <thead>\n",
       "    <tr style=\"text-align: right;\">\n",
       "      <th></th>\n",
       "      <th>A</th>\n",
       "      <th>B</th>\n",
       "      <th>C</th>\n",
       "      <th>D</th>\n",
       "    </tr>\n",
       "  </thead>\n",
       "  <tbody>\n",
       "    <tr>\n",
       "      <th>count</th>\n",
       "      <td>6.000000</td>\n",
       "      <td>6.000000</td>\n",
       "      <td>6.000000</td>\n",
       "      <td>6.000000</td>\n",
       "    </tr>\n",
       "    <tr>\n",
       "      <th>mean</th>\n",
       "      <td>0.155129</td>\n",
       "      <td>-0.029783</td>\n",
       "      <td>0.001149</td>\n",
       "      <td>-0.647373</td>\n",
       "    </tr>\n",
       "    <tr>\n",
       "      <th>std</th>\n",
       "      <td>1.296168</td>\n",
       "      <td>1.200800</td>\n",
       "      <td>0.555566</td>\n",
       "      <td>1.235917</td>\n",
       "    </tr>\n",
       "    <tr>\n",
       "      <th>min</th>\n",
       "      <td>-2.081784</td>\n",
       "      <td>-1.623424</td>\n",
       "      <td>-0.691739</td>\n",
       "      <td>-2.720050</td>\n",
       "    </tr>\n",
       "    <tr>\n",
       "      <th>25%</th>\n",
       "      <td>-0.205905</td>\n",
       "      <td>-0.737034</td>\n",
       "      <td>-0.432997</td>\n",
       "      <td>-1.197327</td>\n",
       "    </tr>\n",
       "    <tr>\n",
       "      <th>50%</th>\n",
       "      <td>0.279096</td>\n",
       "      <td>-0.207054</td>\n",
       "      <td>0.039112</td>\n",
       "      <td>-0.349974</td>\n",
       "    </tr>\n",
       "    <tr>\n",
       "      <th>75%</th>\n",
       "      <td>1.093719</td>\n",
       "      <td>0.915532</td>\n",
       "      <td>0.374065</td>\n",
       "      <td>0.295402</td>\n",
       "    </tr>\n",
       "    <tr>\n",
       "      <th>max</th>\n",
       "      <td>1.456675</td>\n",
       "      <td>1.482802</td>\n",
       "      <td>0.725063</td>\n",
       "      <td>0.505009</td>\n",
       "    </tr>\n",
       "  </tbody>\n",
       "</table>\n",
       "</div>"
      ],
      "text/plain": [
       "              A         B         C         D\n",
       "count  6.000000  6.000000  6.000000  6.000000\n",
       "mean   0.155129 -0.029783  0.001149 -0.647373\n",
       "std    1.296168  1.200800  0.555566  1.235917\n",
       "min   -2.081784 -1.623424 -0.691739 -2.720050\n",
       "25%   -0.205905 -0.737034 -0.432997 -1.197327\n",
       "50%    0.279096 -0.207054  0.039112 -0.349974\n",
       "75%    1.093719  0.915532  0.374065  0.295402\n",
       "max    1.456675  1.482802  0.725063  0.505009"
      ]
     },
     "execution_count": 18,
     "metadata": {},
     "output_type": "execute_result"
    }
   ],
   "source": [
    "df.describe()"
   ]
  },
  {
   "cell_type": "markdown",
   "metadata": {},
   "source": [
    "### 对数据进行转置："
   ]
  },
  {
   "cell_type": "code",
   "execution_count": 19,
   "metadata": {},
   "outputs": [
    {
     "data": {
      "text/html": [
       "<div>\n",
       "<style scoped>\n",
       "    .dataframe tbody tr th:only-of-type {\n",
       "        vertical-align: middle;\n",
       "    }\n",
       "\n",
       "    .dataframe tbody tr th {\n",
       "        vertical-align: top;\n",
       "    }\n",
       "\n",
       "    .dataframe thead th {\n",
       "        text-align: right;\n",
       "    }\n",
       "</style>\n",
       "<table border=\"1\" class=\"dataframe\">\n",
       "  <thead>\n",
       "    <tr style=\"text-align: right;\">\n",
       "      <th></th>\n",
       "      <th>2018-01-01 00:00:00</th>\n",
       "      <th>2018-01-02 00:00:00</th>\n",
       "      <th>2018-01-03 00:00:00</th>\n",
       "      <th>2018-01-04 00:00:00</th>\n",
       "      <th>2018-01-05 00:00:00</th>\n",
       "      <th>2018-01-06 00:00:00</th>\n",
       "    </tr>\n",
       "  </thead>\n",
       "  <tbody>\n",
       "    <tr>\n",
       "      <th>A</th>\n",
       "      <td>1.213726</td>\n",
       "      <td>1.456675</td>\n",
       "      <td>0.733697</td>\n",
       "      <td>-0.175506</td>\n",
       "      <td>-2.081784</td>\n",
       "      <td>-0.216038</td>\n",
       "    </tr>\n",
       "    <tr>\n",
       "      <th>B</th>\n",
       "      <td>1.223995</td>\n",
       "      <td>-0.009855</td>\n",
       "      <td>-1.623424</td>\n",
       "      <td>-0.404253</td>\n",
       "      <td>-0.847961</td>\n",
       "      <td>1.482802</td>\n",
       "    </tr>\n",
       "    <tr>\n",
       "      <th>C</th>\n",
       "      <td>-0.514832</td>\n",
       "      <td>-0.691739</td>\n",
       "      <td>0.265715</td>\n",
       "      <td>0.725063</td>\n",
       "      <td>-0.187492</td>\n",
       "      <td>0.410181</td>\n",
       "    </tr>\n",
       "    <tr>\n",
       "      <th>D</th>\n",
       "      <td>-1.373114</td>\n",
       "      <td>0.403864</td>\n",
       "      <td>0.505009</td>\n",
       "      <td>-0.029984</td>\n",
       "      <td>-2.720050</td>\n",
       "      <td>-0.669965</td>\n",
       "    </tr>\n",
       "  </tbody>\n",
       "</table>\n",
       "</div>"
      ],
      "text/plain": [
       "   2018-01-01  2018-01-02  2018-01-03  2018-01-04  2018-01-05  2018-01-06\n",
       "A    1.213726    1.456675    0.733697   -0.175506   -2.081784   -0.216038\n",
       "B    1.223995   -0.009855   -1.623424   -0.404253   -0.847961    1.482802\n",
       "C   -0.514832   -0.691739    0.265715    0.725063   -0.187492    0.410181\n",
       "D   -1.373114    0.403864    0.505009   -0.029984   -2.720050   -0.669965"
      ]
     },
     "execution_count": 19,
     "metadata": {},
     "output_type": "execute_result"
    }
   ],
   "source": [
    "df.T"
   ]
  },
  {
   "cell_type": "markdown",
   "metadata": {},
   "source": [
    "### 将数据按照轴来排序（axis表示轴的维度，axis=0表示行，axis=1表示列）："
   ]
  },
  {
   "cell_type": "code",
   "execution_count": 20,
   "metadata": {},
   "outputs": [
    {
     "data": {
      "text/html": [
       "<div>\n",
       "<style scoped>\n",
       "    .dataframe tbody tr th:only-of-type {\n",
       "        vertical-align: middle;\n",
       "    }\n",
       "\n",
       "    .dataframe tbody tr th {\n",
       "        vertical-align: top;\n",
       "    }\n",
       "\n",
       "    .dataframe thead th {\n",
       "        text-align: right;\n",
       "    }\n",
       "</style>\n",
       "<table border=\"1\" class=\"dataframe\">\n",
       "  <thead>\n",
       "    <tr style=\"text-align: right;\">\n",
       "      <th></th>\n",
       "      <th>D</th>\n",
       "      <th>C</th>\n",
       "      <th>B</th>\n",
       "      <th>A</th>\n",
       "    </tr>\n",
       "  </thead>\n",
       "  <tbody>\n",
       "    <tr>\n",
       "      <th>2018-01-01</th>\n",
       "      <td>-1.373114</td>\n",
       "      <td>-0.514832</td>\n",
       "      <td>1.223995</td>\n",
       "      <td>1.213726</td>\n",
       "    </tr>\n",
       "    <tr>\n",
       "      <th>2018-01-02</th>\n",
       "      <td>0.403864</td>\n",
       "      <td>-0.691739</td>\n",
       "      <td>-0.009855</td>\n",
       "      <td>1.456675</td>\n",
       "    </tr>\n",
       "    <tr>\n",
       "      <th>2018-01-03</th>\n",
       "      <td>0.505009</td>\n",
       "      <td>0.265715</td>\n",
       "      <td>-1.623424</td>\n",
       "      <td>0.733697</td>\n",
       "    </tr>\n",
       "    <tr>\n",
       "      <th>2018-01-04</th>\n",
       "      <td>-0.029984</td>\n",
       "      <td>0.725063</td>\n",
       "      <td>-0.404253</td>\n",
       "      <td>-0.175506</td>\n",
       "    </tr>\n",
       "    <tr>\n",
       "      <th>2018-01-05</th>\n",
       "      <td>-2.720050</td>\n",
       "      <td>-0.187492</td>\n",
       "      <td>-0.847961</td>\n",
       "      <td>-2.081784</td>\n",
       "    </tr>\n",
       "    <tr>\n",
       "      <th>2018-01-06</th>\n",
       "      <td>-0.669965</td>\n",
       "      <td>0.410181</td>\n",
       "      <td>1.482802</td>\n",
       "      <td>-0.216038</td>\n",
       "    </tr>\n",
       "  </tbody>\n",
       "</table>\n",
       "</div>"
      ],
      "text/plain": [
       "                   D         C         B         A\n",
       "2018-01-01 -1.373114 -0.514832  1.223995  1.213726\n",
       "2018-01-02  0.403864 -0.691739 -0.009855  1.456675\n",
       "2018-01-03  0.505009  0.265715 -1.623424  0.733697\n",
       "2018-01-04 -0.029984  0.725063 -0.404253 -0.175506\n",
       "2018-01-05 -2.720050 -0.187492 -0.847961 -2.081784\n",
       "2018-01-06 -0.669965  0.410181  1.482802 -0.216038"
      ]
     },
     "execution_count": 20,
     "metadata": {},
     "output_type": "execute_result"
    }
   ],
   "source": [
    " df.sort_index(axis=1, ascending=False)"
   ]
  },
  {
   "cell_type": "markdown",
   "metadata": {},
   "source": [
    "### 将数据按照值排序："
   ]
  },
  {
   "cell_type": "code",
   "execution_count": 21,
   "metadata": {},
   "outputs": [
    {
     "data": {
      "text/html": [
       "<div>\n",
       "<style scoped>\n",
       "    .dataframe tbody tr th:only-of-type {\n",
       "        vertical-align: middle;\n",
       "    }\n",
       "\n",
       "    .dataframe tbody tr th {\n",
       "        vertical-align: top;\n",
       "    }\n",
       "\n",
       "    .dataframe thead th {\n",
       "        text-align: right;\n",
       "    }\n",
       "</style>\n",
       "<table border=\"1\" class=\"dataframe\">\n",
       "  <thead>\n",
       "    <tr style=\"text-align: right;\">\n",
       "      <th></th>\n",
       "      <th>A</th>\n",
       "      <th>B</th>\n",
       "      <th>C</th>\n",
       "      <th>D</th>\n",
       "    </tr>\n",
       "  </thead>\n",
       "  <tbody>\n",
       "    <tr>\n",
       "      <th>2018-01-03</th>\n",
       "      <td>0.733697</td>\n",
       "      <td>-1.623424</td>\n",
       "      <td>0.265715</td>\n",
       "      <td>0.505009</td>\n",
       "    </tr>\n",
       "    <tr>\n",
       "      <th>2018-01-05</th>\n",
       "      <td>-2.081784</td>\n",
       "      <td>-0.847961</td>\n",
       "      <td>-0.187492</td>\n",
       "      <td>-2.720050</td>\n",
       "    </tr>\n",
       "    <tr>\n",
       "      <th>2018-01-04</th>\n",
       "      <td>-0.175506</td>\n",
       "      <td>-0.404253</td>\n",
       "      <td>0.725063</td>\n",
       "      <td>-0.029984</td>\n",
       "    </tr>\n",
       "    <tr>\n",
       "      <th>2018-01-02</th>\n",
       "      <td>1.456675</td>\n",
       "      <td>-0.009855</td>\n",
       "      <td>-0.691739</td>\n",
       "      <td>0.403864</td>\n",
       "    </tr>\n",
       "    <tr>\n",
       "      <th>2018-01-01</th>\n",
       "      <td>1.213726</td>\n",
       "      <td>1.223995</td>\n",
       "      <td>-0.514832</td>\n",
       "      <td>-1.373114</td>\n",
       "    </tr>\n",
       "    <tr>\n",
       "      <th>2018-01-06</th>\n",
       "      <td>-0.216038</td>\n",
       "      <td>1.482802</td>\n",
       "      <td>0.410181</td>\n",
       "      <td>-0.669965</td>\n",
       "    </tr>\n",
       "  </tbody>\n",
       "</table>\n",
       "</div>"
      ],
      "text/plain": [
       "                   A         B         C         D\n",
       "2018-01-03  0.733697 -1.623424  0.265715  0.505009\n",
       "2018-01-05 -2.081784 -0.847961 -0.187492 -2.720050\n",
       "2018-01-04 -0.175506 -0.404253  0.725063 -0.029984\n",
       "2018-01-02  1.456675 -0.009855 -0.691739  0.403864\n",
       "2018-01-01  1.213726  1.223995 -0.514832 -1.373114\n",
       "2018-01-06 -0.216038  1.482802  0.410181 -0.669965"
      ]
     },
     "execution_count": 21,
     "metadata": {},
     "output_type": "execute_result"
    }
   ],
   "source": [
    "df.sort_values(by='B')"
   ]
  },
  {
   "cell_type": "markdown",
   "metadata": {},
   "source": [
    "## 3.选择"
   ]
  },
  {
   "cell_type": "markdown",
   "metadata": {},
   "source": [
    "\n",
    "> 注意：虽然Python标准库和Numpy的选择和设置表达式也能直接使用，但是作为产品代码，我们推荐使用经过优化的pandas数据访问方式： .at, .iat, .loc, .iloc 和 .ix"
   ]
  },
  {
   "cell_type": "markdown",
   "metadata": {},
   "source": [
    "### 详情参见[Indexing and Selecting Data](http://pandas.pydata.org/pandas-docs/stable/indexing.html#indexing)和[MultiIndex / Advanced Indexing](http://pandas.pydata.org/pandas-docs/stable/advanced.html#advanced)\n",
    "### 3.1 获取"
   ]
  },
  {
   "cell_type": "markdown",
   "metadata": {},
   "source": [
    "### 选择单列，将返回一个Series序列，等价于df.A："
   ]
  },
  {
   "cell_type": "code",
   "execution_count": 22,
   "metadata": {},
   "outputs": [
    {
     "data": {
      "text/plain": [
       "2018-01-01    1.213726\n",
       "2018-01-02    1.456675\n",
       "2018-01-03    0.733697\n",
       "2018-01-04   -0.175506\n",
       "2018-01-05   -2.081784\n",
       "2018-01-06   -0.216038\n",
       "Freq: D, Name: A, dtype: float64"
      ]
     },
     "execution_count": 22,
     "metadata": {},
     "output_type": "execute_result"
    }
   ],
   "source": [
    "df['A']"
   ]
  },
  {
   "cell_type": "markdown",
   "metadata": {},
   "source": [
    "### 通过[ ]来选择，对行进行切片："
   ]
  },
  {
   "cell_type": "code",
   "execution_count": 23,
   "metadata": {},
   "outputs": [
    {
     "data": {
      "text/html": [
       "<div>\n",
       "<style scoped>\n",
       "    .dataframe tbody tr th:only-of-type {\n",
       "        vertical-align: middle;\n",
       "    }\n",
       "\n",
       "    .dataframe tbody tr th {\n",
       "        vertical-align: top;\n",
       "    }\n",
       "\n",
       "    .dataframe thead th {\n",
       "        text-align: right;\n",
       "    }\n",
       "</style>\n",
       "<table border=\"1\" class=\"dataframe\">\n",
       "  <thead>\n",
       "    <tr style=\"text-align: right;\">\n",
       "      <th></th>\n",
       "      <th>A</th>\n",
       "      <th>B</th>\n",
       "      <th>C</th>\n",
       "      <th>D</th>\n",
       "    </tr>\n",
       "  </thead>\n",
       "  <tbody>\n",
       "    <tr>\n",
       "      <th>2018-01-01</th>\n",
       "      <td>1.213726</td>\n",
       "      <td>1.223995</td>\n",
       "      <td>-0.514832</td>\n",
       "      <td>-1.373114</td>\n",
       "    </tr>\n",
       "    <tr>\n",
       "      <th>2018-01-02</th>\n",
       "      <td>1.456675</td>\n",
       "      <td>-0.009855</td>\n",
       "      <td>-0.691739</td>\n",
       "      <td>0.403864</td>\n",
       "    </tr>\n",
       "    <tr>\n",
       "      <th>2018-01-03</th>\n",
       "      <td>0.733697</td>\n",
       "      <td>-1.623424</td>\n",
       "      <td>0.265715</td>\n",
       "      <td>0.505009</td>\n",
       "    </tr>\n",
       "  </tbody>\n",
       "</table>\n",
       "</div>"
      ],
      "text/plain": [
       "                   A         B         C         D\n",
       "2018-01-01  1.213726  1.223995 -0.514832 -1.373114\n",
       "2018-01-02  1.456675 -0.009855 -0.691739  0.403864\n",
       "2018-01-03  0.733697 -1.623424  0.265715  0.505009"
      ]
     },
     "execution_count": 23,
     "metadata": {},
     "output_type": "execute_result"
    }
   ],
   "source": [
    "df[0:3]"
   ]
  },
  {
   "cell_type": "code",
   "execution_count": 24,
   "metadata": {},
   "outputs": [
    {
     "data": {
      "text/html": [
       "<div>\n",
       "<style scoped>\n",
       "    .dataframe tbody tr th:only-of-type {\n",
       "        vertical-align: middle;\n",
       "    }\n",
       "\n",
       "    .dataframe tbody tr th {\n",
       "        vertical-align: top;\n",
       "    }\n",
       "\n",
       "    .dataframe thead th {\n",
       "        text-align: right;\n",
       "    }\n",
       "</style>\n",
       "<table border=\"1\" class=\"dataframe\">\n",
       "  <thead>\n",
       "    <tr style=\"text-align: right;\">\n",
       "      <th></th>\n",
       "      <th>A</th>\n",
       "      <th>B</th>\n",
       "      <th>C</th>\n",
       "      <th>D</th>\n",
       "    </tr>\n",
       "  </thead>\n",
       "  <tbody>\n",
       "    <tr>\n",
       "      <th>2018-01-02</th>\n",
       "      <td>1.456675</td>\n",
       "      <td>-0.009855</td>\n",
       "      <td>-0.691739</td>\n",
       "      <td>0.403864</td>\n",
       "    </tr>\n",
       "    <tr>\n",
       "      <th>2018-01-03</th>\n",
       "      <td>0.733697</td>\n",
       "      <td>-1.623424</td>\n",
       "      <td>0.265715</td>\n",
       "      <td>0.505009</td>\n",
       "    </tr>\n",
       "    <tr>\n",
       "      <th>2018-01-04</th>\n",
       "      <td>-0.175506</td>\n",
       "      <td>-0.404253</td>\n",
       "      <td>0.725063</td>\n",
       "      <td>-0.029984</td>\n",
       "    </tr>\n",
       "  </tbody>\n",
       "</table>\n",
       "</div>"
      ],
      "text/plain": [
       "                   A         B         C         D\n",
       "2018-01-02  1.456675 -0.009855 -0.691739  0.403864\n",
       "2018-01-03  0.733697 -1.623424  0.265715  0.505009\n",
       "2018-01-04 -0.175506 -0.404253  0.725063 -0.029984"
      ]
     },
     "execution_count": 24,
     "metadata": {},
     "output_type": "execute_result"
    }
   ],
   "source": [
    "df['20180102':'20180104']"
   ]
  },
  {
   "cell_type": "markdown",
   "metadata": {},
   "source": [
    "### 3.2 通过（行或列的）标签选择"
   ]
  },
  {
   "cell_type": "markdown",
   "metadata": {},
   "source": [
    "### 使用标签获取数据的横截面："
   ]
  },
  {
   "cell_type": "code",
   "execution_count": 25,
   "metadata": {},
   "outputs": [
    {
     "data": {
      "text/plain": [
       "A    1.213726\n",
       "B    1.223995\n",
       "C   -0.514832\n",
       "D   -1.373114\n",
       "Name: 2018-01-01 00:00:00, dtype: float64"
      ]
     },
     "execution_count": 25,
     "metadata": {},
     "output_type": "execute_result"
    }
   ],
   "source": [
    "df.loc[dates[0]]"
   ]
  },
  {
   "cell_type": "markdown",
   "metadata": {},
   "source": [
    "### 使用标签来选取多个轴的数据："
   ]
  },
  {
   "cell_type": "code",
   "execution_count": 26,
   "metadata": {},
   "outputs": [
    {
     "data": {
      "text/html": [
       "<div>\n",
       "<style scoped>\n",
       "    .dataframe tbody tr th:only-of-type {\n",
       "        vertical-align: middle;\n",
       "    }\n",
       "\n",
       "    .dataframe tbody tr th {\n",
       "        vertical-align: top;\n",
       "    }\n",
       "\n",
       "    .dataframe thead th {\n",
       "        text-align: right;\n",
       "    }\n",
       "</style>\n",
       "<table border=\"1\" class=\"dataframe\">\n",
       "  <thead>\n",
       "    <tr style=\"text-align: right;\">\n",
       "      <th></th>\n",
       "      <th>A</th>\n",
       "      <th>B</th>\n",
       "    </tr>\n",
       "  </thead>\n",
       "  <tbody>\n",
       "    <tr>\n",
       "      <th>2018-01-01</th>\n",
       "      <td>1.213726</td>\n",
       "      <td>1.223995</td>\n",
       "    </tr>\n",
       "    <tr>\n",
       "      <th>2018-01-02</th>\n",
       "      <td>1.456675</td>\n",
       "      <td>-0.009855</td>\n",
       "    </tr>\n",
       "    <tr>\n",
       "      <th>2018-01-03</th>\n",
       "      <td>0.733697</td>\n",
       "      <td>-1.623424</td>\n",
       "    </tr>\n",
       "    <tr>\n",
       "      <th>2018-01-04</th>\n",
       "      <td>-0.175506</td>\n",
       "      <td>-0.404253</td>\n",
       "    </tr>\n",
       "    <tr>\n",
       "      <th>2018-01-05</th>\n",
       "      <td>-2.081784</td>\n",
       "      <td>-0.847961</td>\n",
       "    </tr>\n",
       "    <tr>\n",
       "      <th>2018-01-06</th>\n",
       "      <td>-0.216038</td>\n",
       "      <td>1.482802</td>\n",
       "    </tr>\n",
       "  </tbody>\n",
       "</table>\n",
       "</div>"
      ],
      "text/plain": [
       "                   A         B\n",
       "2018-01-01  1.213726  1.223995\n",
       "2018-01-02  1.456675 -0.009855\n",
       "2018-01-03  0.733697 -1.623424\n",
       "2018-01-04 -0.175506 -0.404253\n",
       "2018-01-05 -2.081784 -0.847961\n",
       "2018-01-06 -0.216038  1.482802"
      ]
     },
     "execution_count": 26,
     "metadata": {},
     "output_type": "execute_result"
    }
   ],
   "source": [
    "df.loc[:,['A','B']]"
   ]
  },
  {
   "cell_type": "markdown",
   "metadata": {},
   "source": [
    "### 使用标签切片选取数据："
   ]
  },
  {
   "cell_type": "code",
   "execution_count": 27,
   "metadata": {},
   "outputs": [
    {
     "data": {
      "text/html": [
       "<div>\n",
       "<style scoped>\n",
       "    .dataframe tbody tr th:only-of-type {\n",
       "        vertical-align: middle;\n",
       "    }\n",
       "\n",
       "    .dataframe tbody tr th {\n",
       "        vertical-align: top;\n",
       "    }\n",
       "\n",
       "    .dataframe thead th {\n",
       "        text-align: right;\n",
       "    }\n",
       "</style>\n",
       "<table border=\"1\" class=\"dataframe\">\n",
       "  <thead>\n",
       "    <tr style=\"text-align: right;\">\n",
       "      <th></th>\n",
       "      <th>A</th>\n",
       "      <th>B</th>\n",
       "    </tr>\n",
       "  </thead>\n",
       "  <tbody>\n",
       "    <tr>\n",
       "      <th>2018-01-02</th>\n",
       "      <td>1.456675</td>\n",
       "      <td>-0.009855</td>\n",
       "    </tr>\n",
       "    <tr>\n",
       "      <th>2018-01-03</th>\n",
       "      <td>0.733697</td>\n",
       "      <td>-1.623424</td>\n",
       "    </tr>\n",
       "    <tr>\n",
       "      <th>2018-01-04</th>\n",
       "      <td>-0.175506</td>\n",
       "      <td>-0.404253</td>\n",
       "    </tr>\n",
       "  </tbody>\n",
       "</table>\n",
       "</div>"
      ],
      "text/plain": [
       "                   A         B\n",
       "2018-01-02  1.456675 -0.009855\n",
       "2018-01-03  0.733697 -1.623424\n",
       "2018-01-04 -0.175506 -0.404253"
      ]
     },
     "execution_count": 27,
     "metadata": {},
     "output_type": "execute_result"
    }
   ],
   "source": [
    "df.loc['20180102':'20180104',['A','B']]"
   ]
  },
  {
   "cell_type": "markdown",
   "metadata": {},
   "source": [
    "### 降低返回数据对象的维度："
   ]
  },
  {
   "cell_type": "code",
   "execution_count": 28,
   "metadata": {},
   "outputs": [
    {
     "data": {
      "text/plain": [
       "A    1.456675\n",
       "B   -0.009855\n",
       "Name: 2018-01-02 00:00:00, dtype: float64"
      ]
     },
     "execution_count": 28,
     "metadata": {},
     "output_type": "execute_result"
    }
   ],
   "source": [
    "df.loc['20180102',['A','B']]"
   ]
  },
  {
   "cell_type": "markdown",
   "metadata": {},
   "source": [
    "### 获取一个具体定位的标量："
   ]
  },
  {
   "cell_type": "code",
   "execution_count": 29,
   "metadata": {},
   "outputs": [
    {
     "data": {
      "text/plain": [
       "1.2137262232966595"
      ]
     },
     "execution_count": 29,
     "metadata": {},
     "output_type": "execute_result"
    }
   ],
   "source": [
    "df.loc[dates[0],'A']"
   ]
  },
  {
   "cell_type": "markdown",
   "metadata": {},
   "source": [
    "### 快速访问并获取标量数据 (等价于上面的方法)："
   ]
  },
  {
   "cell_type": "code",
   "execution_count": 30,
   "metadata": {},
   "outputs": [
    {
     "data": {
      "text/plain": [
       "1.2137262232966595"
      ]
     },
     "execution_count": 30,
     "metadata": {},
     "output_type": "execute_result"
    }
   ],
   "source": [
    "df.at[dates[0],'A']"
   ]
  },
  {
   "cell_type": "markdown",
   "metadata": {},
   "source": [
    "### 3.3根据位置选择"
   ]
  },
  {
   "cell_type": "markdown",
   "metadata": {},
   "source": [
    "### 通过整数下标选择（行）："
   ]
  },
  {
   "cell_type": "code",
   "execution_count": 31,
   "metadata": {},
   "outputs": [
    {
     "data": {
      "text/plain": [
       "A   -0.175506\n",
       "B   -0.404253\n",
       "C    0.725063\n",
       "D   -0.029984\n",
       "Name: 2018-01-04 00:00:00, dtype: float64"
      ]
     },
     "execution_count": 31,
     "metadata": {},
     "output_type": "execute_result"
    }
   ],
   "source": [
    "df.iloc[3]"
   ]
  },
  {
   "cell_type": "markdown",
   "metadata": {},
   "source": [
    "### 通过整数下标进行切片，与numpy/python切片操作相似："
   ]
  },
  {
   "cell_type": "code",
   "execution_count": 32,
   "metadata": {},
   "outputs": [
    {
     "data": {
      "text/html": [
       "<div>\n",
       "<style scoped>\n",
       "    .dataframe tbody tr th:only-of-type {\n",
       "        vertical-align: middle;\n",
       "    }\n",
       "\n",
       "    .dataframe tbody tr th {\n",
       "        vertical-align: top;\n",
       "    }\n",
       "\n",
       "    .dataframe thead th {\n",
       "        text-align: right;\n",
       "    }\n",
       "</style>\n",
       "<table border=\"1\" class=\"dataframe\">\n",
       "  <thead>\n",
       "    <tr style=\"text-align: right;\">\n",
       "      <th></th>\n",
       "      <th>A</th>\n",
       "      <th>B</th>\n",
       "    </tr>\n",
       "  </thead>\n",
       "  <tbody>\n",
       "    <tr>\n",
       "      <th>2018-01-04</th>\n",
       "      <td>-0.175506</td>\n",
       "      <td>-0.404253</td>\n",
       "    </tr>\n",
       "    <tr>\n",
       "      <th>2018-01-05</th>\n",
       "      <td>-2.081784</td>\n",
       "      <td>-0.847961</td>\n",
       "    </tr>\n",
       "  </tbody>\n",
       "</table>\n",
       "</div>"
      ],
      "text/plain": [
       "                   A         B\n",
       "2018-01-04 -0.175506 -0.404253\n",
       "2018-01-05 -2.081784 -0.847961"
      ]
     },
     "execution_count": 32,
     "metadata": {},
     "output_type": "execute_result"
    }
   ],
   "source": [
    "df.iloc[3:5,0:2]"
   ]
  },
  {
   "cell_type": "markdown",
   "metadata": {},
   "source": [
    "### 通过列表（list）的方式切片，同样与numpy / python操作类似："
   ]
  },
  {
   "cell_type": "code",
   "execution_count": 33,
   "metadata": {},
   "outputs": [
    {
     "data": {
      "text/html": [
       "<div>\n",
       "<style scoped>\n",
       "    .dataframe tbody tr th:only-of-type {\n",
       "        vertical-align: middle;\n",
       "    }\n",
       "\n",
       "    .dataframe tbody tr th {\n",
       "        vertical-align: top;\n",
       "    }\n",
       "\n",
       "    .dataframe thead th {\n",
       "        text-align: right;\n",
       "    }\n",
       "</style>\n",
       "<table border=\"1\" class=\"dataframe\">\n",
       "  <thead>\n",
       "    <tr style=\"text-align: right;\">\n",
       "      <th></th>\n",
       "      <th>A</th>\n",
       "      <th>C</th>\n",
       "    </tr>\n",
       "  </thead>\n",
       "  <tbody>\n",
       "    <tr>\n",
       "      <th>2018-01-02</th>\n",
       "      <td>1.456675</td>\n",
       "      <td>-0.691739</td>\n",
       "    </tr>\n",
       "    <tr>\n",
       "      <th>2018-01-03</th>\n",
       "      <td>0.733697</td>\n",
       "      <td>0.265715</td>\n",
       "    </tr>\n",
       "    <tr>\n",
       "      <th>2018-01-05</th>\n",
       "      <td>-2.081784</td>\n",
       "      <td>-0.187492</td>\n",
       "    </tr>\n",
       "  </tbody>\n",
       "</table>\n",
       "</div>"
      ],
      "text/plain": [
       "                   A         C\n",
       "2018-01-02  1.456675 -0.691739\n",
       "2018-01-03  0.733697  0.265715\n",
       "2018-01-05 -2.081784 -0.187492"
      ]
     },
     "execution_count": 33,
     "metadata": {},
     "output_type": "execute_result"
    }
   ],
   "source": [
    "df.iloc[[1,2,4],[0,2]]"
   ]
  },
  {
   "cell_type": "markdown",
   "metadata": {},
   "source": [
    "### 对行进行切片："
   ]
  },
  {
   "cell_type": "code",
   "execution_count": 34,
   "metadata": {},
   "outputs": [
    {
     "data": {
      "text/html": [
       "<div>\n",
       "<style scoped>\n",
       "    .dataframe tbody tr th:only-of-type {\n",
       "        vertical-align: middle;\n",
       "    }\n",
       "\n",
       "    .dataframe tbody tr th {\n",
       "        vertical-align: top;\n",
       "    }\n",
       "\n",
       "    .dataframe thead th {\n",
       "        text-align: right;\n",
       "    }\n",
       "</style>\n",
       "<table border=\"1\" class=\"dataframe\">\n",
       "  <thead>\n",
       "    <tr style=\"text-align: right;\">\n",
       "      <th></th>\n",
       "      <th>A</th>\n",
       "      <th>B</th>\n",
       "      <th>C</th>\n",
       "      <th>D</th>\n",
       "    </tr>\n",
       "  </thead>\n",
       "  <tbody>\n",
       "    <tr>\n",
       "      <th>2018-01-02</th>\n",
       "      <td>1.456675</td>\n",
       "      <td>-0.009855</td>\n",
       "      <td>-0.691739</td>\n",
       "      <td>0.403864</td>\n",
       "    </tr>\n",
       "    <tr>\n",
       "      <th>2018-01-03</th>\n",
       "      <td>0.733697</td>\n",
       "      <td>-1.623424</td>\n",
       "      <td>0.265715</td>\n",
       "      <td>0.505009</td>\n",
       "    </tr>\n",
       "  </tbody>\n",
       "</table>\n",
       "</div>"
      ],
      "text/plain": [
       "                   A         B         C         D\n",
       "2018-01-02  1.456675 -0.009855 -0.691739  0.403864\n",
       "2018-01-03  0.733697 -1.623424  0.265715  0.505009"
      ]
     },
     "execution_count": 34,
     "metadata": {},
     "output_type": "execute_result"
    }
   ],
   "source": [
    "df.iloc[1:3,:]"
   ]
  },
  {
   "cell_type": "markdown",
   "metadata": {},
   "source": [
    "### 对列进行切片："
   ]
  },
  {
   "cell_type": "code",
   "execution_count": 35,
   "metadata": {},
   "outputs": [
    {
     "data": {
      "text/html": [
       "<div>\n",
       "<style scoped>\n",
       "    .dataframe tbody tr th:only-of-type {\n",
       "        vertical-align: middle;\n",
       "    }\n",
       "\n",
       "    .dataframe tbody tr th {\n",
       "        vertical-align: top;\n",
       "    }\n",
       "\n",
       "    .dataframe thead th {\n",
       "        text-align: right;\n",
       "    }\n",
       "</style>\n",
       "<table border=\"1\" class=\"dataframe\">\n",
       "  <thead>\n",
       "    <tr style=\"text-align: right;\">\n",
       "      <th></th>\n",
       "      <th>B</th>\n",
       "      <th>C</th>\n",
       "    </tr>\n",
       "  </thead>\n",
       "  <tbody>\n",
       "    <tr>\n",
       "      <th>2018-01-01</th>\n",
       "      <td>1.223995</td>\n",
       "      <td>-0.514832</td>\n",
       "    </tr>\n",
       "    <tr>\n",
       "      <th>2018-01-02</th>\n",
       "      <td>-0.009855</td>\n",
       "      <td>-0.691739</td>\n",
       "    </tr>\n",
       "    <tr>\n",
       "      <th>2018-01-03</th>\n",
       "      <td>-1.623424</td>\n",
       "      <td>0.265715</td>\n",
       "    </tr>\n",
       "    <tr>\n",
       "      <th>2018-01-04</th>\n",
       "      <td>-0.404253</td>\n",
       "      <td>0.725063</td>\n",
       "    </tr>\n",
       "    <tr>\n",
       "      <th>2018-01-05</th>\n",
       "      <td>-0.847961</td>\n",
       "      <td>-0.187492</td>\n",
       "    </tr>\n",
       "    <tr>\n",
       "      <th>2018-01-06</th>\n",
       "      <td>1.482802</td>\n",
       "      <td>0.410181</td>\n",
       "    </tr>\n",
       "  </tbody>\n",
       "</table>\n",
       "</div>"
      ],
      "text/plain": [
       "                   B         C\n",
       "2018-01-01  1.223995 -0.514832\n",
       "2018-01-02 -0.009855 -0.691739\n",
       "2018-01-03 -1.623424  0.265715\n",
       "2018-01-04 -0.404253  0.725063\n",
       "2018-01-05 -0.847961 -0.187492\n",
       "2018-01-06  1.482802  0.410181"
      ]
     },
     "execution_count": 35,
     "metadata": {},
     "output_type": "execute_result"
    }
   ],
   "source": [
    "df.iloc[:,1:3]"
   ]
  },
  {
   "cell_type": "markdown",
   "metadata": {},
   "source": [
    "### 获取特定位置的值："
   ]
  },
  {
   "cell_type": "code",
   "execution_count": 36,
   "metadata": {},
   "outputs": [
    {
     "data": {
      "text/plain": [
       "-0.0098546335954532369"
      ]
     },
     "execution_count": 36,
     "metadata": {},
     "output_type": "execute_result"
    }
   ],
   "source": [
    "df.iloc[1,1]"
   ]
  },
  {
   "cell_type": "markdown",
   "metadata": {},
   "source": [
    "### 快速访问一个标量（等同于上面的方法）："
   ]
  },
  {
   "cell_type": "code",
   "execution_count": 37,
   "metadata": {},
   "outputs": [
    {
     "data": {
      "text/plain": [
       "-0.0098546335954532369"
      ]
     },
     "execution_count": 37,
     "metadata": {},
     "output_type": "execute_result"
    }
   ],
   "source": [
    "df.iat[1,1]"
   ]
  },
  {
   "cell_type": "markdown",
   "metadata": {},
   "source": [
    "### 3.4 布尔索引"
   ]
  },
  {
   "cell_type": "markdown",
   "metadata": {},
   "source": [
    "### 根据单列的值的条件来选择数据："
   ]
  },
  {
   "cell_type": "code",
   "execution_count": 38,
   "metadata": {},
   "outputs": [
    {
     "data": {
      "text/html": [
       "<div>\n",
       "<style scoped>\n",
       "    .dataframe tbody tr th:only-of-type {\n",
       "        vertical-align: middle;\n",
       "    }\n",
       "\n",
       "    .dataframe tbody tr th {\n",
       "        vertical-align: top;\n",
       "    }\n",
       "\n",
       "    .dataframe thead th {\n",
       "        text-align: right;\n",
       "    }\n",
       "</style>\n",
       "<table border=\"1\" class=\"dataframe\">\n",
       "  <thead>\n",
       "    <tr style=\"text-align: right;\">\n",
       "      <th></th>\n",
       "      <th>A</th>\n",
       "      <th>B</th>\n",
       "      <th>C</th>\n",
       "      <th>D</th>\n",
       "    </tr>\n",
       "  </thead>\n",
       "  <tbody>\n",
       "    <tr>\n",
       "      <th>2018-01-01</th>\n",
       "      <td>1.213726</td>\n",
       "      <td>1.223995</td>\n",
       "      <td>-0.514832</td>\n",
       "      <td>-1.373114</td>\n",
       "    </tr>\n",
       "    <tr>\n",
       "      <th>2018-01-02</th>\n",
       "      <td>1.456675</td>\n",
       "      <td>-0.009855</td>\n",
       "      <td>-0.691739</td>\n",
       "      <td>0.403864</td>\n",
       "    </tr>\n",
       "    <tr>\n",
       "      <th>2018-01-03</th>\n",
       "      <td>0.733697</td>\n",
       "      <td>-1.623424</td>\n",
       "      <td>0.265715</td>\n",
       "      <td>0.505009</td>\n",
       "    </tr>\n",
       "  </tbody>\n",
       "</table>\n",
       "</div>"
      ],
      "text/plain": [
       "                   A         B         C         D\n",
       "2018-01-01  1.213726  1.223995 -0.514832 -1.373114\n",
       "2018-01-02  1.456675 -0.009855 -0.691739  0.403864\n",
       "2018-01-03  0.733697 -1.623424  0.265715  0.505009"
      ]
     },
     "execution_count": 38,
     "metadata": {},
     "output_type": "execute_result"
    }
   ],
   "source": [
    "df[df.A > 0]"
   ]
  },
  {
   "cell_type": "markdown",
   "metadata": {},
   "source": [
    "### 根据布尔条件来选取DataFrame的数据："
   ]
  },
  {
   "cell_type": "code",
   "execution_count": 39,
   "metadata": {},
   "outputs": [
    {
     "data": {
      "text/html": [
       "<div>\n",
       "<style scoped>\n",
       "    .dataframe tbody tr th:only-of-type {\n",
       "        vertical-align: middle;\n",
       "    }\n",
       "\n",
       "    .dataframe tbody tr th {\n",
       "        vertical-align: top;\n",
       "    }\n",
       "\n",
       "    .dataframe thead th {\n",
       "        text-align: right;\n",
       "    }\n",
       "</style>\n",
       "<table border=\"1\" class=\"dataframe\">\n",
       "  <thead>\n",
       "    <tr style=\"text-align: right;\">\n",
       "      <th></th>\n",
       "      <th>A</th>\n",
       "      <th>B</th>\n",
       "      <th>C</th>\n",
       "      <th>D</th>\n",
       "    </tr>\n",
       "  </thead>\n",
       "  <tbody>\n",
       "    <tr>\n",
       "      <th>2018-01-01</th>\n",
       "      <td>1.213726</td>\n",
       "      <td>1.223995</td>\n",
       "      <td>NaN</td>\n",
       "      <td>NaN</td>\n",
       "    </tr>\n",
       "    <tr>\n",
       "      <th>2018-01-02</th>\n",
       "      <td>1.456675</td>\n",
       "      <td>NaN</td>\n",
       "      <td>NaN</td>\n",
       "      <td>0.403864</td>\n",
       "    </tr>\n",
       "    <tr>\n",
       "      <th>2018-01-03</th>\n",
       "      <td>0.733697</td>\n",
       "      <td>NaN</td>\n",
       "      <td>0.265715</td>\n",
       "      <td>0.505009</td>\n",
       "    </tr>\n",
       "    <tr>\n",
       "      <th>2018-01-04</th>\n",
       "      <td>NaN</td>\n",
       "      <td>NaN</td>\n",
       "      <td>0.725063</td>\n",
       "      <td>NaN</td>\n",
       "    </tr>\n",
       "    <tr>\n",
       "      <th>2018-01-05</th>\n",
       "      <td>NaN</td>\n",
       "      <td>NaN</td>\n",
       "      <td>NaN</td>\n",
       "      <td>NaN</td>\n",
       "    </tr>\n",
       "    <tr>\n",
       "      <th>2018-01-06</th>\n",
       "      <td>NaN</td>\n",
       "      <td>1.482802</td>\n",
       "      <td>0.410181</td>\n",
       "      <td>NaN</td>\n",
       "    </tr>\n",
       "  </tbody>\n",
       "</table>\n",
       "</div>"
      ],
      "text/plain": [
       "                   A         B         C         D\n",
       "2018-01-01  1.213726  1.223995       NaN       NaN\n",
       "2018-01-02  1.456675       NaN       NaN  0.403864\n",
       "2018-01-03  0.733697       NaN  0.265715  0.505009\n",
       "2018-01-04       NaN       NaN  0.725063       NaN\n",
       "2018-01-05       NaN       NaN       NaN       NaN\n",
       "2018-01-06       NaN  1.482802  0.410181       NaN"
      ]
     },
     "execution_count": 39,
     "metadata": {},
     "output_type": "execute_result"
    }
   ],
   "source": [
    "df[df > 0]"
   ]
  },
  {
   "cell_type": "markdown",
   "metadata": {},
   "source": [
    "### 使用isin()方法进行过滤："
   ]
  },
  {
   "cell_type": "code",
   "execution_count": 40,
   "metadata": {},
   "outputs": [],
   "source": [
    "df2 = df.copy()"
   ]
  },
  {
   "cell_type": "code",
   "execution_count": 41,
   "metadata": {},
   "outputs": [],
   "source": [
    "df2['E'] = ['one', 'one','two','three','four','three']"
   ]
  },
  {
   "cell_type": "code",
   "execution_count": 42,
   "metadata": {},
   "outputs": [
    {
     "data": {
      "text/html": [
       "<div>\n",
       "<style scoped>\n",
       "    .dataframe tbody tr th:only-of-type {\n",
       "        vertical-align: middle;\n",
       "    }\n",
       "\n",
       "    .dataframe tbody tr th {\n",
       "        vertical-align: top;\n",
       "    }\n",
       "\n",
       "    .dataframe thead th {\n",
       "        text-align: right;\n",
       "    }\n",
       "</style>\n",
       "<table border=\"1\" class=\"dataframe\">\n",
       "  <thead>\n",
       "    <tr style=\"text-align: right;\">\n",
       "      <th></th>\n",
       "      <th>A</th>\n",
       "      <th>B</th>\n",
       "      <th>C</th>\n",
       "      <th>D</th>\n",
       "      <th>E</th>\n",
       "    </tr>\n",
       "  </thead>\n",
       "  <tbody>\n",
       "    <tr>\n",
       "      <th>2018-01-01</th>\n",
       "      <td>1.213726</td>\n",
       "      <td>1.223995</td>\n",
       "      <td>-0.514832</td>\n",
       "      <td>-1.373114</td>\n",
       "      <td>one</td>\n",
       "    </tr>\n",
       "    <tr>\n",
       "      <th>2018-01-02</th>\n",
       "      <td>1.456675</td>\n",
       "      <td>-0.009855</td>\n",
       "      <td>-0.691739</td>\n",
       "      <td>0.403864</td>\n",
       "      <td>one</td>\n",
       "    </tr>\n",
       "    <tr>\n",
       "      <th>2018-01-03</th>\n",
       "      <td>0.733697</td>\n",
       "      <td>-1.623424</td>\n",
       "      <td>0.265715</td>\n",
       "      <td>0.505009</td>\n",
       "      <td>two</td>\n",
       "    </tr>\n",
       "    <tr>\n",
       "      <th>2018-01-04</th>\n",
       "      <td>-0.175506</td>\n",
       "      <td>-0.404253</td>\n",
       "      <td>0.725063</td>\n",
       "      <td>-0.029984</td>\n",
       "      <td>three</td>\n",
       "    </tr>\n",
       "    <tr>\n",
       "      <th>2018-01-05</th>\n",
       "      <td>-2.081784</td>\n",
       "      <td>-0.847961</td>\n",
       "      <td>-0.187492</td>\n",
       "      <td>-2.720050</td>\n",
       "      <td>four</td>\n",
       "    </tr>\n",
       "    <tr>\n",
       "      <th>2018-01-06</th>\n",
       "      <td>-0.216038</td>\n",
       "      <td>1.482802</td>\n",
       "      <td>0.410181</td>\n",
       "      <td>-0.669965</td>\n",
       "      <td>three</td>\n",
       "    </tr>\n",
       "  </tbody>\n",
       "</table>\n",
       "</div>"
      ],
      "text/plain": [
       "                   A         B         C         D      E\n",
       "2018-01-01  1.213726  1.223995 -0.514832 -1.373114    one\n",
       "2018-01-02  1.456675 -0.009855 -0.691739  0.403864    one\n",
       "2018-01-03  0.733697 -1.623424  0.265715  0.505009    two\n",
       "2018-01-04 -0.175506 -0.404253  0.725063 -0.029984  three\n",
       "2018-01-05 -2.081784 -0.847961 -0.187492 -2.720050   four\n",
       "2018-01-06 -0.216038  1.482802  0.410181 -0.669965  three"
      ]
     },
     "execution_count": 42,
     "metadata": {},
     "output_type": "execute_result"
    }
   ],
   "source": [
    "df2"
   ]
  },
  {
   "cell_type": "code",
   "execution_count": 43,
   "metadata": {},
   "outputs": [
    {
     "data": {
      "text/html": [
       "<div>\n",
       "<style scoped>\n",
       "    .dataframe tbody tr th:only-of-type {\n",
       "        vertical-align: middle;\n",
       "    }\n",
       "\n",
       "    .dataframe tbody tr th {\n",
       "        vertical-align: top;\n",
       "    }\n",
       "\n",
       "    .dataframe thead th {\n",
       "        text-align: right;\n",
       "    }\n",
       "</style>\n",
       "<table border=\"1\" class=\"dataframe\">\n",
       "  <thead>\n",
       "    <tr style=\"text-align: right;\">\n",
       "      <th></th>\n",
       "      <th>A</th>\n",
       "      <th>B</th>\n",
       "      <th>C</th>\n",
       "      <th>D</th>\n",
       "      <th>E</th>\n",
       "    </tr>\n",
       "  </thead>\n",
       "  <tbody>\n",
       "    <tr>\n",
       "      <th>2018-01-03</th>\n",
       "      <td>0.733697</td>\n",
       "      <td>-1.623424</td>\n",
       "      <td>0.265715</td>\n",
       "      <td>0.505009</td>\n",
       "      <td>two</td>\n",
       "    </tr>\n",
       "    <tr>\n",
       "      <th>2018-01-05</th>\n",
       "      <td>-2.081784</td>\n",
       "      <td>-0.847961</td>\n",
       "      <td>-0.187492</td>\n",
       "      <td>-2.720050</td>\n",
       "      <td>four</td>\n",
       "    </tr>\n",
       "  </tbody>\n",
       "</table>\n",
       "</div>"
      ],
      "text/plain": [
       "                   A         B         C         D     E\n",
       "2018-01-03  0.733697 -1.623424  0.265715  0.505009   two\n",
       "2018-01-05 -2.081784 -0.847961 -0.187492 -2.720050  four"
      ]
     },
     "execution_count": 43,
     "metadata": {},
     "output_type": "execute_result"
    }
   ],
   "source": [
    "df2[df2['E'].isin(['two','four'])]"
   ]
  },
  {
   "cell_type": "markdown",
   "metadata": {},
   "source": [
    "### 3.5 设置"
   ]
  },
  {
   "cell_type": "markdown",
   "metadata": {},
   "source": [
    "### 设置新列时，会自动根据索引对齐数据："
   ]
  },
  {
   "cell_type": "code",
   "execution_count": 44,
   "metadata": {},
   "outputs": [],
   "source": [
    "s1 = pd.Series([1,2,3,4,5,6], index=pd.date_range('20180102', periods=6))"
   ]
  },
  {
   "cell_type": "code",
   "execution_count": 45,
   "metadata": {},
   "outputs": [
    {
     "data": {
      "text/plain": [
       "2018-01-02    1\n",
       "2018-01-03    2\n",
       "2018-01-04    3\n",
       "2018-01-05    4\n",
       "2018-01-06    5\n",
       "2018-01-07    6\n",
       "Freq: D, dtype: int64"
      ]
     },
     "execution_count": 45,
     "metadata": {},
     "output_type": "execute_result"
    }
   ],
   "source": [
    "s1"
   ]
  },
  {
   "cell_type": "code",
   "execution_count": 46,
   "metadata": {},
   "outputs": [],
   "source": [
    "df['F'] = s1"
   ]
  },
  {
   "cell_type": "markdown",
   "metadata": {},
   "source": [
    "### 根据列标签来设置新的值："
   ]
  },
  {
   "cell_type": "code",
   "execution_count": 47,
   "metadata": {},
   "outputs": [],
   "source": [
    "df.at[dates[0],'A'] = 0"
   ]
  },
  {
   "cell_type": "markdown",
   "metadata": {},
   "source": [
    "### 根据特定位置来设置新的值："
   ]
  },
  {
   "cell_type": "code",
   "execution_count": 48,
   "metadata": {},
   "outputs": [],
   "source": [
    "df.iat[0,1] = 0"
   ]
  },
  {
   "cell_type": "markdown",
   "metadata": {},
   "source": [
    "### 根据numpy数组来设置一组新值："
   ]
  },
  {
   "cell_type": "code",
   "execution_count": 49,
   "metadata": {},
   "outputs": [],
   "source": [
    "df.loc[:,'D'] = np.array([5] * len(df))"
   ]
  },
  {
   "cell_type": "markdown",
   "metadata": {},
   "source": [
    "### 上述操作后的运行结果："
   ]
  },
  {
   "cell_type": "code",
   "execution_count": 50,
   "metadata": {},
   "outputs": [
    {
     "data": {
      "text/html": [
       "<div>\n",
       "<style scoped>\n",
       "    .dataframe tbody tr th:only-of-type {\n",
       "        vertical-align: middle;\n",
       "    }\n",
       "\n",
       "    .dataframe tbody tr th {\n",
       "        vertical-align: top;\n",
       "    }\n",
       "\n",
       "    .dataframe thead th {\n",
       "        text-align: right;\n",
       "    }\n",
       "</style>\n",
       "<table border=\"1\" class=\"dataframe\">\n",
       "  <thead>\n",
       "    <tr style=\"text-align: right;\">\n",
       "      <th></th>\n",
       "      <th>A</th>\n",
       "      <th>B</th>\n",
       "      <th>C</th>\n",
       "      <th>D</th>\n",
       "      <th>F</th>\n",
       "    </tr>\n",
       "  </thead>\n",
       "  <tbody>\n",
       "    <tr>\n",
       "      <th>2018-01-01</th>\n",
       "      <td>0.000000</td>\n",
       "      <td>0.000000</td>\n",
       "      <td>-0.514832</td>\n",
       "      <td>5</td>\n",
       "      <td>NaN</td>\n",
       "    </tr>\n",
       "    <tr>\n",
       "      <th>2018-01-02</th>\n",
       "      <td>1.456675</td>\n",
       "      <td>-0.009855</td>\n",
       "      <td>-0.691739</td>\n",
       "      <td>5</td>\n",
       "      <td>1.0</td>\n",
       "    </tr>\n",
       "    <tr>\n",
       "      <th>2018-01-03</th>\n",
       "      <td>0.733697</td>\n",
       "      <td>-1.623424</td>\n",
       "      <td>0.265715</td>\n",
       "      <td>5</td>\n",
       "      <td>2.0</td>\n",
       "    </tr>\n",
       "    <tr>\n",
       "      <th>2018-01-04</th>\n",
       "      <td>-0.175506</td>\n",
       "      <td>-0.404253</td>\n",
       "      <td>0.725063</td>\n",
       "      <td>5</td>\n",
       "      <td>3.0</td>\n",
       "    </tr>\n",
       "    <tr>\n",
       "      <th>2018-01-05</th>\n",
       "      <td>-2.081784</td>\n",
       "      <td>-0.847961</td>\n",
       "      <td>-0.187492</td>\n",
       "      <td>5</td>\n",
       "      <td>4.0</td>\n",
       "    </tr>\n",
       "    <tr>\n",
       "      <th>2018-01-06</th>\n",
       "      <td>-0.216038</td>\n",
       "      <td>1.482802</td>\n",
       "      <td>0.410181</td>\n",
       "      <td>5</td>\n",
       "      <td>5.0</td>\n",
       "    </tr>\n",
       "  </tbody>\n",
       "</table>\n",
       "</div>"
      ],
      "text/plain": [
       "                   A         B         C  D    F\n",
       "2018-01-01  0.000000  0.000000 -0.514832  5  NaN\n",
       "2018-01-02  1.456675 -0.009855 -0.691739  5  1.0\n",
       "2018-01-03  0.733697 -1.623424  0.265715  5  2.0\n",
       "2018-01-04 -0.175506 -0.404253  0.725063  5  3.0\n",
       "2018-01-05 -2.081784 -0.847961 -0.187492  5  4.0\n",
       "2018-01-06 -0.216038  1.482802  0.410181  5  5.0"
      ]
     },
     "execution_count": 50,
     "metadata": {},
     "output_type": "execute_result"
    }
   ],
   "source": [
    "df"
   ]
  },
  {
   "cell_type": "markdown",
   "metadata": {},
   "source": [
    "### 使用布尔条件来设置："
   ]
  },
  {
   "cell_type": "code",
   "execution_count": 51,
   "metadata": {},
   "outputs": [],
   "source": [
    "df2 = df.copy()"
   ]
  },
  {
   "cell_type": "code",
   "execution_count": 52,
   "metadata": {},
   "outputs": [],
   "source": [
    "df2[df2 > 0] = -df2"
   ]
  },
  {
   "cell_type": "code",
   "execution_count": 53,
   "metadata": {},
   "outputs": [
    {
     "data": {
      "text/html": [
       "<div>\n",
       "<style scoped>\n",
       "    .dataframe tbody tr th:only-of-type {\n",
       "        vertical-align: middle;\n",
       "    }\n",
       "\n",
       "    .dataframe tbody tr th {\n",
       "        vertical-align: top;\n",
       "    }\n",
       "\n",
       "    .dataframe thead th {\n",
       "        text-align: right;\n",
       "    }\n",
       "</style>\n",
       "<table border=\"1\" class=\"dataframe\">\n",
       "  <thead>\n",
       "    <tr style=\"text-align: right;\">\n",
       "      <th></th>\n",
       "      <th>A</th>\n",
       "      <th>B</th>\n",
       "      <th>C</th>\n",
       "      <th>D</th>\n",
       "      <th>F</th>\n",
       "    </tr>\n",
       "  </thead>\n",
       "  <tbody>\n",
       "    <tr>\n",
       "      <th>2018-01-01</th>\n",
       "      <td>0.000000</td>\n",
       "      <td>0.000000</td>\n",
       "      <td>-0.514832</td>\n",
       "      <td>-5</td>\n",
       "      <td>NaN</td>\n",
       "    </tr>\n",
       "    <tr>\n",
       "      <th>2018-01-02</th>\n",
       "      <td>-1.456675</td>\n",
       "      <td>-0.009855</td>\n",
       "      <td>-0.691739</td>\n",
       "      <td>-5</td>\n",
       "      <td>-1.0</td>\n",
       "    </tr>\n",
       "    <tr>\n",
       "      <th>2018-01-03</th>\n",
       "      <td>-0.733697</td>\n",
       "      <td>-1.623424</td>\n",
       "      <td>-0.265715</td>\n",
       "      <td>-5</td>\n",
       "      <td>-2.0</td>\n",
       "    </tr>\n",
       "    <tr>\n",
       "      <th>2018-01-04</th>\n",
       "      <td>-0.175506</td>\n",
       "      <td>-0.404253</td>\n",
       "      <td>-0.725063</td>\n",
       "      <td>-5</td>\n",
       "      <td>-3.0</td>\n",
       "    </tr>\n",
       "    <tr>\n",
       "      <th>2018-01-05</th>\n",
       "      <td>-2.081784</td>\n",
       "      <td>-0.847961</td>\n",
       "      <td>-0.187492</td>\n",
       "      <td>-5</td>\n",
       "      <td>-4.0</td>\n",
       "    </tr>\n",
       "    <tr>\n",
       "      <th>2018-01-06</th>\n",
       "      <td>-0.216038</td>\n",
       "      <td>-1.482802</td>\n",
       "      <td>-0.410181</td>\n",
       "      <td>-5</td>\n",
       "      <td>-5.0</td>\n",
       "    </tr>\n",
       "  </tbody>\n",
       "</table>\n",
       "</div>"
      ],
      "text/plain": [
       "                   A         B         C  D    F\n",
       "2018-01-01  0.000000  0.000000 -0.514832 -5  NaN\n",
       "2018-01-02 -1.456675 -0.009855 -0.691739 -5 -1.0\n",
       "2018-01-03 -0.733697 -1.623424 -0.265715 -5 -2.0\n",
       "2018-01-04 -0.175506 -0.404253 -0.725063 -5 -3.0\n",
       "2018-01-05 -2.081784 -0.847961 -0.187492 -5 -4.0\n",
       "2018-01-06 -0.216038 -1.482802 -0.410181 -5 -5.0"
      ]
     },
     "execution_count": 53,
     "metadata": {},
     "output_type": "execute_result"
    }
   ],
   "source": [
    "df2"
   ]
  },
  {
   "cell_type": "markdown",
   "metadata": {},
   "source": [
    "## 4.缺失值处理"
   ]
  },
  {
   "cell_type": "markdown",
   "metadata": {},
   "source": [
    "### 在pandas中主要使用np.nan值来表示缺失值，它们默认不参与计算。详情请参考[Missing Data section](http://pandas.pydata.org/pandas-docs/stable/missing_data.html#missing-data)\n",
    "###  使用reindex(重建索引)方法可以对指定轴上的index(索引)进行增、删、改，该操作改变的是一份副本，不会影响原始数据"
   ]
  },
  {
   "cell_type": "code",
   "execution_count": 55,
   "metadata": {},
   "outputs": [],
   "source": [
    "df1 = df.reindex(index=dates[0:4], columns=list(df.columns) + ['E'])"
   ]
  },
  {
   "cell_type": "code",
   "execution_count": 58,
   "metadata": {},
   "outputs": [],
   "source": [
    "df1.loc[dates[0]:dates[1],'E'] = 1"
   ]
  },
  {
   "cell_type": "code",
   "execution_count": 60,
   "metadata": {},
   "outputs": [
    {
     "data": {
      "text/html": [
       "<div>\n",
       "<style scoped>\n",
       "    .dataframe tbody tr th:only-of-type {\n",
       "        vertical-align: middle;\n",
       "    }\n",
       "\n",
       "    .dataframe tbody tr th {\n",
       "        vertical-align: top;\n",
       "    }\n",
       "\n",
       "    .dataframe thead th {\n",
       "        text-align: right;\n",
       "    }\n",
       "</style>\n",
       "<table border=\"1\" class=\"dataframe\">\n",
       "  <thead>\n",
       "    <tr style=\"text-align: right;\">\n",
       "      <th></th>\n",
       "      <th>A</th>\n",
       "      <th>B</th>\n",
       "      <th>C</th>\n",
       "      <th>D</th>\n",
       "      <th>F</th>\n",
       "      <th>E</th>\n",
       "    </tr>\n",
       "  </thead>\n",
       "  <tbody>\n",
       "    <tr>\n",
       "      <th>2018-01-01</th>\n",
       "      <td>0.000000</td>\n",
       "      <td>0.000000</td>\n",
       "      <td>-0.514832</td>\n",
       "      <td>5</td>\n",
       "      <td>NaN</td>\n",
       "      <td>1.0</td>\n",
       "    </tr>\n",
       "    <tr>\n",
       "      <th>2018-01-02</th>\n",
       "      <td>1.456675</td>\n",
       "      <td>-0.009855</td>\n",
       "      <td>-0.691739</td>\n",
       "      <td>5</td>\n",
       "      <td>1.0</td>\n",
       "      <td>1.0</td>\n",
       "    </tr>\n",
       "    <tr>\n",
       "      <th>2018-01-03</th>\n",
       "      <td>0.733697</td>\n",
       "      <td>-1.623424</td>\n",
       "      <td>0.265715</td>\n",
       "      <td>5</td>\n",
       "      <td>2.0</td>\n",
       "      <td>NaN</td>\n",
       "    </tr>\n",
       "    <tr>\n",
       "      <th>2018-01-04</th>\n",
       "      <td>-0.175506</td>\n",
       "      <td>-0.404253</td>\n",
       "      <td>0.725063</td>\n",
       "      <td>5</td>\n",
       "      <td>3.0</td>\n",
       "      <td>NaN</td>\n",
       "    </tr>\n",
       "  </tbody>\n",
       "</table>\n",
       "</div>"
      ],
      "text/plain": [
       "                   A         B         C  D    F    E\n",
       "2018-01-01  0.000000  0.000000 -0.514832  5  NaN  1.0\n",
       "2018-01-02  1.456675 -0.009855 -0.691739  5  1.0  1.0\n",
       "2018-01-03  0.733697 -1.623424  0.265715  5  2.0  NaN\n",
       "2018-01-04 -0.175506 -0.404253  0.725063  5  3.0  NaN"
      ]
     },
     "execution_count": 60,
     "metadata": {},
     "output_type": "execute_result"
    }
   ],
   "source": [
    "df1"
   ]
  },
  {
   "cell_type": "markdown",
   "metadata": {},
   "source": [
    "### 丢弃所有包含缺失值的行："
   ]
  },
  {
   "cell_type": "code",
   "execution_count": 62,
   "metadata": {},
   "outputs": [
    {
     "data": {
      "text/html": [
       "<div>\n",
       "<style scoped>\n",
       "    .dataframe tbody tr th:only-of-type {\n",
       "        vertical-align: middle;\n",
       "    }\n",
       "\n",
       "    .dataframe tbody tr th {\n",
       "        vertical-align: top;\n",
       "    }\n",
       "\n",
       "    .dataframe thead th {\n",
       "        text-align: right;\n",
       "    }\n",
       "</style>\n",
       "<table border=\"1\" class=\"dataframe\">\n",
       "  <thead>\n",
       "    <tr style=\"text-align: right;\">\n",
       "      <th></th>\n",
       "      <th>A</th>\n",
       "      <th>B</th>\n",
       "      <th>C</th>\n",
       "      <th>D</th>\n",
       "      <th>F</th>\n",
       "      <th>E</th>\n",
       "    </tr>\n",
       "  </thead>\n",
       "  <tbody>\n",
       "    <tr>\n",
       "      <th>2018-01-02</th>\n",
       "      <td>1.456675</td>\n",
       "      <td>-0.009855</td>\n",
       "      <td>-0.691739</td>\n",
       "      <td>5</td>\n",
       "      <td>1.0</td>\n",
       "      <td>1.0</td>\n",
       "    </tr>\n",
       "  </tbody>\n",
       "</table>\n",
       "</div>"
      ],
      "text/plain": [
       "                   A         B         C  D    F    E\n",
       "2018-01-02  1.456675 -0.009855 -0.691739  5  1.0  1.0"
      ]
     },
     "execution_count": 62,
     "metadata": {},
     "output_type": "execute_result"
    }
   ],
   "source": [
    "df1.dropna(how='any')"
   ]
  },
  {
   "cell_type": "markdown",
   "metadata": {},
   "source": [
    "### 填充缺失值："
   ]
  },
  {
   "cell_type": "code",
   "execution_count": 64,
   "metadata": {},
   "outputs": [
    {
     "data": {
      "text/html": [
       "<div>\n",
       "<style scoped>\n",
       "    .dataframe tbody tr th:only-of-type {\n",
       "        vertical-align: middle;\n",
       "    }\n",
       "\n",
       "    .dataframe tbody tr th {\n",
       "        vertical-align: top;\n",
       "    }\n",
       "\n",
       "    .dataframe thead th {\n",
       "        text-align: right;\n",
       "    }\n",
       "</style>\n",
       "<table border=\"1\" class=\"dataframe\">\n",
       "  <thead>\n",
       "    <tr style=\"text-align: right;\">\n",
       "      <th></th>\n",
       "      <th>A</th>\n",
       "      <th>B</th>\n",
       "      <th>C</th>\n",
       "      <th>D</th>\n",
       "      <th>F</th>\n",
       "      <th>E</th>\n",
       "    </tr>\n",
       "  </thead>\n",
       "  <tbody>\n",
       "    <tr>\n",
       "      <th>2018-01-01</th>\n",
       "      <td>0.000000</td>\n",
       "      <td>0.000000</td>\n",
       "      <td>-0.514832</td>\n",
       "      <td>5</td>\n",
       "      <td>5.0</td>\n",
       "      <td>1.0</td>\n",
       "    </tr>\n",
       "    <tr>\n",
       "      <th>2018-01-02</th>\n",
       "      <td>1.456675</td>\n",
       "      <td>-0.009855</td>\n",
       "      <td>-0.691739</td>\n",
       "      <td>5</td>\n",
       "      <td>1.0</td>\n",
       "      <td>1.0</td>\n",
       "    </tr>\n",
       "    <tr>\n",
       "      <th>2018-01-03</th>\n",
       "      <td>0.733697</td>\n",
       "      <td>-1.623424</td>\n",
       "      <td>0.265715</td>\n",
       "      <td>5</td>\n",
       "      <td>2.0</td>\n",
       "      <td>5.0</td>\n",
       "    </tr>\n",
       "    <tr>\n",
       "      <th>2018-01-04</th>\n",
       "      <td>-0.175506</td>\n",
       "      <td>-0.404253</td>\n",
       "      <td>0.725063</td>\n",
       "      <td>5</td>\n",
       "      <td>3.0</td>\n",
       "      <td>5.0</td>\n",
       "    </tr>\n",
       "  </tbody>\n",
       "</table>\n",
       "</div>"
      ],
      "text/plain": [
       "                   A         B         C  D    F    E\n",
       "2018-01-01  0.000000  0.000000 -0.514832  5  5.0  1.0\n",
       "2018-01-02  1.456675 -0.009855 -0.691739  5  1.0  1.0\n",
       "2018-01-03  0.733697 -1.623424  0.265715  5  2.0  5.0\n",
       "2018-01-04 -0.175506 -0.404253  0.725063  5  3.0  5.0"
      ]
     },
     "execution_count": 64,
     "metadata": {},
     "output_type": "execute_result"
    }
   ],
   "source": [
    "df1.fillna(value=5)"
   ]
  },
  {
   "cell_type": "markdown",
   "metadata": {},
   "source": [
    "### 使用isnull方法来判断DataFrame中每个值是否为空："
   ]
  },
  {
   "cell_type": "code",
   "execution_count": 66,
   "metadata": {},
   "outputs": [
    {
     "data": {
      "text/html": [
       "<div>\n",
       "<style scoped>\n",
       "    .dataframe tbody tr th:only-of-type {\n",
       "        vertical-align: middle;\n",
       "    }\n",
       "\n",
       "    .dataframe tbody tr th {\n",
       "        vertical-align: top;\n",
       "    }\n",
       "\n",
       "    .dataframe thead th {\n",
       "        text-align: right;\n",
       "    }\n",
       "</style>\n",
       "<table border=\"1\" class=\"dataframe\">\n",
       "  <thead>\n",
       "    <tr style=\"text-align: right;\">\n",
       "      <th></th>\n",
       "      <th>A</th>\n",
       "      <th>B</th>\n",
       "      <th>C</th>\n",
       "      <th>D</th>\n",
       "      <th>F</th>\n",
       "      <th>E</th>\n",
       "    </tr>\n",
       "  </thead>\n",
       "  <tbody>\n",
       "    <tr>\n",
       "      <th>2018-01-01</th>\n",
       "      <td>False</td>\n",
       "      <td>False</td>\n",
       "      <td>False</td>\n",
       "      <td>False</td>\n",
       "      <td>True</td>\n",
       "      <td>False</td>\n",
       "    </tr>\n",
       "    <tr>\n",
       "      <th>2018-01-02</th>\n",
       "      <td>False</td>\n",
       "      <td>False</td>\n",
       "      <td>False</td>\n",
       "      <td>False</td>\n",
       "      <td>False</td>\n",
       "      <td>False</td>\n",
       "    </tr>\n",
       "    <tr>\n",
       "      <th>2018-01-03</th>\n",
       "      <td>False</td>\n",
       "      <td>False</td>\n",
       "      <td>False</td>\n",
       "      <td>False</td>\n",
       "      <td>False</td>\n",
       "      <td>True</td>\n",
       "    </tr>\n",
       "    <tr>\n",
       "      <th>2018-01-04</th>\n",
       "      <td>False</td>\n",
       "      <td>False</td>\n",
       "      <td>False</td>\n",
       "      <td>False</td>\n",
       "      <td>False</td>\n",
       "      <td>True</td>\n",
       "    </tr>\n",
       "  </tbody>\n",
       "</table>\n",
       "</div>"
      ],
      "text/plain": [
       "                A      B      C      D      F      E\n",
       "2018-01-01  False  False  False  False   True  False\n",
       "2018-01-02  False  False  False  False  False  False\n",
       "2018-01-03  False  False  False  False  False   True\n",
       "2018-01-04  False  False  False  False  False   True"
      ]
     },
     "execution_count": 66,
     "metadata": {},
     "output_type": "execute_result"
    }
   ],
   "source": [
    "pd.isna(df1)"
   ]
  },
  {
   "cell_type": "markdown",
   "metadata": {},
   "source": [
    "## 5.操作"
   ]
  },
  {
   "cell_type": "markdown",
   "metadata": {},
   "source": [
    "### 详情参见[Basic section on Binary Ops](http://pandas.pydata.org/pandas-docs/stable/basics.html#basics-binop)"
   ]
  },
  {
   "cell_type": "markdown",
   "metadata": {},
   "source": [
    "### 5.1 统计"
   ]
  },
  {
   "cell_type": "markdown",
   "metadata": {},
   "source": [
    "### 统计计算操作通常不会将空值纳入计算\n",
    "### 进行描述性统计："
   ]
  },
  {
   "cell_type": "code",
   "execution_count": 67,
   "metadata": {},
   "outputs": [
    {
     "data": {
      "text/plain": [
       "A   -0.047159\n",
       "B   -0.233782\n",
       "C    0.001149\n",
       "D    5.000000\n",
       "F    3.000000\n",
       "dtype: float64"
      ]
     },
     "execution_count": 67,
     "metadata": {},
     "output_type": "execute_result"
    }
   ],
   "source": [
    "df.mean()"
   ]
  },
  {
   "cell_type": "markdown",
   "metadata": {},
   "source": [
    "### 同样，对列进行上述操作："
   ]
  },
  {
   "cell_type": "code",
   "execution_count": 68,
   "metadata": {},
   "outputs": [
    {
     "data": {
      "text/plain": [
       "2018-01-01    1.121292\n",
       "2018-01-02    1.351016\n",
       "2018-01-03    1.275198\n",
       "2018-01-04    1.629061\n",
       "2018-01-05    1.176553\n",
       "2018-01-06    2.335389\n",
       "Freq: D, dtype: float64"
      ]
     },
     "execution_count": 68,
     "metadata": {},
     "output_type": "execute_result"
    }
   ],
   "source": [
    "df.mean(1)"
   ]
  },
  {
   "cell_type": "markdown",
   "metadata": {},
   "source": [
    "### 如果要操作不同维度的对象，则需要先进行对齐。Pandas会自动的沿着指定的维度进行广播："
   ]
  },
  {
   "cell_type": "code",
   "execution_count": 90,
   "metadata": {},
   "outputs": [],
   "source": [
    "s = pd.Series([1,3,5,np.nan,6,8], index=dates).shift(2)"
   ]
  },
  {
   "cell_type": "code",
   "execution_count": 91,
   "metadata": {},
   "outputs": [
    {
     "data": {
      "text/plain": [
       "2018-01-01    NaN\n",
       "2018-01-02    NaN\n",
       "2018-01-03    1.0\n",
       "2018-01-04    3.0\n",
       "2018-01-05    5.0\n",
       "2018-01-06    NaN\n",
       "Freq: D, dtype: float64"
      ]
     },
     "execution_count": 91,
     "metadata": {},
     "output_type": "execute_result"
    }
   ],
   "source": [
    "s"
   ]
  },
  {
   "cell_type": "code",
   "execution_count": 92,
   "metadata": {},
   "outputs": [
    {
     "data": {
      "text/html": [
       "<div>\n",
       "<style scoped>\n",
       "    .dataframe tbody tr th:only-of-type {\n",
       "        vertical-align: middle;\n",
       "    }\n",
       "\n",
       "    .dataframe tbody tr th {\n",
       "        vertical-align: top;\n",
       "    }\n",
       "\n",
       "    .dataframe thead th {\n",
       "        text-align: right;\n",
       "    }\n",
       "</style>\n",
       "<table border=\"1\" class=\"dataframe\">\n",
       "  <thead>\n",
       "    <tr style=\"text-align: right;\">\n",
       "      <th></th>\n",
       "      <th>A</th>\n",
       "      <th>B</th>\n",
       "      <th>C</th>\n",
       "      <th>D</th>\n",
       "      <th>F</th>\n",
       "    </tr>\n",
       "  </thead>\n",
       "  <tbody>\n",
       "    <tr>\n",
       "      <th>2018-01-01</th>\n",
       "      <td>NaN</td>\n",
       "      <td>NaN</td>\n",
       "      <td>NaN</td>\n",
       "      <td>NaN</td>\n",
       "      <td>NaN</td>\n",
       "    </tr>\n",
       "    <tr>\n",
       "      <th>2018-01-02</th>\n",
       "      <td>NaN</td>\n",
       "      <td>NaN</td>\n",
       "      <td>NaN</td>\n",
       "      <td>NaN</td>\n",
       "      <td>NaN</td>\n",
       "    </tr>\n",
       "    <tr>\n",
       "      <th>2018-01-03</th>\n",
       "      <td>-0.266303</td>\n",
       "      <td>-2.623424</td>\n",
       "      <td>-0.734285</td>\n",
       "      <td>4.0</td>\n",
       "      <td>1.0</td>\n",
       "    </tr>\n",
       "    <tr>\n",
       "      <th>2018-01-04</th>\n",
       "      <td>-3.175506</td>\n",
       "      <td>-3.404253</td>\n",
       "      <td>-2.274937</td>\n",
       "      <td>2.0</td>\n",
       "      <td>0.0</td>\n",
       "    </tr>\n",
       "    <tr>\n",
       "      <th>2018-01-05</th>\n",
       "      <td>-7.081784</td>\n",
       "      <td>-5.847961</td>\n",
       "      <td>-5.187492</td>\n",
       "      <td>0.0</td>\n",
       "      <td>-1.0</td>\n",
       "    </tr>\n",
       "    <tr>\n",
       "      <th>2018-01-06</th>\n",
       "      <td>NaN</td>\n",
       "      <td>NaN</td>\n",
       "      <td>NaN</td>\n",
       "      <td>NaN</td>\n",
       "      <td>NaN</td>\n",
       "    </tr>\n",
       "  </tbody>\n",
       "</table>\n",
       "</div>"
      ],
      "text/plain": [
       "                   A         B         C    D    F\n",
       "2018-01-01       NaN       NaN       NaN  NaN  NaN\n",
       "2018-01-02       NaN       NaN       NaN  NaN  NaN\n",
       "2018-01-03 -0.266303 -2.623424 -0.734285  4.0  1.0\n",
       "2018-01-04 -3.175506 -3.404253 -2.274937  2.0  0.0\n",
       "2018-01-05 -7.081784 -5.847961 -5.187492  0.0 -1.0\n",
       "2018-01-06       NaN       NaN       NaN  NaN  NaN"
      ]
     },
     "execution_count": 92,
     "metadata": {},
     "output_type": "execute_result"
    }
   ],
   "source": [
    "df.sub(s, axis='index')"
   ]
  },
  {
   "cell_type": "markdown",
   "metadata": {},
   "source": [
    "### 5.2 Apply操作"
   ]
  },
  {
   "cell_type": "markdown",
   "metadata": {},
   "source": [
    "### 使用apply可以将函数应用到数据中"
   ]
  },
  {
   "cell_type": "code",
   "execution_count": 77,
   "metadata": {},
   "outputs": [
    {
     "data": {
      "text/html": [
       "<div>\n",
       "<style scoped>\n",
       "    .dataframe tbody tr th:only-of-type {\n",
       "        vertical-align: middle;\n",
       "    }\n",
       "\n",
       "    .dataframe tbody tr th {\n",
       "        vertical-align: top;\n",
       "    }\n",
       "\n",
       "    .dataframe thead th {\n",
       "        text-align: right;\n",
       "    }\n",
       "</style>\n",
       "<table border=\"1\" class=\"dataframe\">\n",
       "  <thead>\n",
       "    <tr style=\"text-align: right;\">\n",
       "      <th></th>\n",
       "      <th>A</th>\n",
       "      <th>B</th>\n",
       "      <th>C</th>\n",
       "      <th>D</th>\n",
       "      <th>F</th>\n",
       "    </tr>\n",
       "  </thead>\n",
       "  <tbody>\n",
       "    <tr>\n",
       "      <th>2018-01-01</th>\n",
       "      <td>0.000000</td>\n",
       "      <td>0.000000</td>\n",
       "      <td>-0.514832</td>\n",
       "      <td>5</td>\n",
       "      <td>NaN</td>\n",
       "    </tr>\n",
       "    <tr>\n",
       "      <th>2018-01-02</th>\n",
       "      <td>1.456675</td>\n",
       "      <td>-0.009855</td>\n",
       "      <td>-1.206571</td>\n",
       "      <td>10</td>\n",
       "      <td>1.0</td>\n",
       "    </tr>\n",
       "    <tr>\n",
       "      <th>2018-01-03</th>\n",
       "      <td>2.190373</td>\n",
       "      <td>-1.633278</td>\n",
       "      <td>-0.940856</td>\n",
       "      <td>15</td>\n",
       "      <td>3.0</td>\n",
       "    </tr>\n",
       "    <tr>\n",
       "      <th>2018-01-04</th>\n",
       "      <td>2.014867</td>\n",
       "      <td>-2.037531</td>\n",
       "      <td>-0.215793</td>\n",
       "      <td>20</td>\n",
       "      <td>6.0</td>\n",
       "    </tr>\n",
       "    <tr>\n",
       "      <th>2018-01-05</th>\n",
       "      <td>-0.066916</td>\n",
       "      <td>-2.885492</td>\n",
       "      <td>-0.403285</td>\n",
       "      <td>25</td>\n",
       "      <td>10.0</td>\n",
       "    </tr>\n",
       "    <tr>\n",
       "      <th>2018-01-06</th>\n",
       "      <td>-0.282955</td>\n",
       "      <td>-1.402690</td>\n",
       "      <td>0.006896</td>\n",
       "      <td>30</td>\n",
       "      <td>15.0</td>\n",
       "    </tr>\n",
       "  </tbody>\n",
       "</table>\n",
       "</div>"
      ],
      "text/plain": [
       "                   A         B         C   D     F\n",
       "2018-01-01  0.000000  0.000000 -0.514832   5   NaN\n",
       "2018-01-02  1.456675 -0.009855 -1.206571  10   1.0\n",
       "2018-01-03  2.190373 -1.633278 -0.940856  15   3.0\n",
       "2018-01-04  2.014867 -2.037531 -0.215793  20   6.0\n",
       "2018-01-05 -0.066916 -2.885492 -0.403285  25  10.0\n",
       "2018-01-06 -0.282955 -1.402690  0.006896  30  15.0"
      ]
     },
     "execution_count": 77,
     "metadata": {},
     "output_type": "execute_result"
    }
   ],
   "source": [
    "df.apply(np.cumsum)"
   ]
  },
  {
   "cell_type": "code",
   "execution_count": 79,
   "metadata": {},
   "outputs": [
    {
     "data": {
      "text/plain": [
       "A    3.538459\n",
       "B    3.106225\n",
       "C    1.416802\n",
       "D    0.000000\n",
       "F    4.000000\n",
       "dtype: float64"
      ]
     },
     "execution_count": 79,
     "metadata": {},
     "output_type": "execute_result"
    }
   ],
   "source": [
    "df.apply(lambda x: x.max() - x.min())"
   ]
  },
  {
   "cell_type": "markdown",
   "metadata": {},
   "source": [
    "### 5.3 直方图"
   ]
  },
  {
   "cell_type": "markdown",
   "metadata": {},
   "source": [
    "### 点此了解详情[Histogramming and Discretization](http://pandas.pydata.org/pandas-docs/stable/basics.html#basics-discretization)"
   ]
  },
  {
   "cell_type": "code",
   "execution_count": 81,
   "metadata": {},
   "outputs": [],
   "source": [
    "s = pd.Series(np.random.randint(0, 7, size=10))"
   ]
  },
  {
   "cell_type": "code",
   "execution_count": 83,
   "metadata": {},
   "outputs": [
    {
     "data": {
      "text/plain": [
       "0    6\n",
       "1    4\n",
       "2    0\n",
       "3    3\n",
       "4    1\n",
       "5    0\n",
       "6    1\n",
       "7    0\n",
       "8    0\n",
       "9    5\n",
       "dtype: int32"
      ]
     },
     "execution_count": 83,
     "metadata": {},
     "output_type": "execute_result"
    }
   ],
   "source": [
    "s"
   ]
  },
  {
   "cell_type": "code",
   "execution_count": 86,
   "metadata": {},
   "outputs": [
    {
     "data": {
      "text/plain": [
       "0    4\n",
       "1    2\n",
       "6    1\n",
       "5    1\n",
       "4    1\n",
       "3    1\n",
       "dtype: int64"
      ]
     },
     "execution_count": 86,
     "metadata": {},
     "output_type": "execute_result"
    }
   ],
   "source": [
    "s.value_counts()"
   ]
  },
  {
   "cell_type": "markdown",
   "metadata": {},
   "source": [
    "### 5.4 字符串方法"
   ]
  },
  {
   "cell_type": "markdown",
   "metadata": {},
   "source": [
    "### 在Series中内置了一系列处理字符串的方法，可以用来方便地操作数组中的相关元素，就像下面这段代码。需要注意的是，针对字符串中的模式匹配默认使用正则表达式（[regular expressions](https://docs.python.org/2/library/re.html)）（在某些情况下总是使用它）。点此了解更多[Vectorized String Methods](http://pandas.pydata.org/pandas-docs/stable/text.html#text-string-methods)"
   ]
  },
  {
   "cell_type": "code",
   "execution_count": 94,
   "metadata": {},
   "outputs": [],
   "source": [
    "s = pd.Series(['A', 'B', 'C', 'Aaba', 'Baca', np.nan, 'CABA', 'dog', 'cat'])"
   ]
  },
  {
   "cell_type": "code",
   "execution_count": 96,
   "metadata": {},
   "outputs": [
    {
     "data": {
      "text/plain": [
       "0       a\n",
       "1       b\n",
       "2       c\n",
       "3    aaba\n",
       "4    baca\n",
       "5     NaN\n",
       "6    caba\n",
       "7     dog\n",
       "8     cat\n",
       "dtype: object"
      ]
     },
     "execution_count": 96,
     "metadata": {},
     "output_type": "execute_result"
    }
   ],
   "source": [
    "s.str.lower()"
   ]
  },
  {
   "cell_type": "markdown",
   "metadata": {},
   "source": [
    "## 6.合并"
   ]
  },
  {
   "cell_type": "markdown",
   "metadata": {},
   "source": [
    "### 6.1 拼接（concat）"
   ]
  },
  {
   "cell_type": "markdown",
   "metadata": {},
   "source": [
    "### Pandas提供了多种方法，能够轻松地对Series、DataFrame和Panel对象进行各种符合各种逻辑关系的合并操作。\n",
    "### 点此查看[Merging section](http://pandas.pydata.org/pandas-docs/stable/merging.html#merging)"
   ]
  },
  {
   "cell_type": "markdown",
   "metadata": {},
   "source": [
    "### 使用concat()来拼接Pandas的对象："
   ]
  },
  {
   "cell_type": "code",
   "execution_count": 98,
   "metadata": {},
   "outputs": [],
   "source": [
    "df = pd.DataFrame(np.random.randn(10, 4))"
   ]
  },
  {
   "cell_type": "code",
   "execution_count": 99,
   "metadata": {},
   "outputs": [
    {
     "data": {
      "text/html": [
       "<div>\n",
       "<style scoped>\n",
       "    .dataframe tbody tr th:only-of-type {\n",
       "        vertical-align: middle;\n",
       "    }\n",
       "\n",
       "    .dataframe tbody tr th {\n",
       "        vertical-align: top;\n",
       "    }\n",
       "\n",
       "    .dataframe thead th {\n",
       "        text-align: right;\n",
       "    }\n",
       "</style>\n",
       "<table border=\"1\" class=\"dataframe\">\n",
       "  <thead>\n",
       "    <tr style=\"text-align: right;\">\n",
       "      <th></th>\n",
       "      <th>0</th>\n",
       "      <th>1</th>\n",
       "      <th>2</th>\n",
       "      <th>3</th>\n",
       "    </tr>\n",
       "  </thead>\n",
       "  <tbody>\n",
       "    <tr>\n",
       "      <th>0</th>\n",
       "      <td>-1.352061</td>\n",
       "      <td>1.490407</td>\n",
       "      <td>1.176897</td>\n",
       "      <td>1.031591</td>\n",
       "    </tr>\n",
       "    <tr>\n",
       "      <th>1</th>\n",
       "      <td>0.284422</td>\n",
       "      <td>-0.583539</td>\n",
       "      <td>-1.567895</td>\n",
       "      <td>0.419998</td>\n",
       "    </tr>\n",
       "    <tr>\n",
       "      <th>2</th>\n",
       "      <td>1.526335</td>\n",
       "      <td>0.748897</td>\n",
       "      <td>0.554140</td>\n",
       "      <td>-0.519019</td>\n",
       "    </tr>\n",
       "    <tr>\n",
       "      <th>3</th>\n",
       "      <td>-0.152286</td>\n",
       "      <td>0.571290</td>\n",
       "      <td>0.606270</td>\n",
       "      <td>1.781526</td>\n",
       "    </tr>\n",
       "    <tr>\n",
       "      <th>4</th>\n",
       "      <td>-1.979262</td>\n",
       "      <td>1.171137</td>\n",
       "      <td>-0.954055</td>\n",
       "      <td>-1.738126</td>\n",
       "    </tr>\n",
       "    <tr>\n",
       "      <th>5</th>\n",
       "      <td>-1.274991</td>\n",
       "      <td>-0.733998</td>\n",
       "      <td>-0.540678</td>\n",
       "      <td>0.366394</td>\n",
       "    </tr>\n",
       "    <tr>\n",
       "      <th>6</th>\n",
       "      <td>-1.073468</td>\n",
       "      <td>-1.830915</td>\n",
       "      <td>0.295939</td>\n",
       "      <td>1.384523</td>\n",
       "    </tr>\n",
       "    <tr>\n",
       "      <th>7</th>\n",
       "      <td>-0.422170</td>\n",
       "      <td>0.200351</td>\n",
       "      <td>0.399717</td>\n",
       "      <td>-0.128063</td>\n",
       "    </tr>\n",
       "    <tr>\n",
       "      <th>8</th>\n",
       "      <td>0.535442</td>\n",
       "      <td>0.772159</td>\n",
       "      <td>0.864160</td>\n",
       "      <td>-0.155936</td>\n",
       "    </tr>\n",
       "    <tr>\n",
       "      <th>9</th>\n",
       "      <td>-0.083036</td>\n",
       "      <td>0.729206</td>\n",
       "      <td>0.345693</td>\n",
       "      <td>-0.863475</td>\n",
       "    </tr>\n",
       "  </tbody>\n",
       "</table>\n",
       "</div>"
      ],
      "text/plain": [
       "          0         1         2         3\n",
       "0 -1.352061  1.490407  1.176897  1.031591\n",
       "1  0.284422 -0.583539 -1.567895  0.419998\n",
       "2  1.526335  0.748897  0.554140 -0.519019\n",
       "3 -0.152286  0.571290  0.606270  1.781526\n",
       "4 -1.979262  1.171137 -0.954055 -1.738126\n",
       "5 -1.274991 -0.733998 -0.540678  0.366394\n",
       "6 -1.073468 -1.830915  0.295939  1.384523\n",
       "7 -0.422170  0.200351  0.399717 -0.128063\n",
       "8  0.535442  0.772159  0.864160 -0.155936\n",
       "9 -0.083036  0.729206  0.345693 -0.863475"
      ]
     },
     "execution_count": 99,
     "metadata": {},
     "output_type": "execute_result"
    }
   ],
   "source": [
    "df"
   ]
  },
  {
   "cell_type": "code",
   "execution_count": 103,
   "metadata": {},
   "outputs": [],
   "source": [
    "# 把df拆分成几块\n",
    "pieces = [df[:3], df[3:7], df[7:]]"
   ]
  },
  {
   "cell_type": "code",
   "execution_count": 102,
   "metadata": {},
   "outputs": [
    {
     "data": {
      "text/html": [
       "<div>\n",
       "<style scoped>\n",
       "    .dataframe tbody tr th:only-of-type {\n",
       "        vertical-align: middle;\n",
       "    }\n",
       "\n",
       "    .dataframe tbody tr th {\n",
       "        vertical-align: top;\n",
       "    }\n",
       "\n",
       "    .dataframe thead th {\n",
       "        text-align: right;\n",
       "    }\n",
       "</style>\n",
       "<table border=\"1\" class=\"dataframe\">\n",
       "  <thead>\n",
       "    <tr style=\"text-align: right;\">\n",
       "      <th></th>\n",
       "      <th>0</th>\n",
       "      <th>1</th>\n",
       "      <th>2</th>\n",
       "      <th>3</th>\n",
       "    </tr>\n",
       "  </thead>\n",
       "  <tbody>\n",
       "    <tr>\n",
       "      <th>0</th>\n",
       "      <td>-1.352061</td>\n",
       "      <td>1.490407</td>\n",
       "      <td>1.176897</td>\n",
       "      <td>1.031591</td>\n",
       "    </tr>\n",
       "    <tr>\n",
       "      <th>1</th>\n",
       "      <td>0.284422</td>\n",
       "      <td>-0.583539</td>\n",
       "      <td>-1.567895</td>\n",
       "      <td>0.419998</td>\n",
       "    </tr>\n",
       "    <tr>\n",
       "      <th>2</th>\n",
       "      <td>1.526335</td>\n",
       "      <td>0.748897</td>\n",
       "      <td>0.554140</td>\n",
       "      <td>-0.519019</td>\n",
       "    </tr>\n",
       "    <tr>\n",
       "      <th>3</th>\n",
       "      <td>-0.152286</td>\n",
       "      <td>0.571290</td>\n",
       "      <td>0.606270</td>\n",
       "      <td>1.781526</td>\n",
       "    </tr>\n",
       "    <tr>\n",
       "      <th>4</th>\n",
       "      <td>-1.979262</td>\n",
       "      <td>1.171137</td>\n",
       "      <td>-0.954055</td>\n",
       "      <td>-1.738126</td>\n",
       "    </tr>\n",
       "    <tr>\n",
       "      <th>5</th>\n",
       "      <td>-1.274991</td>\n",
       "      <td>-0.733998</td>\n",
       "      <td>-0.540678</td>\n",
       "      <td>0.366394</td>\n",
       "    </tr>\n",
       "    <tr>\n",
       "      <th>6</th>\n",
       "      <td>-1.073468</td>\n",
       "      <td>-1.830915</td>\n",
       "      <td>0.295939</td>\n",
       "      <td>1.384523</td>\n",
       "    </tr>\n",
       "    <tr>\n",
       "      <th>7</th>\n",
       "      <td>-0.422170</td>\n",
       "      <td>0.200351</td>\n",
       "      <td>0.399717</td>\n",
       "      <td>-0.128063</td>\n",
       "    </tr>\n",
       "    <tr>\n",
       "      <th>8</th>\n",
       "      <td>0.535442</td>\n",
       "      <td>0.772159</td>\n",
       "      <td>0.864160</td>\n",
       "      <td>-0.155936</td>\n",
       "    </tr>\n",
       "    <tr>\n",
       "      <th>9</th>\n",
       "      <td>-0.083036</td>\n",
       "      <td>0.729206</td>\n",
       "      <td>0.345693</td>\n",
       "      <td>-0.863475</td>\n",
       "    </tr>\n",
       "  </tbody>\n",
       "</table>\n",
       "</div>"
      ],
      "text/plain": [
       "          0         1         2         3\n",
       "0 -1.352061  1.490407  1.176897  1.031591\n",
       "1  0.284422 -0.583539 -1.567895  0.419998\n",
       "2  1.526335  0.748897  0.554140 -0.519019\n",
       "3 -0.152286  0.571290  0.606270  1.781526\n",
       "4 -1.979262  1.171137 -0.954055 -1.738126\n",
       "5 -1.274991 -0.733998 -0.540678  0.366394\n",
       "6 -1.073468 -1.830915  0.295939  1.384523\n",
       "7 -0.422170  0.200351  0.399717 -0.128063\n",
       "8  0.535442  0.772159  0.864160 -0.155936\n",
       "9 -0.083036  0.729206  0.345693 -0.863475"
      ]
     },
     "execution_count": 102,
     "metadata": {},
     "output_type": "execute_result"
    }
   ],
   "source": [
    "pd.concat(pieces)"
   ]
  },
  {
   "cell_type": "markdown",
   "metadata": {},
   "source": [
    "### 6.2 连接（join）"
   ]
  },
  {
   "cell_type": "markdown",
   "metadata": {},
   "source": [
    "### 类似SQL里的join操作，点此了解[Database style joining](http://pandas.pydata.org/pandas-docs/stable/merging.html#merging-join)"
   ]
  },
  {
   "cell_type": "code",
   "execution_count": 104,
   "metadata": {},
   "outputs": [],
   "source": [
    "left = pd.DataFrame({'key': ['foo', 'foo'], 'lval': [1, 2]})"
   ]
  },
  {
   "cell_type": "code",
   "execution_count": 105,
   "metadata": {},
   "outputs": [],
   "source": [
    "right = pd.DataFrame({'key': ['foo', 'foo'], 'rval': [4, 5]})"
   ]
  },
  {
   "cell_type": "code",
   "execution_count": 106,
   "metadata": {},
   "outputs": [
    {
     "data": {
      "text/html": [
       "<div>\n",
       "<style scoped>\n",
       "    .dataframe tbody tr th:only-of-type {\n",
       "        vertical-align: middle;\n",
       "    }\n",
       "\n",
       "    .dataframe tbody tr th {\n",
       "        vertical-align: top;\n",
       "    }\n",
       "\n",
       "    .dataframe thead th {\n",
       "        text-align: right;\n",
       "    }\n",
       "</style>\n",
       "<table border=\"1\" class=\"dataframe\">\n",
       "  <thead>\n",
       "    <tr style=\"text-align: right;\">\n",
       "      <th></th>\n",
       "      <th>key</th>\n",
       "      <th>lval</th>\n",
       "    </tr>\n",
       "  </thead>\n",
       "  <tbody>\n",
       "    <tr>\n",
       "      <th>0</th>\n",
       "      <td>foo</td>\n",
       "      <td>1</td>\n",
       "    </tr>\n",
       "    <tr>\n",
       "      <th>1</th>\n",
       "      <td>foo</td>\n",
       "      <td>2</td>\n",
       "    </tr>\n",
       "  </tbody>\n",
       "</table>\n",
       "</div>"
      ],
      "text/plain": [
       "   key  lval\n",
       "0  foo     1\n",
       "1  foo     2"
      ]
     },
     "execution_count": 106,
     "metadata": {},
     "output_type": "execute_result"
    }
   ],
   "source": [
    "left"
   ]
  },
  {
   "cell_type": "code",
   "execution_count": 107,
   "metadata": {},
   "outputs": [
    {
     "data": {
      "text/html": [
       "<div>\n",
       "<style scoped>\n",
       "    .dataframe tbody tr th:only-of-type {\n",
       "        vertical-align: middle;\n",
       "    }\n",
       "\n",
       "    .dataframe tbody tr th {\n",
       "        vertical-align: top;\n",
       "    }\n",
       "\n",
       "    .dataframe thead th {\n",
       "        text-align: right;\n",
       "    }\n",
       "</style>\n",
       "<table border=\"1\" class=\"dataframe\">\n",
       "  <thead>\n",
       "    <tr style=\"text-align: right;\">\n",
       "      <th></th>\n",
       "      <th>key</th>\n",
       "      <th>rval</th>\n",
       "    </tr>\n",
       "  </thead>\n",
       "  <tbody>\n",
       "    <tr>\n",
       "      <th>0</th>\n",
       "      <td>foo</td>\n",
       "      <td>4</td>\n",
       "    </tr>\n",
       "    <tr>\n",
       "      <th>1</th>\n",
       "      <td>foo</td>\n",
       "      <td>5</td>\n",
       "    </tr>\n",
       "  </tbody>\n",
       "</table>\n",
       "</div>"
      ],
      "text/plain": [
       "   key  rval\n",
       "0  foo     4\n",
       "1  foo     5"
      ]
     },
     "execution_count": 107,
     "metadata": {},
     "output_type": "execute_result"
    }
   ],
   "source": [
    "right"
   ]
  },
  {
   "cell_type": "code",
   "execution_count": 108,
   "metadata": {},
   "outputs": [
    {
     "data": {
      "text/html": [
       "<div>\n",
       "<style scoped>\n",
       "    .dataframe tbody tr th:only-of-type {\n",
       "        vertical-align: middle;\n",
       "    }\n",
       "\n",
       "    .dataframe tbody tr th {\n",
       "        vertical-align: top;\n",
       "    }\n",
       "\n",
       "    .dataframe thead th {\n",
       "        text-align: right;\n",
       "    }\n",
       "</style>\n",
       "<table border=\"1\" class=\"dataframe\">\n",
       "  <thead>\n",
       "    <tr style=\"text-align: right;\">\n",
       "      <th></th>\n",
       "      <th>key</th>\n",
       "      <th>lval</th>\n",
       "      <th>rval</th>\n",
       "    </tr>\n",
       "  </thead>\n",
       "  <tbody>\n",
       "    <tr>\n",
       "      <th>0</th>\n",
       "      <td>foo</td>\n",
       "      <td>1</td>\n",
       "      <td>4</td>\n",
       "    </tr>\n",
       "    <tr>\n",
       "      <th>1</th>\n",
       "      <td>foo</td>\n",
       "      <td>1</td>\n",
       "      <td>5</td>\n",
       "    </tr>\n",
       "    <tr>\n",
       "      <th>2</th>\n",
       "      <td>foo</td>\n",
       "      <td>2</td>\n",
       "      <td>4</td>\n",
       "    </tr>\n",
       "    <tr>\n",
       "      <th>3</th>\n",
       "      <td>foo</td>\n",
       "      <td>2</td>\n",
       "      <td>5</td>\n",
       "    </tr>\n",
       "  </tbody>\n",
       "</table>\n",
       "</div>"
      ],
      "text/plain": [
       "   key  lval  rval\n",
       "0  foo     1     4\n",
       "1  foo     1     5\n",
       "2  foo     2     4\n",
       "3  foo     2     5"
      ]
     },
     "execution_count": 108,
     "metadata": {},
     "output_type": "execute_result"
    }
   ],
   "source": [
    "pd.merge(left, right, on='key')"
   ]
  },
  {
   "cell_type": "markdown",
   "metadata": {},
   "source": [
    "### 另一种情况的范例:"
   ]
  },
  {
   "cell_type": "code",
   "execution_count": 109,
   "metadata": {},
   "outputs": [],
   "source": [
    "left = pd.DataFrame({'key': ['foo', 'bar'], 'lval': [1, 2]})"
   ]
  },
  {
   "cell_type": "code",
   "execution_count": 110,
   "metadata": {},
   "outputs": [],
   "source": [
    "right = pd.DataFrame({'key': ['foo', 'bar'], 'rval': [4, 5]})"
   ]
  },
  {
   "cell_type": "code",
   "execution_count": 111,
   "metadata": {},
   "outputs": [
    {
     "data": {
      "text/html": [
       "<div>\n",
       "<style scoped>\n",
       "    .dataframe tbody tr th:only-of-type {\n",
       "        vertical-align: middle;\n",
       "    }\n",
       "\n",
       "    .dataframe tbody tr th {\n",
       "        vertical-align: top;\n",
       "    }\n",
       "\n",
       "    .dataframe thead th {\n",
       "        text-align: right;\n",
       "    }\n",
       "</style>\n",
       "<table border=\"1\" class=\"dataframe\">\n",
       "  <thead>\n",
       "    <tr style=\"text-align: right;\">\n",
       "      <th></th>\n",
       "      <th>key</th>\n",
       "      <th>lval</th>\n",
       "    </tr>\n",
       "  </thead>\n",
       "  <tbody>\n",
       "    <tr>\n",
       "      <th>0</th>\n",
       "      <td>foo</td>\n",
       "      <td>1</td>\n",
       "    </tr>\n",
       "    <tr>\n",
       "      <th>1</th>\n",
       "      <td>bar</td>\n",
       "      <td>2</td>\n",
       "    </tr>\n",
       "  </tbody>\n",
       "</table>\n",
       "</div>"
      ],
      "text/plain": [
       "   key  lval\n",
       "0  foo     1\n",
       "1  bar     2"
      ]
     },
     "execution_count": 111,
     "metadata": {},
     "output_type": "execute_result"
    }
   ],
   "source": [
    "left"
   ]
  },
  {
   "cell_type": "code",
   "execution_count": 112,
   "metadata": {},
   "outputs": [
    {
     "data": {
      "text/html": [
       "<div>\n",
       "<style scoped>\n",
       "    .dataframe tbody tr th:only-of-type {\n",
       "        vertical-align: middle;\n",
       "    }\n",
       "\n",
       "    .dataframe tbody tr th {\n",
       "        vertical-align: top;\n",
       "    }\n",
       "\n",
       "    .dataframe thead th {\n",
       "        text-align: right;\n",
       "    }\n",
       "</style>\n",
       "<table border=\"1\" class=\"dataframe\">\n",
       "  <thead>\n",
       "    <tr style=\"text-align: right;\">\n",
       "      <th></th>\n",
       "      <th>key</th>\n",
       "      <th>rval</th>\n",
       "    </tr>\n",
       "  </thead>\n",
       "  <tbody>\n",
       "    <tr>\n",
       "      <th>0</th>\n",
       "      <td>foo</td>\n",
       "      <td>4</td>\n",
       "    </tr>\n",
       "    <tr>\n",
       "      <th>1</th>\n",
       "      <td>bar</td>\n",
       "      <td>5</td>\n",
       "    </tr>\n",
       "  </tbody>\n",
       "</table>\n",
       "</div>"
      ],
      "text/plain": [
       "   key  rval\n",
       "0  foo     4\n",
       "1  bar     5"
      ]
     },
     "execution_count": 112,
     "metadata": {},
     "output_type": "execute_result"
    }
   ],
   "source": [
    "right"
   ]
  },
  {
   "cell_type": "code",
   "execution_count": 113,
   "metadata": {},
   "outputs": [
    {
     "data": {
      "text/html": [
       "<div>\n",
       "<style scoped>\n",
       "    .dataframe tbody tr th:only-of-type {\n",
       "        vertical-align: middle;\n",
       "    }\n",
       "\n",
       "    .dataframe tbody tr th {\n",
       "        vertical-align: top;\n",
       "    }\n",
       "\n",
       "    .dataframe thead th {\n",
       "        text-align: right;\n",
       "    }\n",
       "</style>\n",
       "<table border=\"1\" class=\"dataframe\">\n",
       "  <thead>\n",
       "    <tr style=\"text-align: right;\">\n",
       "      <th></th>\n",
       "      <th>key</th>\n",
       "      <th>lval</th>\n",
       "      <th>rval</th>\n",
       "    </tr>\n",
       "  </thead>\n",
       "  <tbody>\n",
       "    <tr>\n",
       "      <th>0</th>\n",
       "      <td>foo</td>\n",
       "      <td>1</td>\n",
       "      <td>4</td>\n",
       "    </tr>\n",
       "    <tr>\n",
       "      <th>1</th>\n",
       "      <td>bar</td>\n",
       "      <td>2</td>\n",
       "      <td>5</td>\n",
       "    </tr>\n",
       "  </tbody>\n",
       "</table>\n",
       "</div>"
      ],
      "text/plain": [
       "   key  lval  rval\n",
       "0  foo     1     4\n",
       "1  bar     2     5"
      ]
     },
     "execution_count": 113,
     "metadata": {},
     "output_type": "execute_result"
    }
   ],
   "source": [
    "pd.merge(left, right, on='key')"
   ]
  },
  {
   "cell_type": "markdown",
   "metadata": {},
   "source": [
    "### 6.3 添加（Append）"
   ]
  },
  {
   "cell_type": "markdown",
   "metadata": {},
   "source": [
    "### 使用Append将数据行添加至DataFrame，具体请查看[Appending](http://pandas.pydata.org/pandas-docs/stable/merging.html#merging-concatenation)"
   ]
  },
  {
   "cell_type": "code",
   "execution_count": 114,
   "metadata": {},
   "outputs": [],
   "source": [
    "df = pd.DataFrame(np.random.randn(8, 4), columns=['A','B','C','D'])"
   ]
  },
  {
   "cell_type": "code",
   "execution_count": 115,
   "metadata": {},
   "outputs": [
    {
     "data": {
      "text/html": [
       "<div>\n",
       "<style scoped>\n",
       "    .dataframe tbody tr th:only-of-type {\n",
       "        vertical-align: middle;\n",
       "    }\n",
       "\n",
       "    .dataframe tbody tr th {\n",
       "        vertical-align: top;\n",
       "    }\n",
       "\n",
       "    .dataframe thead th {\n",
       "        text-align: right;\n",
       "    }\n",
       "</style>\n",
       "<table border=\"1\" class=\"dataframe\">\n",
       "  <thead>\n",
       "    <tr style=\"text-align: right;\">\n",
       "      <th></th>\n",
       "      <th>A</th>\n",
       "      <th>B</th>\n",
       "      <th>C</th>\n",
       "      <th>D</th>\n",
       "    </tr>\n",
       "  </thead>\n",
       "  <tbody>\n",
       "    <tr>\n",
       "      <th>0</th>\n",
       "      <td>-1.172888</td>\n",
       "      <td>-0.180752</td>\n",
       "      <td>0.637507</td>\n",
       "      <td>1.055152</td>\n",
       "    </tr>\n",
       "    <tr>\n",
       "      <th>1</th>\n",
       "      <td>1.282458</td>\n",
       "      <td>-0.294862</td>\n",
       "      <td>1.983054</td>\n",
       "      <td>-1.790305</td>\n",
       "    </tr>\n",
       "    <tr>\n",
       "      <th>2</th>\n",
       "      <td>-0.138522</td>\n",
       "      <td>0.091829</td>\n",
       "      <td>0.272073</td>\n",
       "      <td>0.246519</td>\n",
       "    </tr>\n",
       "    <tr>\n",
       "      <th>3</th>\n",
       "      <td>1.843909</td>\n",
       "      <td>2.334377</td>\n",
       "      <td>-0.003871</td>\n",
       "      <td>0.177428</td>\n",
       "    </tr>\n",
       "    <tr>\n",
       "      <th>4</th>\n",
       "      <td>-0.655430</td>\n",
       "      <td>-0.916599</td>\n",
       "      <td>-0.799411</td>\n",
       "      <td>1.099516</td>\n",
       "    </tr>\n",
       "    <tr>\n",
       "      <th>5</th>\n",
       "      <td>0.845270</td>\n",
       "      <td>-0.363916</td>\n",
       "      <td>-0.812943</td>\n",
       "      <td>0.518371</td>\n",
       "    </tr>\n",
       "    <tr>\n",
       "      <th>6</th>\n",
       "      <td>-0.220701</td>\n",
       "      <td>-0.551894</td>\n",
       "      <td>-0.269626</td>\n",
       "      <td>-0.294429</td>\n",
       "    </tr>\n",
       "    <tr>\n",
       "      <th>7</th>\n",
       "      <td>-1.568916</td>\n",
       "      <td>0.770518</td>\n",
       "      <td>-0.283712</td>\n",
       "      <td>1.493958</td>\n",
       "    </tr>\n",
       "  </tbody>\n",
       "</table>\n",
       "</div>"
      ],
      "text/plain": [
       "          A         B         C         D\n",
       "0 -1.172888 -0.180752  0.637507  1.055152\n",
       "1  1.282458 -0.294862  1.983054 -1.790305\n",
       "2 -0.138522  0.091829  0.272073  0.246519\n",
       "3  1.843909  2.334377 -0.003871  0.177428\n",
       "4 -0.655430 -0.916599 -0.799411  1.099516\n",
       "5  0.845270 -0.363916 -0.812943  0.518371\n",
       "6 -0.220701 -0.551894 -0.269626 -0.294429\n",
       "7 -1.568916  0.770518 -0.283712  1.493958"
      ]
     },
     "execution_count": 115,
     "metadata": {},
     "output_type": "execute_result"
    }
   ],
   "source": [
    "df"
   ]
  },
  {
   "cell_type": "code",
   "execution_count": 116,
   "metadata": {},
   "outputs": [],
   "source": [
    "s = df.iloc[3]"
   ]
  },
  {
   "cell_type": "code",
   "execution_count": 117,
   "metadata": {},
   "outputs": [
    {
     "data": {
      "text/html": [
       "<div>\n",
       "<style scoped>\n",
       "    .dataframe tbody tr th:only-of-type {\n",
       "        vertical-align: middle;\n",
       "    }\n",
       "\n",
       "    .dataframe tbody tr th {\n",
       "        vertical-align: top;\n",
       "    }\n",
       "\n",
       "    .dataframe thead th {\n",
       "        text-align: right;\n",
       "    }\n",
       "</style>\n",
       "<table border=\"1\" class=\"dataframe\">\n",
       "  <thead>\n",
       "    <tr style=\"text-align: right;\">\n",
       "      <th></th>\n",
       "      <th>A</th>\n",
       "      <th>B</th>\n",
       "      <th>C</th>\n",
       "      <th>D</th>\n",
       "    </tr>\n",
       "  </thead>\n",
       "  <tbody>\n",
       "    <tr>\n",
       "      <th>0</th>\n",
       "      <td>-1.172888</td>\n",
       "      <td>-0.180752</td>\n",
       "      <td>0.637507</td>\n",
       "      <td>1.055152</td>\n",
       "    </tr>\n",
       "    <tr>\n",
       "      <th>1</th>\n",
       "      <td>1.282458</td>\n",
       "      <td>-0.294862</td>\n",
       "      <td>1.983054</td>\n",
       "      <td>-1.790305</td>\n",
       "    </tr>\n",
       "    <tr>\n",
       "      <th>2</th>\n",
       "      <td>-0.138522</td>\n",
       "      <td>0.091829</td>\n",
       "      <td>0.272073</td>\n",
       "      <td>0.246519</td>\n",
       "    </tr>\n",
       "    <tr>\n",
       "      <th>3</th>\n",
       "      <td>1.843909</td>\n",
       "      <td>2.334377</td>\n",
       "      <td>-0.003871</td>\n",
       "      <td>0.177428</td>\n",
       "    </tr>\n",
       "    <tr>\n",
       "      <th>4</th>\n",
       "      <td>-0.655430</td>\n",
       "      <td>-0.916599</td>\n",
       "      <td>-0.799411</td>\n",
       "      <td>1.099516</td>\n",
       "    </tr>\n",
       "    <tr>\n",
       "      <th>5</th>\n",
       "      <td>0.845270</td>\n",
       "      <td>-0.363916</td>\n",
       "      <td>-0.812943</td>\n",
       "      <td>0.518371</td>\n",
       "    </tr>\n",
       "    <tr>\n",
       "      <th>6</th>\n",
       "      <td>-0.220701</td>\n",
       "      <td>-0.551894</td>\n",
       "      <td>-0.269626</td>\n",
       "      <td>-0.294429</td>\n",
       "    </tr>\n",
       "    <tr>\n",
       "      <th>7</th>\n",
       "      <td>-1.568916</td>\n",
       "      <td>0.770518</td>\n",
       "      <td>-0.283712</td>\n",
       "      <td>1.493958</td>\n",
       "    </tr>\n",
       "    <tr>\n",
       "      <th>8</th>\n",
       "      <td>1.843909</td>\n",
       "      <td>2.334377</td>\n",
       "      <td>-0.003871</td>\n",
       "      <td>0.177428</td>\n",
       "    </tr>\n",
       "  </tbody>\n",
       "</table>\n",
       "</div>"
      ],
      "text/plain": [
       "          A         B         C         D\n",
       "0 -1.172888 -0.180752  0.637507  1.055152\n",
       "1  1.282458 -0.294862  1.983054 -1.790305\n",
       "2 -0.138522  0.091829  0.272073  0.246519\n",
       "3  1.843909  2.334377 -0.003871  0.177428\n",
       "4 -0.655430 -0.916599 -0.799411  1.099516\n",
       "5  0.845270 -0.363916 -0.812943  0.518371\n",
       "6 -0.220701 -0.551894 -0.269626 -0.294429\n",
       "7 -1.568916  0.770518 -0.283712  1.493958\n",
       "8  1.843909  2.334377 -0.003871  0.177428"
      ]
     },
     "execution_count": 117,
     "metadata": {},
     "output_type": "execute_result"
    }
   ],
   "source": [
    "df.append(s, ignore_index=True)"
   ]
  },
  {
   "cell_type": "markdown",
   "metadata": {},
   "source": [
    "## 7.分组"
   ]
  },
  {
   "cell_type": "markdown",
   "metadata": {},
   "source": [
    "### 使用“分组（group by）”功能通常会用到如下几步：\n",
    "* 根据某些特定条件对数据拆分分组\n",
    "* 对某个分组单独使用特定的函数/方法\n",
    "* 将运算结果汇总合并到给定的数据结构中\n",
    "更多详情请参阅[Grouping section](http://python.usyiyi.cn/documents/Pandas_0j2/groupby.html#groupby)"
   ]
  },
  {
   "cell_type": "code",
   "execution_count": 2,
   "metadata": {},
   "outputs": [],
   "source": [
    "df = pd.DataFrame({'A' : ['foo', 'bar', 'foo', 'bar',\n",
    "   ....:                           'foo', 'bar', 'foo', 'foo'],\n",
    "   ....:                    'B' : ['one', 'one', 'two', 'three',\n",
    "   ....:                           'two', 'two', 'one', 'three'],\n",
    "   ....:                    'C' : np.random.randn(8),\n",
    "   ....:                    'D' : np.random.randn(8)})"
   ]
  },
  {
   "cell_type": "code",
   "execution_count": 3,
   "metadata": {},
   "outputs": [
    {
     "data": {
      "text/html": [
       "<div>\n",
       "<style scoped>\n",
       "    .dataframe tbody tr th:only-of-type {\n",
       "        vertical-align: middle;\n",
       "    }\n",
       "\n",
       "    .dataframe tbody tr th {\n",
       "        vertical-align: top;\n",
       "    }\n",
       "\n",
       "    .dataframe thead th {\n",
       "        text-align: right;\n",
       "    }\n",
       "</style>\n",
       "<table border=\"1\" class=\"dataframe\">\n",
       "  <thead>\n",
       "    <tr style=\"text-align: right;\">\n",
       "      <th></th>\n",
       "      <th>A</th>\n",
       "      <th>B</th>\n",
       "      <th>C</th>\n",
       "      <th>D</th>\n",
       "    </tr>\n",
       "  </thead>\n",
       "  <tbody>\n",
       "    <tr>\n",
       "      <th>0</th>\n",
       "      <td>foo</td>\n",
       "      <td>one</td>\n",
       "      <td>-0.915177</td>\n",
       "      <td>1.797166</td>\n",
       "    </tr>\n",
       "    <tr>\n",
       "      <th>1</th>\n",
       "      <td>bar</td>\n",
       "      <td>one</td>\n",
       "      <td>-1.131670</td>\n",
       "      <td>1.293626</td>\n",
       "    </tr>\n",
       "    <tr>\n",
       "      <th>2</th>\n",
       "      <td>foo</td>\n",
       "      <td>two</td>\n",
       "      <td>0.705708</td>\n",
       "      <td>-0.414116</td>\n",
       "    </tr>\n",
       "    <tr>\n",
       "      <th>3</th>\n",
       "      <td>bar</td>\n",
       "      <td>three</td>\n",
       "      <td>-0.113372</td>\n",
       "      <td>-0.631092</td>\n",
       "    </tr>\n",
       "    <tr>\n",
       "      <th>4</th>\n",
       "      <td>foo</td>\n",
       "      <td>two</td>\n",
       "      <td>-0.129803</td>\n",
       "      <td>-0.452693</td>\n",
       "    </tr>\n",
       "    <tr>\n",
       "      <th>5</th>\n",
       "      <td>bar</td>\n",
       "      <td>two</td>\n",
       "      <td>0.614311</td>\n",
       "      <td>-0.588246</td>\n",
       "    </tr>\n",
       "    <tr>\n",
       "      <th>6</th>\n",
       "      <td>foo</td>\n",
       "      <td>one</td>\n",
       "      <td>-0.001744</td>\n",
       "      <td>0.237641</td>\n",
       "    </tr>\n",
       "    <tr>\n",
       "      <th>7</th>\n",
       "      <td>foo</td>\n",
       "      <td>three</td>\n",
       "      <td>-0.044061</td>\n",
       "      <td>0.600060</td>\n",
       "    </tr>\n",
       "  </tbody>\n",
       "</table>\n",
       "</div>"
      ],
      "text/plain": [
       "     A      B         C         D\n",
       "0  foo    one -0.915177  1.797166\n",
       "1  bar    one -1.131670  1.293626\n",
       "2  foo    two  0.705708 -0.414116\n",
       "3  bar  three -0.113372 -0.631092\n",
       "4  foo    two -0.129803 -0.452693\n",
       "5  bar    two  0.614311 -0.588246\n",
       "6  foo    one -0.001744  0.237641\n",
       "7  foo  three -0.044061  0.600060"
      ]
     },
     "execution_count": 3,
     "metadata": {},
     "output_type": "execute_result"
    }
   ],
   "source": [
    "df"
   ]
  },
  {
   "cell_type": "markdown",
   "metadata": {},
   "source": [
    "### 对分组后的结果使用求和函数sum"
   ]
  },
  {
   "cell_type": "code",
   "execution_count": 4,
   "metadata": {},
   "outputs": [
    {
     "data": {
      "text/html": [
       "<div>\n",
       "<style scoped>\n",
       "    .dataframe tbody tr th:only-of-type {\n",
       "        vertical-align: middle;\n",
       "    }\n",
       "\n",
       "    .dataframe tbody tr th {\n",
       "        vertical-align: top;\n",
       "    }\n",
       "\n",
       "    .dataframe thead th {\n",
       "        text-align: right;\n",
       "    }\n",
       "</style>\n",
       "<table border=\"1\" class=\"dataframe\">\n",
       "  <thead>\n",
       "    <tr style=\"text-align: right;\">\n",
       "      <th></th>\n",
       "      <th>C</th>\n",
       "      <th>D</th>\n",
       "    </tr>\n",
       "    <tr>\n",
       "      <th>A</th>\n",
       "      <th></th>\n",
       "      <th></th>\n",
       "    </tr>\n",
       "  </thead>\n",
       "  <tbody>\n",
       "    <tr>\n",
       "      <th>bar</th>\n",
       "      <td>-0.630731</td>\n",
       "      <td>0.074288</td>\n",
       "    </tr>\n",
       "    <tr>\n",
       "      <th>foo</th>\n",
       "      <td>-0.385077</td>\n",
       "      <td>1.768058</td>\n",
       "    </tr>\n",
       "  </tbody>\n",
       "</table>\n",
       "</div>"
      ],
      "text/plain": [
       "            C         D\n",
       "A                      \n",
       "bar -0.630731  0.074288\n",
       "foo -0.385077  1.768058"
      ]
     },
     "execution_count": 4,
     "metadata": {},
     "output_type": "execute_result"
    }
   ],
   "source": [
    "df.groupby('A').sum()"
   ]
  },
  {
   "cell_type": "markdown",
   "metadata": {},
   "source": [
    "### 也可以对多列进行层次化索引，并使用函数计算"
   ]
  },
  {
   "cell_type": "code",
   "execution_count": 6,
   "metadata": {},
   "outputs": [
    {
     "data": {
      "text/html": [
       "<div>\n",
       "<style scoped>\n",
       "    .dataframe tbody tr th:only-of-type {\n",
       "        vertical-align: middle;\n",
       "    }\n",
       "\n",
       "    .dataframe tbody tr th {\n",
       "        vertical-align: top;\n",
       "    }\n",
       "\n",
       "    .dataframe thead th {\n",
       "        text-align: right;\n",
       "    }\n",
       "</style>\n",
       "<table border=\"1\" class=\"dataframe\">\n",
       "  <thead>\n",
       "    <tr style=\"text-align: right;\">\n",
       "      <th></th>\n",
       "      <th></th>\n",
       "      <th>C</th>\n",
       "      <th>D</th>\n",
       "    </tr>\n",
       "    <tr>\n",
       "      <th>A</th>\n",
       "      <th>B</th>\n",
       "      <th></th>\n",
       "      <th></th>\n",
       "    </tr>\n",
       "  </thead>\n",
       "  <tbody>\n",
       "    <tr>\n",
       "      <th rowspan=\"3\" valign=\"top\">bar</th>\n",
       "      <th>one</th>\n",
       "      <td>-1.131670</td>\n",
       "      <td>1.293626</td>\n",
       "    </tr>\n",
       "    <tr>\n",
       "      <th>three</th>\n",
       "      <td>-0.113372</td>\n",
       "      <td>-0.631092</td>\n",
       "    </tr>\n",
       "    <tr>\n",
       "      <th>two</th>\n",
       "      <td>0.614311</td>\n",
       "      <td>-0.588246</td>\n",
       "    </tr>\n",
       "    <tr>\n",
       "      <th rowspan=\"3\" valign=\"top\">foo</th>\n",
       "      <th>one</th>\n",
       "      <td>-0.916921</td>\n",
       "      <td>2.034807</td>\n",
       "    </tr>\n",
       "    <tr>\n",
       "      <th>three</th>\n",
       "      <td>-0.044061</td>\n",
       "      <td>0.600060</td>\n",
       "    </tr>\n",
       "    <tr>\n",
       "      <th>two</th>\n",
       "      <td>0.575905</td>\n",
       "      <td>-0.866809</td>\n",
       "    </tr>\n",
       "  </tbody>\n",
       "</table>\n",
       "</div>"
      ],
      "text/plain": [
       "                  C         D\n",
       "A   B                        \n",
       "bar one   -1.131670  1.293626\n",
       "    three -0.113372 -0.631092\n",
       "    two    0.614311 -0.588246\n",
       "foo one   -0.916921  2.034807\n",
       "    three -0.044061  0.600060\n",
       "    two    0.575905 -0.866809"
      ]
     },
     "execution_count": 6,
     "metadata": {},
     "output_type": "execute_result"
    }
   ],
   "source": [
    "df.groupby(['A','B']).sum()"
   ]
  },
  {
   "cell_type": "markdown",
   "metadata": {},
   "source": [
    "## 8.形变（Reshaping）"
   ]
  },
  {
   "cell_type": "markdown",
   "metadata": {},
   "source": [
    "请参阅[Hierarchical Indexing](http://python.usyiyi.cn/documents/Pandas_0j2/advanced.html#advanced-hierarchical)和[Reshaping](http://python.usyiyi.cn/documents/Pandas_0j2/reshaping.html#reshaping-stacking)。"
   ]
  },
  {
   "cell_type": "markdown",
   "metadata": {},
   "source": [
    "### 8.1 层叠（Stack）"
   ]
  },
  {
   "cell_type": "code",
   "execution_count": 7,
   "metadata": {},
   "outputs": [],
   "source": [
    "tuples = list(zip(*[['bar', 'bar', 'baz', 'baz',\n",
    "   ....:                      'foo', 'foo', 'qux', 'qux'],\n",
    "   ....:                     ['one', 'two', 'one', 'two',\n",
    "   ....:                      'one', 'two', 'one', 'two']]))"
   ]
  },
  {
   "cell_type": "code",
   "execution_count": 8,
   "metadata": {},
   "outputs": [],
   "source": [
    "index = pd.MultiIndex.from_tuples(tuples, names=['first', 'second'])"
   ]
  },
  {
   "cell_type": "code",
   "execution_count": 9,
   "metadata": {},
   "outputs": [],
   "source": [
    "df = pd.DataFrame(np.random.randn(8, 2), index=index, columns=['A', 'B'])"
   ]
  },
  {
   "cell_type": "code",
   "execution_count": 10,
   "metadata": {},
   "outputs": [],
   "source": [
    "df2 = df[:4]"
   ]
  },
  {
   "cell_type": "code",
   "execution_count": 11,
   "metadata": {},
   "outputs": [
    {
     "data": {
      "text/html": [
       "<div>\n",
       "<style scoped>\n",
       "    .dataframe tbody tr th:only-of-type {\n",
       "        vertical-align: middle;\n",
       "    }\n",
       "\n",
       "    .dataframe tbody tr th {\n",
       "        vertical-align: top;\n",
       "    }\n",
       "\n",
       "    .dataframe thead th {\n",
       "        text-align: right;\n",
       "    }\n",
       "</style>\n",
       "<table border=\"1\" class=\"dataframe\">\n",
       "  <thead>\n",
       "    <tr style=\"text-align: right;\">\n",
       "      <th></th>\n",
       "      <th></th>\n",
       "      <th>A</th>\n",
       "      <th>B</th>\n",
       "    </tr>\n",
       "    <tr>\n",
       "      <th>first</th>\n",
       "      <th>second</th>\n",
       "      <th></th>\n",
       "      <th></th>\n",
       "    </tr>\n",
       "  </thead>\n",
       "  <tbody>\n",
       "    <tr>\n",
       "      <th rowspan=\"2\" valign=\"top\">bar</th>\n",
       "      <th>one</th>\n",
       "      <td>-1.279795</td>\n",
       "      <td>0.517035</td>\n",
       "    </tr>\n",
       "    <tr>\n",
       "      <th>two</th>\n",
       "      <td>-0.240025</td>\n",
       "      <td>1.096785</td>\n",
       "    </tr>\n",
       "    <tr>\n",
       "      <th rowspan=\"2\" valign=\"top\">baz</th>\n",
       "      <th>one</th>\n",
       "      <td>-1.382137</td>\n",
       "      <td>1.346529</td>\n",
       "    </tr>\n",
       "    <tr>\n",
       "      <th>two</th>\n",
       "      <td>-0.972314</td>\n",
       "      <td>-0.842797</td>\n",
       "    </tr>\n",
       "  </tbody>\n",
       "</table>\n",
       "</div>"
      ],
      "text/plain": [
       "                     A         B\n",
       "first second                    \n",
       "bar   one    -1.279795  0.517035\n",
       "      two    -0.240025  1.096785\n",
       "baz   one    -1.382137  1.346529\n",
       "      two    -0.972314 -0.842797"
      ]
     },
     "execution_count": 11,
     "metadata": {},
     "output_type": "execute_result"
    }
   ],
   "source": [
    "df2"
   ]
  },
  {
   "cell_type": "markdown",
   "metadata": {},
   "source": [
    "### stack()方法可以将DataFrame的列“压缩”成一个“索引级”"
   ]
  },
  {
   "cell_type": "code",
   "execution_count": 12,
   "metadata": {},
   "outputs": [],
   "source": [
    "stacked = df2.stack()"
   ]
  },
  {
   "cell_type": "code",
   "execution_count": 13,
   "metadata": {},
   "outputs": [
    {
     "data": {
      "text/plain": [
       "first  second   \n",
       "bar    one     A   -1.279795\n",
       "               B    0.517035\n",
       "       two     A   -0.240025\n",
       "               B    1.096785\n",
       "baz    one     A   -1.382137\n",
       "               B    1.346529\n",
       "       two     A   -0.972314\n",
       "               B   -0.842797\n",
       "dtype: float64"
      ]
     },
     "execution_count": 13,
     "metadata": {},
     "output_type": "execute_result"
    }
   ],
   "source": [
    "stacked"
   ]
  },
  {
   "cell_type": "markdown",
   "metadata": {},
   "source": [
    "### 对于已堆叠的并具有多重索引的DataFrame或Series，stack()的逆运算是unstack()，该操作默认先“解压”最后一个索引级"
   ]
  },
  {
   "cell_type": "code",
   "execution_count": 14,
   "metadata": {},
   "outputs": [
    {
     "data": {
      "text/html": [
       "<div>\n",
       "<style scoped>\n",
       "    .dataframe tbody tr th:only-of-type {\n",
       "        vertical-align: middle;\n",
       "    }\n",
       "\n",
       "    .dataframe tbody tr th {\n",
       "        vertical-align: top;\n",
       "    }\n",
       "\n",
       "    .dataframe thead th {\n",
       "        text-align: right;\n",
       "    }\n",
       "</style>\n",
       "<table border=\"1\" class=\"dataframe\">\n",
       "  <thead>\n",
       "    <tr style=\"text-align: right;\">\n",
       "      <th></th>\n",
       "      <th></th>\n",
       "      <th>A</th>\n",
       "      <th>B</th>\n",
       "    </tr>\n",
       "    <tr>\n",
       "      <th>first</th>\n",
       "      <th>second</th>\n",
       "      <th></th>\n",
       "      <th></th>\n",
       "    </tr>\n",
       "  </thead>\n",
       "  <tbody>\n",
       "    <tr>\n",
       "      <th rowspan=\"2\" valign=\"top\">bar</th>\n",
       "      <th>one</th>\n",
       "      <td>-1.279795</td>\n",
       "      <td>0.517035</td>\n",
       "    </tr>\n",
       "    <tr>\n",
       "      <th>two</th>\n",
       "      <td>-0.240025</td>\n",
       "      <td>1.096785</td>\n",
       "    </tr>\n",
       "    <tr>\n",
       "      <th rowspan=\"2\" valign=\"top\">baz</th>\n",
       "      <th>one</th>\n",
       "      <td>-1.382137</td>\n",
       "      <td>1.346529</td>\n",
       "    </tr>\n",
       "    <tr>\n",
       "      <th>two</th>\n",
       "      <td>-0.972314</td>\n",
       "      <td>-0.842797</td>\n",
       "    </tr>\n",
       "  </tbody>\n",
       "</table>\n",
       "</div>"
      ],
      "text/plain": [
       "                     A         B\n",
       "first second                    \n",
       "bar   one    -1.279795  0.517035\n",
       "      two    -0.240025  1.096785\n",
       "baz   one    -1.382137  1.346529\n",
       "      two    -0.972314 -0.842797"
      ]
     },
     "execution_count": 14,
     "metadata": {},
     "output_type": "execute_result"
    }
   ],
   "source": [
    "stacked.unstack()"
   ]
  },
  {
   "cell_type": "code",
   "execution_count": 15,
   "metadata": {},
   "outputs": [
    {
     "data": {
      "text/html": [
       "<div>\n",
       "<style scoped>\n",
       "    .dataframe tbody tr th:only-of-type {\n",
       "        vertical-align: middle;\n",
       "    }\n",
       "\n",
       "    .dataframe tbody tr th {\n",
       "        vertical-align: top;\n",
       "    }\n",
       "\n",
       "    .dataframe thead th {\n",
       "        text-align: right;\n",
       "    }\n",
       "</style>\n",
       "<table border=\"1\" class=\"dataframe\">\n",
       "  <thead>\n",
       "    <tr style=\"text-align: right;\">\n",
       "      <th></th>\n",
       "      <th>second</th>\n",
       "      <th>one</th>\n",
       "      <th>two</th>\n",
       "    </tr>\n",
       "    <tr>\n",
       "      <th>first</th>\n",
       "      <th></th>\n",
       "      <th></th>\n",
       "      <th></th>\n",
       "    </tr>\n",
       "  </thead>\n",
       "  <tbody>\n",
       "    <tr>\n",
       "      <th rowspan=\"2\" valign=\"top\">bar</th>\n",
       "      <th>A</th>\n",
       "      <td>-1.279795</td>\n",
       "      <td>-0.240025</td>\n",
       "    </tr>\n",
       "    <tr>\n",
       "      <th>B</th>\n",
       "      <td>0.517035</td>\n",
       "      <td>1.096785</td>\n",
       "    </tr>\n",
       "    <tr>\n",
       "      <th rowspan=\"2\" valign=\"top\">baz</th>\n",
       "      <th>A</th>\n",
       "      <td>-1.382137</td>\n",
       "      <td>-0.972314</td>\n",
       "    </tr>\n",
       "    <tr>\n",
       "      <th>B</th>\n",
       "      <td>1.346529</td>\n",
       "      <td>-0.842797</td>\n",
       "    </tr>\n",
       "  </tbody>\n",
       "</table>\n",
       "</div>"
      ],
      "text/plain": [
       "second        one       two\n",
       "first                      \n",
       "bar   A -1.279795 -0.240025\n",
       "      B  0.517035  1.096785\n",
       "baz   A -1.382137 -0.972314\n",
       "      B  1.346529 -0.842797"
      ]
     },
     "execution_count": 15,
     "metadata": {},
     "output_type": "execute_result"
    }
   ],
   "source": [
    "stacked.unstack(1)"
   ]
  },
  {
   "cell_type": "code",
   "execution_count": 16,
   "metadata": {},
   "outputs": [
    {
     "data": {
      "text/html": [
       "<div>\n",
       "<style scoped>\n",
       "    .dataframe tbody tr th:only-of-type {\n",
       "        vertical-align: middle;\n",
       "    }\n",
       "\n",
       "    .dataframe tbody tr th {\n",
       "        vertical-align: top;\n",
       "    }\n",
       "\n",
       "    .dataframe thead th {\n",
       "        text-align: right;\n",
       "    }\n",
       "</style>\n",
       "<table border=\"1\" class=\"dataframe\">\n",
       "  <thead>\n",
       "    <tr style=\"text-align: right;\">\n",
       "      <th></th>\n",
       "      <th>first</th>\n",
       "      <th>bar</th>\n",
       "      <th>baz</th>\n",
       "    </tr>\n",
       "    <tr>\n",
       "      <th>second</th>\n",
       "      <th></th>\n",
       "      <th></th>\n",
       "      <th></th>\n",
       "    </tr>\n",
       "  </thead>\n",
       "  <tbody>\n",
       "    <tr>\n",
       "      <th rowspan=\"2\" valign=\"top\">one</th>\n",
       "      <th>A</th>\n",
       "      <td>-1.279795</td>\n",
       "      <td>-1.382137</td>\n",
       "    </tr>\n",
       "    <tr>\n",
       "      <th>B</th>\n",
       "      <td>0.517035</td>\n",
       "      <td>1.346529</td>\n",
       "    </tr>\n",
       "    <tr>\n",
       "      <th rowspan=\"2\" valign=\"top\">two</th>\n",
       "      <th>A</th>\n",
       "      <td>-0.240025</td>\n",
       "      <td>-0.972314</td>\n",
       "    </tr>\n",
       "    <tr>\n",
       "      <th>B</th>\n",
       "      <td>1.096785</td>\n",
       "      <td>-0.842797</td>\n",
       "    </tr>\n",
       "  </tbody>\n",
       "</table>\n",
       "</div>"
      ],
      "text/plain": [
       "first          bar       baz\n",
       "second                      \n",
       "one    A -1.279795 -1.382137\n",
       "       B  0.517035  1.346529\n",
       "two    A -0.240025 -0.972314\n",
       "       B  1.096785 -0.842797"
      ]
     },
     "execution_count": 16,
     "metadata": {},
     "output_type": "execute_result"
    }
   ],
   "source": [
    "stacked.unstack(0)"
   ]
  },
  {
   "cell_type": "markdown",
   "metadata": {},
   "source": [
    "### 8.2 数据透视表"
   ]
  },
  {
   "cell_type": "markdown",
   "metadata": {},
   "source": [
    "### 详情参阅[Pivot Tables](http://pandas.pydata.org/pandas-docs/stable/reshaping.html#reshaping-pivot)"
   ]
  },
  {
   "cell_type": "code",
   "execution_count": 17,
   "metadata": {},
   "outputs": [],
   "source": [
    "df = pd.DataFrame({'A' : ['one', 'one', 'two', 'three'] * 3,\n",
    "   .....:                    'B' : ['A', 'B', 'C'] * 4,\n",
    "   .....:                    'C' : ['foo', 'foo', 'foo', 'bar', 'bar', 'bar'] * 2,\n",
    "   .....:                    'D' : np.random.randn(12),\n",
    "   .....:                    'E' : np.random.randn(12)})"
   ]
  },
  {
   "cell_type": "code",
   "execution_count": 18,
   "metadata": {},
   "outputs": [
    {
     "data": {
      "text/html": [
       "<div>\n",
       "<style scoped>\n",
       "    .dataframe tbody tr th:only-of-type {\n",
       "        vertical-align: middle;\n",
       "    }\n",
       "\n",
       "    .dataframe tbody tr th {\n",
       "        vertical-align: top;\n",
       "    }\n",
       "\n",
       "    .dataframe thead th {\n",
       "        text-align: right;\n",
       "    }\n",
       "</style>\n",
       "<table border=\"1\" class=\"dataframe\">\n",
       "  <thead>\n",
       "    <tr style=\"text-align: right;\">\n",
       "      <th></th>\n",
       "      <th>A</th>\n",
       "      <th>B</th>\n",
       "      <th>C</th>\n",
       "      <th>D</th>\n",
       "      <th>E</th>\n",
       "    </tr>\n",
       "  </thead>\n",
       "  <tbody>\n",
       "    <tr>\n",
       "      <th>0</th>\n",
       "      <td>one</td>\n",
       "      <td>A</td>\n",
       "      <td>foo</td>\n",
       "      <td>0.931956</td>\n",
       "      <td>1.214163</td>\n",
       "    </tr>\n",
       "    <tr>\n",
       "      <th>1</th>\n",
       "      <td>one</td>\n",
       "      <td>B</td>\n",
       "      <td>foo</td>\n",
       "      <td>1.079145</td>\n",
       "      <td>-1.108284</td>\n",
       "    </tr>\n",
       "    <tr>\n",
       "      <th>2</th>\n",
       "      <td>two</td>\n",
       "      <td>C</td>\n",
       "      <td>foo</td>\n",
       "      <td>-1.391106</td>\n",
       "      <td>0.225284</td>\n",
       "    </tr>\n",
       "    <tr>\n",
       "      <th>3</th>\n",
       "      <td>three</td>\n",
       "      <td>A</td>\n",
       "      <td>bar</td>\n",
       "      <td>0.213028</td>\n",
       "      <td>-0.301621</td>\n",
       "    </tr>\n",
       "    <tr>\n",
       "      <th>4</th>\n",
       "      <td>one</td>\n",
       "      <td>B</td>\n",
       "      <td>bar</td>\n",
       "      <td>0.399014</td>\n",
       "      <td>-0.594886</td>\n",
       "    </tr>\n",
       "    <tr>\n",
       "      <th>5</th>\n",
       "      <td>one</td>\n",
       "      <td>C</td>\n",
       "      <td>bar</td>\n",
       "      <td>0.030635</td>\n",
       "      <td>-1.302540</td>\n",
       "    </tr>\n",
       "    <tr>\n",
       "      <th>6</th>\n",
       "      <td>two</td>\n",
       "      <td>A</td>\n",
       "      <td>foo</td>\n",
       "      <td>-0.367433</td>\n",
       "      <td>1.143031</td>\n",
       "    </tr>\n",
       "    <tr>\n",
       "      <th>7</th>\n",
       "      <td>three</td>\n",
       "      <td>B</td>\n",
       "      <td>foo</td>\n",
       "      <td>-0.788371</td>\n",
       "      <td>0.851065</td>\n",
       "    </tr>\n",
       "    <tr>\n",
       "      <th>8</th>\n",
       "      <td>one</td>\n",
       "      <td>C</td>\n",
       "      <td>foo</td>\n",
       "      <td>-0.255126</td>\n",
       "      <td>0.178393</td>\n",
       "    </tr>\n",
       "    <tr>\n",
       "      <th>9</th>\n",
       "      <td>one</td>\n",
       "      <td>A</td>\n",
       "      <td>bar</td>\n",
       "      <td>-0.490788</td>\n",
       "      <td>-1.447669</td>\n",
       "    </tr>\n",
       "    <tr>\n",
       "      <th>10</th>\n",
       "      <td>two</td>\n",
       "      <td>B</td>\n",
       "      <td>bar</td>\n",
       "      <td>0.108747</td>\n",
       "      <td>0.545478</td>\n",
       "    </tr>\n",
       "    <tr>\n",
       "      <th>11</th>\n",
       "      <td>three</td>\n",
       "      <td>C</td>\n",
       "      <td>bar</td>\n",
       "      <td>0.931243</td>\n",
       "      <td>-2.139633</td>\n",
       "    </tr>\n",
       "  </tbody>\n",
       "</table>\n",
       "</div>"
      ],
      "text/plain": [
       "        A  B    C         D         E\n",
       "0     one  A  foo  0.931956  1.214163\n",
       "1     one  B  foo  1.079145 -1.108284\n",
       "2     two  C  foo -1.391106  0.225284\n",
       "3   three  A  bar  0.213028 -0.301621\n",
       "4     one  B  bar  0.399014 -0.594886\n",
       "5     one  C  bar  0.030635 -1.302540\n",
       "6     two  A  foo -0.367433  1.143031\n",
       "7   three  B  foo -0.788371  0.851065\n",
       "8     one  C  foo -0.255126  0.178393\n",
       "9     one  A  bar -0.490788 -1.447669\n",
       "10    two  B  bar  0.108747  0.545478\n",
       "11  three  C  bar  0.931243 -2.139633"
      ]
     },
     "execution_count": 18,
     "metadata": {},
     "output_type": "execute_result"
    }
   ],
   "source": [
    "df"
   ]
  },
  {
   "cell_type": "markdown",
   "metadata": {},
   "source": [
    "### 我们可以轻而易举地生成这些数据的数据透视表"
   ]
  },
  {
   "cell_type": "code",
   "execution_count": 19,
   "metadata": {},
   "outputs": [
    {
     "data": {
      "text/html": [
       "<div>\n",
       "<style scoped>\n",
       "    .dataframe tbody tr th:only-of-type {\n",
       "        vertical-align: middle;\n",
       "    }\n",
       "\n",
       "    .dataframe tbody tr th {\n",
       "        vertical-align: top;\n",
       "    }\n",
       "\n",
       "    .dataframe thead th {\n",
       "        text-align: right;\n",
       "    }\n",
       "</style>\n",
       "<table border=\"1\" class=\"dataframe\">\n",
       "  <thead>\n",
       "    <tr style=\"text-align: right;\">\n",
       "      <th></th>\n",
       "      <th>C</th>\n",
       "      <th>bar</th>\n",
       "      <th>foo</th>\n",
       "    </tr>\n",
       "    <tr>\n",
       "      <th>A</th>\n",
       "      <th>B</th>\n",
       "      <th></th>\n",
       "      <th></th>\n",
       "    </tr>\n",
       "  </thead>\n",
       "  <tbody>\n",
       "    <tr>\n",
       "      <th rowspan=\"3\" valign=\"top\">one</th>\n",
       "      <th>A</th>\n",
       "      <td>-0.490788</td>\n",
       "      <td>0.931956</td>\n",
       "    </tr>\n",
       "    <tr>\n",
       "      <th>B</th>\n",
       "      <td>0.399014</td>\n",
       "      <td>1.079145</td>\n",
       "    </tr>\n",
       "    <tr>\n",
       "      <th>C</th>\n",
       "      <td>0.030635</td>\n",
       "      <td>-0.255126</td>\n",
       "    </tr>\n",
       "    <tr>\n",
       "      <th rowspan=\"3\" valign=\"top\">three</th>\n",
       "      <th>A</th>\n",
       "      <td>0.213028</td>\n",
       "      <td>NaN</td>\n",
       "    </tr>\n",
       "    <tr>\n",
       "      <th>B</th>\n",
       "      <td>NaN</td>\n",
       "      <td>-0.788371</td>\n",
       "    </tr>\n",
       "    <tr>\n",
       "      <th>C</th>\n",
       "      <td>0.931243</td>\n",
       "      <td>NaN</td>\n",
       "    </tr>\n",
       "    <tr>\n",
       "      <th rowspan=\"3\" valign=\"top\">two</th>\n",
       "      <th>A</th>\n",
       "      <td>NaN</td>\n",
       "      <td>-0.367433</td>\n",
       "    </tr>\n",
       "    <tr>\n",
       "      <th>B</th>\n",
       "      <td>0.108747</td>\n",
       "      <td>NaN</td>\n",
       "    </tr>\n",
       "    <tr>\n",
       "      <th>C</th>\n",
       "      <td>NaN</td>\n",
       "      <td>-1.391106</td>\n",
       "    </tr>\n",
       "  </tbody>\n",
       "</table>\n",
       "</div>"
      ],
      "text/plain": [
       "C             bar       foo\n",
       "A     B                    \n",
       "one   A -0.490788  0.931956\n",
       "      B  0.399014  1.079145\n",
       "      C  0.030635 -0.255126\n",
       "three A  0.213028       NaN\n",
       "      B       NaN -0.788371\n",
       "      C  0.931243       NaN\n",
       "two   A       NaN -0.367433\n",
       "      B  0.108747       NaN\n",
       "      C       NaN -1.391106"
      ]
     },
     "execution_count": 19,
     "metadata": {},
     "output_type": "execute_result"
    }
   ],
   "source": [
    "pd.pivot_table(df, values='D', index=['A', 'B'], columns=['C'])"
   ]
  },
  {
   "cell_type": "markdown",
   "metadata": {},
   "source": [
    "### 8.3 时间序列"
   ]
  },
  {
   "cell_type": "markdown",
   "metadata": {},
   "source": [
    "### pandas具备简易、强大而高效的、可以在在频率转换期间执行重采样操作的功能（例如，将每秒采样的数据转换为每5分钟的）。这项功能不仅在金融行业应用中比比皆是，面对其他领域也同样能大放异彩。\n",
    "### 具体可参考[ime Series section](http://pandas.pydata.org/pandas-docs/stable/timeseries.html#timeseries)"
   ]
  },
  {
   "cell_type": "code",
   "execution_count": 20,
   "metadata": {},
   "outputs": [],
   "source": [
    "rng = pd.date_range('1/1/2012', periods=100, freq='S')"
   ]
  },
  {
   "cell_type": "code",
   "execution_count": 21,
   "metadata": {},
   "outputs": [],
   "source": [
    "ts = pd.Series(np.random.randint(0, 500, len(rng)), index=rng)"
   ]
  },
  {
   "cell_type": "code",
   "execution_count": 22,
   "metadata": {},
   "outputs": [
    {
     "data": {
      "text/plain": [
       "2012-01-01    23220\n",
       "Freq: 5T, dtype: int32"
      ]
     },
     "execution_count": 22,
     "metadata": {},
     "output_type": "execute_result"
    }
   ],
   "source": [
    "ts.resample('5Min').sum()"
   ]
  },
  {
   "cell_type": "markdown",
   "metadata": {},
   "source": [
    "### 时区表示"
   ]
  },
  {
   "cell_type": "code",
   "execution_count": 24,
   "metadata": {},
   "outputs": [],
   "source": [
    "rng = pd.date_range('3/6/2018 00:00', periods=5, freq='D')"
   ]
  },
  {
   "cell_type": "code",
   "execution_count": 25,
   "metadata": {},
   "outputs": [],
   "source": [
    "ts = pd.Series(np.random.randn(len(rng)), rng)"
   ]
  },
  {
   "cell_type": "code",
   "execution_count": 26,
   "metadata": {},
   "outputs": [
    {
     "data": {
      "text/plain": [
       "2018-03-06    0.932438\n",
       "2018-03-07   -0.080096\n",
       "2018-03-08    0.509112\n",
       "2018-03-09   -0.433725\n",
       "2018-03-10   -0.247901\n",
       "Freq: D, dtype: float64"
      ]
     },
     "execution_count": 26,
     "metadata": {},
     "output_type": "execute_result"
    }
   ],
   "source": [
    "ts"
   ]
  },
  {
   "cell_type": "code",
   "execution_count": 27,
   "metadata": {},
   "outputs": [],
   "source": [
    "ts_utc = ts.tz_localize('UTC')"
   ]
  },
  {
   "cell_type": "code",
   "execution_count": 28,
   "metadata": {},
   "outputs": [
    {
     "data": {
      "text/plain": [
       "2018-03-06 00:00:00+00:00    0.932438\n",
       "2018-03-07 00:00:00+00:00   -0.080096\n",
       "2018-03-08 00:00:00+00:00    0.509112\n",
       "2018-03-09 00:00:00+00:00   -0.433725\n",
       "2018-03-10 00:00:00+00:00   -0.247901\n",
       "Freq: D, dtype: float64"
      ]
     },
     "execution_count": 28,
     "metadata": {},
     "output_type": "execute_result"
    }
   ],
   "source": [
    "ts_utc"
   ]
  },
  {
   "cell_type": "markdown",
   "metadata": {},
   "source": [
    "### 时区转换"
   ]
  },
  {
   "cell_type": "code",
   "execution_count": 29,
   "metadata": {},
   "outputs": [
    {
     "data": {
      "text/plain": [
       "2018-03-05 19:00:00-05:00    0.932438\n",
       "2018-03-06 19:00:00-05:00   -0.080096\n",
       "2018-03-07 19:00:00-05:00    0.509112\n",
       "2018-03-08 19:00:00-05:00   -0.433725\n",
       "2018-03-09 19:00:00-05:00   -0.247901\n",
       "Freq: D, dtype: float64"
      ]
     },
     "execution_count": 29,
     "metadata": {},
     "output_type": "execute_result"
    }
   ],
   "source": [
    "ts_utc.tz_convert('US/Eastern')"
   ]
  },
  {
   "cell_type": "markdown",
   "metadata": {},
   "source": [
    "### 时间跨度转换"
   ]
  },
  {
   "cell_type": "code",
   "execution_count": 31,
   "metadata": {},
   "outputs": [],
   "source": [
    "rng = pd.date_range('1/1/2018', periods=5, freq='M')"
   ]
  },
  {
   "cell_type": "code",
   "execution_count": 32,
   "metadata": {},
   "outputs": [],
   "source": [
    "ts = pd.Series(np.random.randn(len(rng)), index=rng)"
   ]
  },
  {
   "cell_type": "code",
   "execution_count": 33,
   "metadata": {},
   "outputs": [
    {
     "data": {
      "text/plain": [
       "2018-01-31    0.775112\n",
       "2018-02-28   -1.197372\n",
       "2018-03-31   -2.088148\n",
       "2018-04-30    0.290780\n",
       "2018-05-31    0.400068\n",
       "Freq: M, dtype: float64"
      ]
     },
     "execution_count": 33,
     "metadata": {},
     "output_type": "execute_result"
    }
   ],
   "source": [
    "ts"
   ]
  },
  {
   "cell_type": "code",
   "execution_count": 34,
   "metadata": {},
   "outputs": [],
   "source": [
    "ps = ts.to_period()"
   ]
  },
  {
   "cell_type": "code",
   "execution_count": 35,
   "metadata": {},
   "outputs": [
    {
     "data": {
      "text/plain": [
       "2018-01    0.775112\n",
       "2018-02   -1.197372\n",
       "2018-03   -2.088148\n",
       "2018-04    0.290780\n",
       "2018-05    0.400068\n",
       "Freq: M, dtype: float64"
      ]
     },
     "execution_count": 35,
     "metadata": {},
     "output_type": "execute_result"
    }
   ],
   "source": [
    "ps"
   ]
  },
  {
   "cell_type": "code",
   "execution_count": 36,
   "metadata": {},
   "outputs": [
    {
     "data": {
      "text/plain": [
       "2018-01-01    0.775112\n",
       "2018-02-01   -1.197372\n",
       "2018-03-01   -2.088148\n",
       "2018-04-01    0.290780\n",
       "2018-05-01    0.400068\n",
       "Freq: MS, dtype: float64"
      ]
     },
     "execution_count": 36,
     "metadata": {},
     "output_type": "execute_result"
    }
   ],
   "source": [
    "ps.to_timestamp()"
   ]
  },
  {
   "cell_type": "markdown",
   "metadata": {},
   "source": [
    "### 通过换算时间周期（period）和时间戳（timestamp）使我们可以便捷地进行数学运算，在下面这个例子中，我们把一组频率为季度的数据转换成了以每年3,6,9,12月的第1日上午9点格式的数据。"
   ]
  },
  {
   "cell_type": "code",
   "execution_count": 37,
   "metadata": {},
   "outputs": [],
   "source": [
    "prng = pd.period_range('1990Q1', '2000Q4', freq='Q-NOV')"
   ]
  },
  {
   "cell_type": "code",
   "execution_count": 38,
   "metadata": {},
   "outputs": [],
   "source": [
    "ts = pd.Series(np.random.randn(len(prng)), prng)"
   ]
  },
  {
   "cell_type": "code",
   "execution_count": 39,
   "metadata": {},
   "outputs": [],
   "source": [
    "ts.index = (prng.asfreq('M', 'e') + 1).asfreq('H', 's') + 9"
   ]
  },
  {
   "cell_type": "code",
   "execution_count": 40,
   "metadata": {},
   "outputs": [
    {
     "data": {
      "text/plain": [
       "1990-03-01 09:00   -1.279034\n",
       "1990-06-01 09:00   -0.845435\n",
       "1990-09-01 09:00   -0.922289\n",
       "1990-12-01 09:00   -0.800461\n",
       "1991-03-01 09:00    1.247968\n",
       "Freq: H, dtype: float64"
      ]
     },
     "execution_count": 40,
     "metadata": {},
     "output_type": "execute_result"
    }
   ],
   "source": [
    "ts.head()"
   ]
  },
  {
   "cell_type": "markdown",
   "metadata": {},
   "source": [
    "## 9.分类属性（Categoricals）"
   ]
  },
  {
   "cell_type": "markdown",
   "metadata": {},
   "source": [
    "### pandas可以在DataFrame中放入支持分类属性的数据。详细文档请查看[categorical introduction](http://pandas.pydata.org/pandas-docs/stable/categorical.html#categorical)和[API documentation](http://pandas.pydata.org/pandas-docs/stable/api.html#api-categorical)"
   ]
  },
  {
   "cell_type": "code",
   "execution_count": 41,
   "metadata": {},
   "outputs": [],
   "source": [
    "df = pd.DataFrame({\"id\":[1,2,3,4,5,6], \"raw_grade\":['a', 'b', 'b', 'a', 'a', 'e']})"
   ]
  },
  {
   "cell_type": "markdown",
   "metadata": {},
   "source": [
    "### 将raw_grade里的成绩数据转换成分类属性（categorical）的数据："
   ]
  },
  {
   "cell_type": "code",
   "execution_count": 43,
   "metadata": {},
   "outputs": [],
   "source": [
    "df[\"grade\"] = df[\"raw_grade\"].astype(\"category\")"
   ]
  },
  {
   "cell_type": "code",
   "execution_count": 44,
   "metadata": {},
   "outputs": [
    {
     "data": {
      "text/plain": [
       "0    a\n",
       "1    b\n",
       "2    b\n",
       "3    a\n",
       "4    a\n",
       "5    e\n",
       "Name: grade, dtype: category\n",
       "Categories (3, object): [a, b, e]"
      ]
     },
     "execution_count": 44,
     "metadata": {},
     "output_type": "execute_result"
    }
   ],
   "source": [
    "df[\"grade\"]"
   ]
  },
  {
   "cell_type": "markdown",
   "metadata": {},
   "source": [
    "### 我们可以把分类的内容替换成更形象的名称："
   ]
  },
  {
   "cell_type": "code",
   "execution_count": 46,
   "metadata": {},
   "outputs": [],
   "source": [
    "df[\"grade\"].cat.categories = [\"优\", \"良\", \"差\"]"
   ]
  },
  {
   "cell_type": "markdown",
   "metadata": {},
   "source": [
    "### 然后补全所有类别并按照类别重新排序："
   ]
  },
  {
   "cell_type": "code",
   "execution_count": 47,
   "metadata": {},
   "outputs": [],
   "source": [
    "df[\"grade\"] = df[\"grade\"].cat.set_categories([\"很差\", \"差\", \"中\", \"良\", \"优\"])"
   ]
  },
  {
   "cell_type": "code",
   "execution_count": 48,
   "metadata": {},
   "outputs": [
    {
     "data": {
      "text/plain": [
       "0    优\n",
       "1    良\n",
       "2    良\n",
       "3    优\n",
       "4    优\n",
       "5    差\n",
       "Name: grade, dtype: category\n",
       "Categories (5, object): [很差, 差, 中, 良, 优]"
      ]
     },
     "execution_count": 48,
     "metadata": {},
     "output_type": "execute_result"
    }
   ],
   "source": [
    "df[\"grade\"]"
   ]
  },
  {
   "cell_type": "markdown",
   "metadata": {},
   "source": [
    "### 如果要进行排序，它会遵循在categories中给定的顺序，而非字符本身的顺序："
   ]
  },
  {
   "cell_type": "code",
   "execution_count": 49,
   "metadata": {},
   "outputs": [
    {
     "data": {
      "text/html": [
       "<div>\n",
       "<style scoped>\n",
       "    .dataframe tbody tr th:only-of-type {\n",
       "        vertical-align: middle;\n",
       "    }\n",
       "\n",
       "    .dataframe tbody tr th {\n",
       "        vertical-align: top;\n",
       "    }\n",
       "\n",
       "    .dataframe thead th {\n",
       "        text-align: right;\n",
       "    }\n",
       "</style>\n",
       "<table border=\"1\" class=\"dataframe\">\n",
       "  <thead>\n",
       "    <tr style=\"text-align: right;\">\n",
       "      <th></th>\n",
       "      <th>id</th>\n",
       "      <th>raw_grade</th>\n",
       "      <th>grade</th>\n",
       "    </tr>\n",
       "  </thead>\n",
       "  <tbody>\n",
       "    <tr>\n",
       "      <th>5</th>\n",
       "      <td>6</td>\n",
       "      <td>e</td>\n",
       "      <td>差</td>\n",
       "    </tr>\n",
       "    <tr>\n",
       "      <th>1</th>\n",
       "      <td>2</td>\n",
       "      <td>b</td>\n",
       "      <td>良</td>\n",
       "    </tr>\n",
       "    <tr>\n",
       "      <th>2</th>\n",
       "      <td>3</td>\n",
       "      <td>b</td>\n",
       "      <td>良</td>\n",
       "    </tr>\n",
       "    <tr>\n",
       "      <th>0</th>\n",
       "      <td>1</td>\n",
       "      <td>a</td>\n",
       "      <td>优</td>\n",
       "    </tr>\n",
       "    <tr>\n",
       "      <th>3</th>\n",
       "      <td>4</td>\n",
       "      <td>a</td>\n",
       "      <td>优</td>\n",
       "    </tr>\n",
       "    <tr>\n",
       "      <th>4</th>\n",
       "      <td>5</td>\n",
       "      <td>a</td>\n",
       "      <td>优</td>\n",
       "    </tr>\n",
       "  </tbody>\n",
       "</table>\n",
       "</div>"
      ],
      "text/plain": [
       "   id raw_grade grade\n",
       "5   6         e     差\n",
       "1   2         b     良\n",
       "2   3         b     良\n",
       "0   1         a     优\n",
       "3   4         a     优\n",
       "4   5         a     优"
      ]
     },
     "execution_count": 49,
     "metadata": {},
     "output_type": "execute_result"
    }
   ],
   "source": [
    "df.sort_values(by=\"grade\")"
   ]
  },
  {
   "cell_type": "markdown",
   "metadata": {},
   "source": [
    "### 按照类别进行分组汇总时，即使该类别下的条目为0也会显示出来"
   ]
  },
  {
   "cell_type": "code",
   "execution_count": 50,
   "metadata": {},
   "outputs": [
    {
     "data": {
      "text/plain": [
       "grade\n",
       "很差    0\n",
       "差     1\n",
       "中     0\n",
       "良     2\n",
       "优     3\n",
       "dtype: int64"
      ]
     },
     "execution_count": 50,
     "metadata": {},
     "output_type": "execute_result"
    }
   ],
   "source": [
    "df.groupby(\"grade\").size()"
   ]
  },
  {
   "cell_type": "markdown",
   "metadata": {},
   "source": [
    "## 10.绘图"
   ]
  },
  {
   "cell_type": "markdown",
   "metadata": {},
   "source": [
    "### 文档请看：[Plotting](http://pandas.pydata.org/pandas-docs/stable/visualization.html#visualization)"
   ]
  },
  {
   "cell_type": "code",
   "execution_count": 51,
   "metadata": {},
   "outputs": [],
   "source": [
    "ts = pd.Series(np.random.randn(1000), index=pd.date_range('1/1/2000', periods=1000))"
   ]
  },
  {
   "cell_type": "code",
   "execution_count": 52,
   "metadata": {},
   "outputs": [],
   "source": [
    "ts = ts.cumsum()"
   ]
  },
  {
   "cell_type": "code",
   "execution_count": 53,
   "metadata": {},
   "outputs": [
    {
     "data": {
      "text/plain": [
       "<matplotlib.axes._subplots.AxesSubplot at 0x26671371eb8>"
      ]
     },
     "execution_count": 53,
     "metadata": {},
     "output_type": "execute_result"
    },
    {
     "data": {
      "image/png": "[encoded data removed]",
      "text/plain": [
       "<Figure size 432x288 with 1 Axes>"
      ]
     },
     "metadata": {},
     "output_type": "display_data"
    }
   ],
   "source": [
    "ts.plot()"
   ]
  },
  {
   "cell_type": "markdown",
   "metadata": {},
   "source": [
    "### 在DataFrame中，plot()方法可以很方便地绘制出所有列标签下的数据："
   ]
  },
  {
   "cell_type": "code",
   "execution_count": 54,
   "metadata": {},
   "outputs": [],
   "source": [
    "df = pd.DataFrame(np.random.randn(1000, 4), index=ts.index,\n",
    "   .....:                   columns=['A', 'B', 'C', 'D'])"
   ]
  },
  {
   "cell_type": "code",
   "execution_count": 55,
   "metadata": {},
   "outputs": [],
   "source": [
    "df = df.cumsum()"
   ]
  },
  {
   "cell_type": "code",
   "execution_count": 56,
   "metadata": {},
   "outputs": [
    {
     "data": {
      "text/plain": [
       "<matplotlib.legend.Legend at 0x266717455c0>"
      ]
     },
     "execution_count": 56,
     "metadata": {},
     "output_type": "execute_result"
    },
    {
     "data": {
      "text/plain": [
       "<Figure size 432x288 with 0 Axes>"
      ]
     },
     "metadata": {},
     "output_type": "display_data"
    },
    {
     "data": {
      "image/png": "[encoded data removed]",
      "text/plain": [
       "<Figure size 432x288 with 1 Axes>"
      ]
     },
     "metadata": {},
     "output_type": "display_data"
    }
   ],
   "source": [
    "plt.figure(); df.plot(); plt.legend(loc='best')"
   ]
  },
  {
   "cell_type": "markdown",
   "metadata": {},
   "source": [
    "## 11.数据的导入和输出"
   ]
  },
  {
   "cell_type": "markdown",
   "metadata": {},
   "source": [
    "### 11.1 CSV文件"
   ]
  },
  {
   "cell_type": "markdown",
   "metadata": {},
   "source": [
    "### [保存为CSV文件](http://pandas.pydata.org/pandas-docs/stable/io.html#io-store-in-csv)"
   ]
  },
  {
   "cell_type": "code",
   "execution_count": 57,
   "metadata": {},
   "outputs": [],
   "source": [
    "df.to_csv('foo.csv')"
   ]
  },
  {
   "cell_type": "markdown",
   "metadata": {},
   "source": [
    "### [读取CSV文件](http://pandas.pydata.org/pandas-docs/stable/io.html#io-read-csv-table)"
   ]
  },
  {
   "cell_type": "code",
   "execution_count": 58,
   "metadata": {},
   "outputs": [
    {
     "data": {
      "text/html": [
       "<div>\n",
       "<style scoped>\n",
       "    .dataframe tbody tr th:only-of-type {\n",
       "        vertical-align: middle;\n",
       "    }\n",
       "\n",
       "    .dataframe tbody tr th {\n",
       "        vertical-align: top;\n",
       "    }\n",
       "\n",
       "    .dataframe thead th {\n",
       "        text-align: right;\n",
       "    }\n",
       "</style>\n",
       "<table border=\"1\" class=\"dataframe\">\n",
       "  <thead>\n",
       "    <tr style=\"text-align: right;\">\n",
       "      <th></th>\n",
       "      <th>Unnamed: 0</th>\n",
       "      <th>A</th>\n",
       "      <th>B</th>\n",
       "      <th>C</th>\n",
       "      <th>D</th>\n",
       "    </tr>\n",
       "  </thead>\n",
       "  <tbody>\n",
       "    <tr>\n",
       "      <th>0</th>\n",
       "      <td>2000-01-01</td>\n",
       "      <td>-1.793806</td>\n",
       "      <td>-1.439573</td>\n",
       "      <td>-0.116765</td>\n",
       "      <td>1.078453</td>\n",
       "    </tr>\n",
       "    <tr>\n",
       "      <th>1</th>\n",
       "      <td>2000-01-02</td>\n",
       "      <td>-0.977361</td>\n",
       "      <td>1.680866</td>\n",
       "      <td>0.181192</td>\n",
       "      <td>0.387798</td>\n",
       "    </tr>\n",
       "    <tr>\n",
       "      <th>2</th>\n",
       "      <td>2000-01-03</td>\n",
       "      <td>-0.403201</td>\n",
       "      <td>0.980279</td>\n",
       "      <td>2.359307</td>\n",
       "      <td>0.778115</td>\n",
       "    </tr>\n",
       "    <tr>\n",
       "      <th>3</th>\n",
       "      <td>2000-01-04</td>\n",
       "      <td>0.276690</td>\n",
       "      <td>2.253842</td>\n",
       "      <td>1.523397</td>\n",
       "      <td>1.613605</td>\n",
       "    </tr>\n",
       "    <tr>\n",
       "      <th>4</th>\n",
       "      <td>2000-01-05</td>\n",
       "      <td>-1.127549</td>\n",
       "      <td>0.891669</td>\n",
       "      <td>3.286792</td>\n",
       "      <td>2.135944</td>\n",
       "    </tr>\n",
       "    <tr>\n",
       "      <th>5</th>\n",
       "      <td>2000-01-06</td>\n",
       "      <td>-1.722105</td>\n",
       "      <td>0.574160</td>\n",
       "      <td>4.676815</td>\n",
       "      <td>1.048442</td>\n",
       "    </tr>\n",
       "    <tr>\n",
       "      <th>6</th>\n",
       "      <td>2000-01-07</td>\n",
       "      <td>-2.300659</td>\n",
       "      <td>1.975162</td>\n",
       "      <td>6.166305</td>\n",
       "      <td>1.270135</td>\n",
       "    </tr>\n",
       "    <tr>\n",
       "      <th>7</th>\n",
       "      <td>2000-01-08</td>\n",
       "      <td>-1.986703</td>\n",
       "      <td>2.240946</td>\n",
       "      <td>4.567565</td>\n",
       "      <td>2.249473</td>\n",
       "    </tr>\n",
       "    <tr>\n",
       "      <th>8</th>\n",
       "      <td>2000-01-09</td>\n",
       "      <td>-2.751842</td>\n",
       "      <td>4.056325</td>\n",
       "      <td>4.794222</td>\n",
       "      <td>3.251098</td>\n",
       "    </tr>\n",
       "    <tr>\n",
       "      <th>9</th>\n",
       "      <td>2000-01-10</td>\n",
       "      <td>-2.414831</td>\n",
       "      <td>3.709938</td>\n",
       "      <td>6.191617</td>\n",
       "      <td>3.671819</td>\n",
       "    </tr>\n",
       "    <tr>\n",
       "      <th>10</th>\n",
       "      <td>2000-01-11</td>\n",
       "      <td>-2.185105</td>\n",
       "      <td>4.974114</td>\n",
       "      <td>4.592093</td>\n",
       "      <td>3.051645</td>\n",
       "    </tr>\n",
       "    <tr>\n",
       "      <th>11</th>\n",
       "      <td>2000-01-12</td>\n",
       "      <td>-1.051591</td>\n",
       "      <td>4.864246</td>\n",
       "      <td>3.903071</td>\n",
       "      <td>2.514888</td>\n",
       "    </tr>\n",
       "    <tr>\n",
       "      <th>12</th>\n",
       "      <td>2000-01-13</td>\n",
       "      <td>-0.895485</td>\n",
       "      <td>6.409715</td>\n",
       "      <td>3.485436</td>\n",
       "      <td>2.016970</td>\n",
       "    </tr>\n",
       "    <tr>\n",
       "      <th>13</th>\n",
       "      <td>2000-01-14</td>\n",
       "      <td>-2.343244</td>\n",
       "      <td>6.277809</td>\n",
       "      <td>3.130254</td>\n",
       "      <td>0.745204</td>\n",
       "    </tr>\n",
       "    <tr>\n",
       "      <th>14</th>\n",
       "      <td>2000-01-15</td>\n",
       "      <td>-1.651507</td>\n",
       "      <td>4.484172</td>\n",
       "      <td>4.189348</td>\n",
       "      <td>-0.088953</td>\n",
       "    </tr>\n",
       "    <tr>\n",
       "      <th>15</th>\n",
       "      <td>2000-01-16</td>\n",
       "      <td>-1.667312</td>\n",
       "      <td>4.147812</td>\n",
       "      <td>5.313882</td>\n",
       "      <td>-0.942089</td>\n",
       "    </tr>\n",
       "    <tr>\n",
       "      <th>16</th>\n",
       "      <td>2000-01-17</td>\n",
       "      <td>-3.672971</td>\n",
       "      <td>4.582160</td>\n",
       "      <td>7.699881</td>\n",
       "      <td>-0.385328</td>\n",
       "    </tr>\n",
       "    <tr>\n",
       "      <th>17</th>\n",
       "      <td>2000-01-18</td>\n",
       "      <td>-2.498489</td>\n",
       "      <td>5.763128</td>\n",
       "      <td>7.985801</td>\n",
       "      <td>-2.379000</td>\n",
       "    </tr>\n",
       "    <tr>\n",
       "      <th>18</th>\n",
       "      <td>2000-01-19</td>\n",
       "      <td>-1.485000</td>\n",
       "      <td>6.303664</td>\n",
       "      <td>8.129667</td>\n",
       "      <td>-1.216021</td>\n",
       "    </tr>\n",
       "    <tr>\n",
       "      <th>19</th>\n",
       "      <td>2000-01-20</td>\n",
       "      <td>-0.616894</td>\n",
       "      <td>5.923785</td>\n",
       "      <td>6.281701</td>\n",
       "      <td>-0.898953</td>\n",
       "    </tr>\n",
       "    <tr>\n",
       "      <th>20</th>\n",
       "      <td>2000-01-21</td>\n",
       "      <td>-0.375034</td>\n",
       "      <td>7.153917</td>\n",
       "      <td>5.613645</td>\n",
       "      <td>0.287504</td>\n",
       "    </tr>\n",
       "    <tr>\n",
       "      <th>21</th>\n",
       "      <td>2000-01-22</td>\n",
       "      <td>-1.285720</td>\n",
       "      <td>7.712159</td>\n",
       "      <td>5.851137</td>\n",
       "      <td>-2.497753</td>\n",
       "    </tr>\n",
       "    <tr>\n",
       "      <th>22</th>\n",
       "      <td>2000-01-23</td>\n",
       "      <td>-1.087472</td>\n",
       "      <td>8.595716</td>\n",
       "      <td>6.024975</td>\n",
       "      <td>-2.064069</td>\n",
       "    </tr>\n",
       "    <tr>\n",
       "      <th>23</th>\n",
       "      <td>2000-01-24</td>\n",
       "      <td>0.698336</td>\n",
       "      <td>9.038967</td>\n",
       "      <td>6.803058</td>\n",
       "      <td>-3.450699</td>\n",
       "    </tr>\n",
       "    <tr>\n",
       "      <th>24</th>\n",
       "      <td>2000-01-25</td>\n",
       "      <td>2.642931</td>\n",
       "      <td>9.174231</td>\n",
       "      <td>5.367116</td>\n",
       "      <td>-4.397316</td>\n",
       "    </tr>\n",
       "    <tr>\n",
       "      <th>25</th>\n",
       "      <td>2000-01-26</td>\n",
       "      <td>1.617444</td>\n",
       "      <td>9.241905</td>\n",
       "      <td>4.388028</td>\n",
       "      <td>-4.761652</td>\n",
       "    </tr>\n",
       "    <tr>\n",
       "      <th>26</th>\n",
       "      <td>2000-01-27</td>\n",
       "      <td>2.285681</td>\n",
       "      <td>9.835671</td>\n",
       "      <td>5.018486</td>\n",
       "      <td>-4.239968</td>\n",
       "    </tr>\n",
       "    <tr>\n",
       "      <th>27</th>\n",
       "      <td>2000-01-28</td>\n",
       "      <td>2.000772</td>\n",
       "      <td>7.421834</td>\n",
       "      <td>4.700959</td>\n",
       "      <td>-4.481559</td>\n",
       "    </tr>\n",
       "    <tr>\n",
       "      <th>28</th>\n",
       "      <td>2000-01-29</td>\n",
       "      <td>2.769450</td>\n",
       "      <td>7.773632</td>\n",
       "      <td>4.524692</td>\n",
       "      <td>-4.962009</td>\n",
       "    </tr>\n",
       "    <tr>\n",
       "      <th>29</th>\n",
       "      <td>2000-01-30</td>\n",
       "      <td>2.631244</td>\n",
       "      <td>9.478377</td>\n",
       "      <td>4.043663</td>\n",
       "      <td>-4.486985</td>\n",
       "    </tr>\n",
       "    <tr>\n",
       "      <th>...</th>\n",
       "      <td>...</td>\n",
       "      <td>...</td>\n",
       "      <td>...</td>\n",
       "      <td>...</td>\n",
       "      <td>...</td>\n",
       "    </tr>\n",
       "    <tr>\n",
       "      <th>970</th>\n",
       "      <td>2002-08-28</td>\n",
       "      <td>59.714300</td>\n",
       "      <td>-12.004390</td>\n",
       "      <td>-30.037777</td>\n",
       "      <td>37.016091</td>\n",
       "    </tr>\n",
       "    <tr>\n",
       "      <th>971</th>\n",
       "      <td>2002-08-29</td>\n",
       "      <td>58.350876</td>\n",
       "      <td>-11.979683</td>\n",
       "      <td>-31.114387</td>\n",
       "      <td>37.228657</td>\n",
       "    </tr>\n",
       "    <tr>\n",
       "      <th>972</th>\n",
       "      <td>2002-08-30</td>\n",
       "      <td>59.427521</td>\n",
       "      <td>-13.067186</td>\n",
       "      <td>-33.257386</td>\n",
       "      <td>38.002699</td>\n",
       "    </tr>\n",
       "    <tr>\n",
       "      <th>973</th>\n",
       "      <td>2002-08-31</td>\n",
       "      <td>59.688054</td>\n",
       "      <td>-14.657816</td>\n",
       "      <td>-32.860148</td>\n",
       "      <td>37.912338</td>\n",
       "    </tr>\n",
       "    <tr>\n",
       "      <th>974</th>\n",
       "      <td>2002-09-01</td>\n",
       "      <td>57.965507</td>\n",
       "      <td>-14.319673</td>\n",
       "      <td>-33.001027</td>\n",
       "      <td>38.581343</td>\n",
       "    </tr>\n",
       "    <tr>\n",
       "      <th>975</th>\n",
       "      <td>2002-09-02</td>\n",
       "      <td>59.143571</td>\n",
       "      <td>-14.628160</td>\n",
       "      <td>-31.773570</td>\n",
       "      <td>36.677045</td>\n",
       "    </tr>\n",
       "    <tr>\n",
       "      <th>976</th>\n",
       "      <td>2002-09-03</td>\n",
       "      <td>60.115401</td>\n",
       "      <td>-16.194898</td>\n",
       "      <td>-30.702006</td>\n",
       "      <td>37.147781</td>\n",
       "    </tr>\n",
       "    <tr>\n",
       "      <th>977</th>\n",
       "      <td>2002-09-04</td>\n",
       "      <td>60.881693</td>\n",
       "      <td>-16.277813</td>\n",
       "      <td>-31.178087</td>\n",
       "      <td>35.552054</td>\n",
       "    </tr>\n",
       "    <tr>\n",
       "      <th>978</th>\n",
       "      <td>2002-09-05</td>\n",
       "      <td>60.955927</td>\n",
       "      <td>-17.267000</td>\n",
       "      <td>-30.917618</td>\n",
       "      <td>37.577790</td>\n",
       "    </tr>\n",
       "    <tr>\n",
       "      <th>979</th>\n",
       "      <td>2002-09-06</td>\n",
       "      <td>59.555480</td>\n",
       "      <td>-16.770311</td>\n",
       "      <td>-29.685831</td>\n",
       "      <td>38.006304</td>\n",
       "    </tr>\n",
       "    <tr>\n",
       "      <th>980</th>\n",
       "      <td>2002-09-07</td>\n",
       "      <td>57.769637</td>\n",
       "      <td>-17.628000</td>\n",
       "      <td>-28.869308</td>\n",
       "      <td>37.590048</td>\n",
       "    </tr>\n",
       "    <tr>\n",
       "      <th>981</th>\n",
       "      <td>2002-09-08</td>\n",
       "      <td>58.139465</td>\n",
       "      <td>-18.628497</td>\n",
       "      <td>-29.362193</td>\n",
       "      <td>38.692991</td>\n",
       "    </tr>\n",
       "    <tr>\n",
       "      <th>982</th>\n",
       "      <td>2002-09-09</td>\n",
       "      <td>59.506774</td>\n",
       "      <td>-18.414810</td>\n",
       "      <td>-29.858011</td>\n",
       "      <td>39.954244</td>\n",
       "    </tr>\n",
       "    <tr>\n",
       "      <th>983</th>\n",
       "      <td>2002-09-10</td>\n",
       "      <td>57.636196</td>\n",
       "      <td>-18.332899</td>\n",
       "      <td>-29.551767</td>\n",
       "      <td>39.793987</td>\n",
       "    </tr>\n",
       "    <tr>\n",
       "      <th>984</th>\n",
       "      <td>2002-09-11</td>\n",
       "      <td>55.575349</td>\n",
       "      <td>-19.046661</td>\n",
       "      <td>-29.177713</td>\n",
       "      <td>39.624809</td>\n",
       "    </tr>\n",
       "    <tr>\n",
       "      <th>985</th>\n",
       "      <td>2002-09-12</td>\n",
       "      <td>57.001209</td>\n",
       "      <td>-18.550850</td>\n",
       "      <td>-29.481526</td>\n",
       "      <td>39.972268</td>\n",
       "    </tr>\n",
       "    <tr>\n",
       "      <th>986</th>\n",
       "      <td>2002-09-13</td>\n",
       "      <td>57.369815</td>\n",
       "      <td>-18.118808</td>\n",
       "      <td>-31.503816</td>\n",
       "      <td>41.176488</td>\n",
       "    </tr>\n",
       "    <tr>\n",
       "      <th>987</th>\n",
       "      <td>2002-09-14</td>\n",
       "      <td>57.357193</td>\n",
       "      <td>-18.474465</td>\n",
       "      <td>-31.216621</td>\n",
       "      <td>41.077126</td>\n",
       "    </tr>\n",
       "    <tr>\n",
       "      <th>988</th>\n",
       "      <td>2002-09-15</td>\n",
       "      <td>59.125287</td>\n",
       "      <td>-19.022989</td>\n",
       "      <td>-30.500801</td>\n",
       "      <td>39.328276</td>\n",
       "    </tr>\n",
       "    <tr>\n",
       "      <th>989</th>\n",
       "      <td>2002-09-16</td>\n",
       "      <td>57.806099</td>\n",
       "      <td>-18.412148</td>\n",
       "      <td>-29.868476</td>\n",
       "      <td>40.849361</td>\n",
       "    </tr>\n",
       "    <tr>\n",
       "      <th>990</th>\n",
       "      <td>2002-09-17</td>\n",
       "      <td>58.078552</td>\n",
       "      <td>-17.027418</td>\n",
       "      <td>-30.006486</td>\n",
       "      <td>40.544853</td>\n",
       "    </tr>\n",
       "    <tr>\n",
       "      <th>991</th>\n",
       "      <td>2002-09-18</td>\n",
       "      <td>58.447127</td>\n",
       "      <td>-16.833854</td>\n",
       "      <td>-28.580791</td>\n",
       "      <td>39.894819</td>\n",
       "    </tr>\n",
       "    <tr>\n",
       "      <th>992</th>\n",
       "      <td>2002-09-19</td>\n",
       "      <td>58.237701</td>\n",
       "      <td>-16.283959</td>\n",
       "      <td>-29.521682</td>\n",
       "      <td>39.610973</td>\n",
       "    </tr>\n",
       "    <tr>\n",
       "      <th>993</th>\n",
       "      <td>2002-09-20</td>\n",
       "      <td>59.131153</td>\n",
       "      <td>-16.885537</td>\n",
       "      <td>-30.451692</td>\n",
       "      <td>42.363204</td>\n",
       "    </tr>\n",
       "    <tr>\n",
       "      <th>994</th>\n",
       "      <td>2002-09-21</td>\n",
       "      <td>58.113639</td>\n",
       "      <td>-17.142690</td>\n",
       "      <td>-30.508865</td>\n",
       "      <td>42.722171</td>\n",
       "    </tr>\n",
       "    <tr>\n",
       "      <th>995</th>\n",
       "      <td>2002-09-22</td>\n",
       "      <td>56.388856</td>\n",
       "      <td>-17.850305</td>\n",
       "      <td>-30.795737</td>\n",
       "      <td>44.163956</td>\n",
       "    </tr>\n",
       "    <tr>\n",
       "      <th>996</th>\n",
       "      <td>2002-09-23</td>\n",
       "      <td>54.802328</td>\n",
       "      <td>-16.176873</td>\n",
       "      <td>-29.348422</td>\n",
       "      <td>44.351928</td>\n",
       "    </tr>\n",
       "    <tr>\n",
       "      <th>997</th>\n",
       "      <td>2002-09-24</td>\n",
       "      <td>54.367983</td>\n",
       "      <td>-15.742824</td>\n",
       "      <td>-29.678398</td>\n",
       "      <td>44.762649</td>\n",
       "    </tr>\n",
       "    <tr>\n",
       "      <th>998</th>\n",
       "      <td>2002-09-25</td>\n",
       "      <td>55.831036</td>\n",
       "      <td>-16.302711</td>\n",
       "      <td>-30.493836</td>\n",
       "      <td>45.935456</td>\n",
       "    </tr>\n",
       "    <tr>\n",
       "      <th>999</th>\n",
       "      <td>2002-09-26</td>\n",
       "      <td>55.301766</td>\n",
       "      <td>-16.469946</td>\n",
       "      <td>-32.092837</td>\n",
       "      <td>46.175228</td>\n",
       "    </tr>\n",
       "  </tbody>\n",
       "</table>\n",
       "<p>1000 rows × 5 columns</p>\n",
       "</div>"
      ],
      "text/plain": [
       "     Unnamed: 0          A          B          C          D\n",
       "0    2000-01-01  -1.793806  -1.439573  -0.116765   1.078453\n",
       "1    2000-01-02  -0.977361   1.680866   0.181192   0.387798\n",
       "2    2000-01-03  -0.403201   0.980279   2.359307   0.778115\n",
       "3    2000-01-04   0.276690   2.253842   1.523397   1.613605\n",
       "4    2000-01-05  -1.127549   0.891669   3.286792   2.135944\n",
       "5    2000-01-06  -1.722105   0.574160   4.676815   1.048442\n",
       "6    2000-01-07  -2.300659   1.975162   6.166305   1.270135\n",
       "7    2000-01-08  -1.986703   2.240946   4.567565   2.249473\n",
       "8    2000-01-09  -2.751842   4.056325   4.794222   3.251098\n",
       "9    2000-01-10  -2.414831   3.709938   6.191617   3.671819\n",
       "10   2000-01-11  -2.185105   4.974114   4.592093   3.051645\n",
       "11   2000-01-12  -1.051591   4.864246   3.903071   2.514888\n",
       "12   2000-01-13  -0.895485   6.409715   3.485436   2.016970\n",
       "13   2000-01-14  -2.343244   6.277809   3.130254   0.745204\n",
       "14   2000-01-15  -1.651507   4.484172   4.189348  -0.088953\n",
       "15   2000-01-16  -1.667312   4.147812   5.313882  -0.942089\n",
       "16   2000-01-17  -3.672971   4.582160   7.699881  -0.385328\n",
       "17   2000-01-18  -2.498489   5.763128   7.985801  -2.379000\n",
       "18   2000-01-19  -1.485000   6.303664   8.129667  -1.216021\n",
       "19   2000-01-20  -0.616894   5.923785   6.281701  -0.898953\n",
       "20   2000-01-21  -0.375034   7.153917   5.613645   0.287504\n",
       "21   2000-01-22  -1.285720   7.712159   5.851137  -2.497753\n",
       "22   2000-01-23  -1.087472   8.595716   6.024975  -2.064069\n",
       "23   2000-01-24   0.698336   9.038967   6.803058  -3.450699\n",
       "24   2000-01-25   2.642931   9.174231   5.367116  -4.397316\n",
       "25   2000-01-26   1.617444   9.241905   4.388028  -4.761652\n",
       "26   2000-01-27   2.285681   9.835671   5.018486  -4.239968\n",
       "27   2000-01-28   2.000772   7.421834   4.700959  -4.481559\n",
       "28   2000-01-29   2.769450   7.773632   4.524692  -4.962009\n",
       "29   2000-01-30   2.631244   9.478377   4.043663  -4.486985\n",
       "..          ...        ...        ...        ...        ...\n",
       "970  2002-08-28  59.714300 -12.004390 -30.037777  37.016091\n",
       "971  2002-08-29  58.350876 -11.979683 -31.114387  37.228657\n",
       "972  2002-08-30  59.427521 -13.067186 -33.257386  38.002699\n",
       "973  2002-08-31  59.688054 -14.657816 -32.860148  37.912338\n",
       "974  2002-09-01  57.965507 -14.319673 -33.001027  38.581343\n",
       "975  2002-09-02  59.143571 -14.628160 -31.773570  36.677045\n",
       "976  2002-09-03  60.115401 -16.194898 -30.702006  37.147781\n",
       "977  2002-09-04  60.881693 -16.277813 -31.178087  35.552054\n",
       "978  2002-09-05  60.955927 -17.267000 -30.917618  37.577790\n",
       "979  2002-09-06  59.555480 -16.770311 -29.685831  38.006304\n",
       "980  2002-09-07  57.769637 -17.628000 -28.869308  37.590048\n",
       "981  2002-09-08  58.139465 -18.628497 -29.362193  38.692991\n",
       "982  2002-09-09  59.506774 -18.414810 -29.858011  39.954244\n",
       "983  2002-09-10  57.636196 -18.332899 -29.551767  39.793987\n",
       "984  2002-09-11  55.575349 -19.046661 -29.177713  39.624809\n",
       "985  2002-09-12  57.001209 -18.550850 -29.481526  39.972268\n",
       "986  2002-09-13  57.369815 -18.118808 -31.503816  41.176488\n",
       "987  2002-09-14  57.357193 -18.474465 -31.216621  41.077126\n",
       "988  2002-09-15  59.125287 -19.022989 -30.500801  39.328276\n",
       "989  2002-09-16  57.806099 -18.412148 -29.868476  40.849361\n",
       "990  2002-09-17  58.078552 -17.027418 -30.006486  40.544853\n",
       "991  2002-09-18  58.447127 -16.833854 -28.580791  39.894819\n",
       "992  2002-09-19  58.237701 -16.283959 -29.521682  39.610973\n",
       "993  2002-09-20  59.131153 -16.885537 -30.451692  42.363204\n",
       "994  2002-09-21  58.113639 -17.142690 -30.508865  42.722171\n",
       "995  2002-09-22  56.388856 -17.850305 -30.795737  44.163956\n",
       "996  2002-09-23  54.802328 -16.176873 -29.348422  44.351928\n",
       "997  2002-09-24  54.367983 -15.742824 -29.678398  44.762649\n",
       "998  2002-09-25  55.831036 -16.302711 -30.493836  45.935456\n",
       "999  2002-09-26  55.301766 -16.469946 -32.092837  46.175228\n",
       "\n",
       "[1000 rows x 5 columns]"
      ]
     },
     "execution_count": 58,
     "metadata": {},
     "output_type": "execute_result"
    }
   ],
   "source": [
    "pd.read_csv('foo.csv')"
   ]
  },
  {
   "cell_type": "markdown",
   "metadata": {},
   "source": [
    "### 11.2 HDF5文件"
   ]
  },
  {
   "cell_type": "markdown",
   "metadata": {},
   "source": [
    "### 读写HDF5文件[HDFStores](http://pandas.pydata.org/pandas-docs/stable/io.html#io-hdf5)\n",
    "### 写入HDF5存储："
   ]
  },
  {
   "cell_type": "code",
   "execution_count": 59,
   "metadata": {},
   "outputs": [],
   "source": [
    "df.to_hdf('foo.h5','df')"
   ]
  },
  {
   "cell_type": "markdown",
   "metadata": {},
   "source": [
    "### 从HDF5存储中读取："
   ]
  },
  {
   "cell_type": "code",
   "execution_count": 60,
   "metadata": {},
   "outputs": [
    {
     "data": {
      "text/html": [
       "<div>\n",
       "<style scoped>\n",
       "    .dataframe tbody tr th:only-of-type {\n",
       "        vertical-align: middle;\n",
       "    }\n",
       "\n",
       "    .dataframe tbody tr th {\n",
       "        vertical-align: top;\n",
       "    }\n",
       "\n",
       "    .dataframe thead th {\n",
       "        text-align: right;\n",
       "    }\n",
       "</style>\n",
       "<table border=\"1\" class=\"dataframe\">\n",
       "  <thead>\n",
       "    <tr style=\"text-align: right;\">\n",
       "      <th></th>\n",
       "      <th>A</th>\n",
       "      <th>B</th>\n",
       "      <th>C</th>\n",
       "      <th>D</th>\n",
       "    </tr>\n",
       "  </thead>\n",
       "  <tbody>\n",
       "    <tr>\n",
       "      <th>2000-01-01</th>\n",
       "      <td>-1.793806</td>\n",
       "      <td>-1.439573</td>\n",
       "      <td>-0.116765</td>\n",
       "      <td>1.078453</td>\n",
       "    </tr>\n",
       "    <tr>\n",
       "      <th>2000-01-02</th>\n",
       "      <td>-0.977361</td>\n",
       "      <td>1.680866</td>\n",
       "      <td>0.181192</td>\n",
       "      <td>0.387798</td>\n",
       "    </tr>\n",
       "    <tr>\n",
       "      <th>2000-01-03</th>\n",
       "      <td>-0.403201</td>\n",
       "      <td>0.980279</td>\n",
       "      <td>2.359307</td>\n",
       "      <td>0.778115</td>\n",
       "    </tr>\n",
       "    <tr>\n",
       "      <th>2000-01-04</th>\n",
       "      <td>0.276690</td>\n",
       "      <td>2.253842</td>\n",
       "      <td>1.523397</td>\n",
       "      <td>1.613605</td>\n",
       "    </tr>\n",
       "    <tr>\n",
       "      <th>2000-01-05</th>\n",
       "      <td>-1.127549</td>\n",
       "      <td>0.891669</td>\n",
       "      <td>3.286792</td>\n",
       "      <td>2.135944</td>\n",
       "    </tr>\n",
       "    <tr>\n",
       "      <th>2000-01-06</th>\n",
       "      <td>-1.722105</td>\n",
       "      <td>0.574160</td>\n",
       "      <td>4.676815</td>\n",
       "      <td>1.048442</td>\n",
       "    </tr>\n",
       "    <tr>\n",
       "      <th>2000-01-07</th>\n",
       "      <td>-2.300659</td>\n",
       "      <td>1.975162</td>\n",
       "      <td>6.166305</td>\n",
       "      <td>1.270135</td>\n",
       "    </tr>\n",
       "    <tr>\n",
       "      <th>2000-01-08</th>\n",
       "      <td>-1.986703</td>\n",
       "      <td>2.240946</td>\n",
       "      <td>4.567565</td>\n",
       "      <td>2.249473</td>\n",
       "    </tr>\n",
       "    <tr>\n",
       "      <th>2000-01-09</th>\n",
       "      <td>-2.751842</td>\n",
       "      <td>4.056325</td>\n",
       "      <td>4.794222</td>\n",
       "      <td>3.251098</td>\n",
       "    </tr>\n",
       "    <tr>\n",
       "      <th>2000-01-10</th>\n",
       "      <td>-2.414831</td>\n",
       "      <td>3.709938</td>\n",
       "      <td>6.191617</td>\n",
       "      <td>3.671819</td>\n",
       "    </tr>\n",
       "    <tr>\n",
       "      <th>2000-01-11</th>\n",
       "      <td>-2.185105</td>\n",
       "      <td>4.974114</td>\n",
       "      <td>4.592093</td>\n",
       "      <td>3.051645</td>\n",
       "    </tr>\n",
       "    <tr>\n",
       "      <th>2000-01-12</th>\n",
       "      <td>-1.051591</td>\n",
       "      <td>4.864246</td>\n",
       "      <td>3.903071</td>\n",
       "      <td>2.514888</td>\n",
       "    </tr>\n",
       "    <tr>\n",
       "      <th>2000-01-13</th>\n",
       "      <td>-0.895485</td>\n",
       "      <td>6.409715</td>\n",
       "      <td>3.485436</td>\n",
       "      <td>2.016970</td>\n",
       "    </tr>\n",
       "    <tr>\n",
       "      <th>2000-01-14</th>\n",
       "      <td>-2.343244</td>\n",
       "      <td>6.277809</td>\n",
       "      <td>3.130254</td>\n",
       "      <td>0.745204</td>\n",
       "    </tr>\n",
       "    <tr>\n",
       "      <th>2000-01-15</th>\n",
       "      <td>-1.651507</td>\n",
       "      <td>4.484172</td>\n",
       "      <td>4.189348</td>\n",
       "      <td>-0.088953</td>\n",
       "    </tr>\n",
       "    <tr>\n",
       "      <th>2000-01-16</th>\n",
       "      <td>-1.667312</td>\n",
       "      <td>4.147812</td>\n",
       "      <td>5.313882</td>\n",
       "      <td>-0.942089</td>\n",
       "    </tr>\n",
       "    <tr>\n",
       "      <th>2000-01-17</th>\n",
       "      <td>-3.672971</td>\n",
       "      <td>4.582160</td>\n",
       "      <td>7.699881</td>\n",
       "      <td>-0.385328</td>\n",
       "    </tr>\n",
       "    <tr>\n",
       "      <th>2000-01-18</th>\n",
       "      <td>-2.498489</td>\n",
       "      <td>5.763128</td>\n",
       "      <td>7.985801</td>\n",
       "      <td>-2.379000</td>\n",
       "    </tr>\n",
       "    <tr>\n",
       "      <th>2000-01-19</th>\n",
       "      <td>-1.485000</td>\n",
       "      <td>6.303664</td>\n",
       "      <td>8.129667</td>\n",
       "      <td>-1.216021</td>\n",
       "    </tr>\n",
       "    <tr>\n",
       "      <th>2000-01-20</th>\n",
       "      <td>-0.616894</td>\n",
       "      <td>5.923785</td>\n",
       "      <td>6.281701</td>\n",
       "      <td>-0.898953</td>\n",
       "    </tr>\n",
       "    <tr>\n",
       "      <th>2000-01-21</th>\n",
       "      <td>-0.375034</td>\n",
       "      <td>7.153917</td>\n",
       "      <td>5.613645</td>\n",
       "      <td>0.287504</td>\n",
       "    </tr>\n",
       "    <tr>\n",
       "      <th>2000-01-22</th>\n",
       "      <td>-1.285720</td>\n",
       "      <td>7.712159</td>\n",
       "      <td>5.851137</td>\n",
       "      <td>-2.497753</td>\n",
       "    </tr>\n",
       "    <tr>\n",
       "      <th>2000-01-23</th>\n",
       "      <td>-1.087472</td>\n",
       "      <td>8.595716</td>\n",
       "      <td>6.024975</td>\n",
       "      <td>-2.064069</td>\n",
       "    </tr>\n",
       "    <tr>\n",
       "      <th>2000-01-24</th>\n",
       "      <td>0.698336</td>\n",
       "      <td>9.038967</td>\n",
       "      <td>6.803058</td>\n",
       "      <td>-3.450699</td>\n",
       "    </tr>\n",
       "    <tr>\n",
       "      <th>2000-01-25</th>\n",
       "      <td>2.642931</td>\n",
       "      <td>9.174231</td>\n",
       "      <td>5.367116</td>\n",
       "      <td>-4.397316</td>\n",
       "    </tr>\n",
       "    <tr>\n",
       "      <th>2000-01-26</th>\n",
       "      <td>1.617444</td>\n",
       "      <td>9.241905</td>\n",
       "      <td>4.388028</td>\n",
       "      <td>-4.761652</td>\n",
       "    </tr>\n",
       "    <tr>\n",
       "      <th>2000-01-27</th>\n",
       "      <td>2.285681</td>\n",
       "      <td>9.835671</td>\n",
       "      <td>5.018486</td>\n",
       "      <td>-4.239968</td>\n",
       "    </tr>\n",
       "    <tr>\n",
       "      <th>2000-01-28</th>\n",
       "      <td>2.000772</td>\n",
       "      <td>7.421834</td>\n",
       "      <td>4.700959</td>\n",
       "      <td>-4.481559</td>\n",
       "    </tr>\n",
       "    <tr>\n",
       "      <th>2000-01-29</th>\n",
       "      <td>2.769450</td>\n",
       "      <td>7.773632</td>\n",
       "      <td>4.524692</td>\n",
       "      <td>-4.962009</td>\n",
       "    </tr>\n",
       "    <tr>\n",
       "      <th>2000-01-30</th>\n",
       "      <td>2.631244</td>\n",
       "      <td>9.478377</td>\n",
       "      <td>4.043663</td>\n",
       "      <td>-4.486985</td>\n",
       "    </tr>\n",
       "    <tr>\n",
       "      <th>...</th>\n",
       "      <td>...</td>\n",
       "      <td>...</td>\n",
       "      <td>...</td>\n",
       "      <td>...</td>\n",
       "    </tr>\n",
       "    <tr>\n",
       "      <th>2002-08-28</th>\n",
       "      <td>59.714300</td>\n",
       "      <td>-12.004390</td>\n",
       "      <td>-30.037777</td>\n",
       "      <td>37.016091</td>\n",
       "    </tr>\n",
       "    <tr>\n",
       "      <th>2002-08-29</th>\n",
       "      <td>58.350876</td>\n",
       "      <td>-11.979683</td>\n",
       "      <td>-31.114387</td>\n",
       "      <td>37.228657</td>\n",
       "    </tr>\n",
       "    <tr>\n",
       "      <th>2002-08-30</th>\n",
       "      <td>59.427521</td>\n",
       "      <td>-13.067186</td>\n",
       "      <td>-33.257386</td>\n",
       "      <td>38.002699</td>\n",
       "    </tr>\n",
       "    <tr>\n",
       "      <th>2002-08-31</th>\n",
       "      <td>59.688054</td>\n",
       "      <td>-14.657816</td>\n",
       "      <td>-32.860148</td>\n",
       "      <td>37.912338</td>\n",
       "    </tr>\n",
       "    <tr>\n",
       "      <th>2002-09-01</th>\n",
       "      <td>57.965507</td>\n",
       "      <td>-14.319673</td>\n",
       "      <td>-33.001027</td>\n",
       "      <td>38.581343</td>\n",
       "    </tr>\n",
       "    <tr>\n",
       "      <th>2002-09-02</th>\n",
       "      <td>59.143571</td>\n",
       "      <td>-14.628160</td>\n",
       "      <td>-31.773570</td>\n",
       "      <td>36.677045</td>\n",
       "    </tr>\n",
       "    <tr>\n",
       "      <th>2002-09-03</th>\n",
       "      <td>60.115401</td>\n",
       "      <td>-16.194898</td>\n",
       "      <td>-30.702006</td>\n",
       "      <td>37.147781</td>\n",
       "    </tr>\n",
       "    <tr>\n",
       "      <th>2002-09-04</th>\n",
       "      <td>60.881693</td>\n",
       "      <td>-16.277813</td>\n",
       "      <td>-31.178087</td>\n",
       "      <td>35.552054</td>\n",
       "    </tr>\n",
       "    <tr>\n",
       "      <th>2002-09-05</th>\n",
       "      <td>60.955927</td>\n",
       "      <td>-17.267000</td>\n",
       "      <td>-30.917618</td>\n",
       "      <td>37.577790</td>\n",
       "    </tr>\n",
       "    <tr>\n",
       "      <th>2002-09-06</th>\n",
       "      <td>59.555480</td>\n",
       "      <td>-16.770311</td>\n",
       "      <td>-29.685831</td>\n",
       "      <td>38.006304</td>\n",
       "    </tr>\n",
       "    <tr>\n",
       "      <th>2002-09-07</th>\n",
       "      <td>57.769637</td>\n",
       "      <td>-17.628000</td>\n",
       "      <td>-28.869308</td>\n",
       "      <td>37.590048</td>\n",
       "    </tr>\n",
       "    <tr>\n",
       "      <th>2002-09-08</th>\n",
       "      <td>58.139465</td>\n",
       "      <td>-18.628497</td>\n",
       "      <td>-29.362193</td>\n",
       "      <td>38.692991</td>\n",
       "    </tr>\n",
       "    <tr>\n",
       "      <th>2002-09-09</th>\n",
       "      <td>59.506774</td>\n",
       "      <td>-18.414810</td>\n",
       "      <td>-29.858011</td>\n",
       "      <td>39.954244</td>\n",
       "    </tr>\n",
       "    <tr>\n",
       "      <th>2002-09-10</th>\n",
       "      <td>57.636196</td>\n",
       "      <td>-18.332899</td>\n",
       "      <td>-29.551767</td>\n",
       "      <td>39.793987</td>\n",
       "    </tr>\n",
       "    <tr>\n",
       "      <th>2002-09-11</th>\n",
       "      <td>55.575349</td>\n",
       "      <td>-19.046661</td>\n",
       "      <td>-29.177713</td>\n",
       "      <td>39.624809</td>\n",
       "    </tr>\n",
       "    <tr>\n",
       "      <th>2002-09-12</th>\n",
       "      <td>57.001209</td>\n",
       "      <td>-18.550850</td>\n",
       "      <td>-29.481526</td>\n",
       "      <td>39.972268</td>\n",
       "    </tr>\n",
       "    <tr>\n",
       "      <th>2002-09-13</th>\n",
       "      <td>57.369815</td>\n",
       "      <td>-18.118808</td>\n",
       "      <td>-31.503816</td>\n",
       "      <td>41.176488</td>\n",
       "    </tr>\n",
       "    <tr>\n",
       "      <th>2002-09-14</th>\n",
       "      <td>57.357193</td>\n",
       "      <td>-18.474465</td>\n",
       "      <td>-31.216621</td>\n",
       "      <td>41.077126</td>\n",
       "    </tr>\n",
       "    <tr>\n",
       "      <th>2002-09-15</th>\n",
       "      <td>59.125287</td>\n",
       "      <td>-19.022989</td>\n",
       "      <td>-30.500801</td>\n",
       "      <td>39.328276</td>\n",
       "    </tr>\n",
       "    <tr>\n",
       "      <th>2002-09-16</th>\n",
       "      <td>57.806099</td>\n",
       "      <td>-18.412148</td>\n",
       "      <td>-29.868476</td>\n",
       "      <td>40.849361</td>\n",
       "    </tr>\n",
       "    <tr>\n",
       "      <th>2002-09-17</th>\n",
       "      <td>58.078552</td>\n",
       "      <td>-17.027418</td>\n",
       "      <td>-30.006486</td>\n",
       "      <td>40.544853</td>\n",
       "    </tr>\n",
       "    <tr>\n",
       "      <th>2002-09-18</th>\n",
       "      <td>58.447127</td>\n",
       "      <td>-16.833854</td>\n",
       "      <td>-28.580791</td>\n",
       "      <td>39.894819</td>\n",
       "    </tr>\n",
       "    <tr>\n",
       "      <th>2002-09-19</th>\n",
       "      <td>58.237701</td>\n",
       "      <td>-16.283959</td>\n",
       "      <td>-29.521682</td>\n",
       "      <td>39.610973</td>\n",
       "    </tr>\n",
       "    <tr>\n",
       "      <th>2002-09-20</th>\n",
       "      <td>59.131153</td>\n",
       "      <td>-16.885537</td>\n",
       "      <td>-30.451692</td>\n",
       "      <td>42.363204</td>\n",
       "    </tr>\n",
       "    <tr>\n",
       "      <th>2002-09-21</th>\n",
       "      <td>58.113639</td>\n",
       "      <td>-17.142690</td>\n",
       "      <td>-30.508865</td>\n",
       "      <td>42.722171</td>\n",
       "    </tr>\n",
       "    <tr>\n",
       "      <th>2002-09-22</th>\n",
       "      <td>56.388856</td>\n",
       "      <td>-17.850305</td>\n",
       "      <td>-30.795737</td>\n",
       "      <td>44.163956</td>\n",
       "    </tr>\n",
       "    <tr>\n",
       "      <th>2002-09-23</th>\n",
       "      <td>54.802328</td>\n",
       "      <td>-16.176873</td>\n",
       "      <td>-29.348422</td>\n",
       "      <td>44.351928</td>\n",
       "    </tr>\n",
       "    <tr>\n",
       "      <th>2002-09-24</th>\n",
       "      <td>54.367983</td>\n",
       "      <td>-15.742824</td>\n",
       "      <td>-29.678398</td>\n",
       "      <td>44.762649</td>\n",
       "    </tr>\n",
       "    <tr>\n",
       "      <th>2002-09-25</th>\n",
       "      <td>55.831036</td>\n",
       "      <td>-16.302711</td>\n",
       "      <td>-30.493836</td>\n",
       "      <td>45.935456</td>\n",
       "    </tr>\n",
       "    <tr>\n",
       "      <th>2002-09-26</th>\n",
       "      <td>55.301766</td>\n",
       "      <td>-16.469946</td>\n",
       "      <td>-32.092837</td>\n",
       "      <td>46.175228</td>\n",
       "    </tr>\n",
       "  </tbody>\n",
       "</table>\n",
       "<p>1000 rows × 4 columns</p>\n",
       "</div>"
      ],
      "text/plain": [
       "                    A          B          C          D\n",
       "2000-01-01  -1.793806  -1.439573  -0.116765   1.078453\n",
       "2000-01-02  -0.977361   1.680866   0.181192   0.387798\n",
       "2000-01-03  -0.403201   0.980279   2.359307   0.778115\n",
       "2000-01-04   0.276690   2.253842   1.523397   1.613605\n",
       "2000-01-05  -1.127549   0.891669   3.286792   2.135944\n",
       "2000-01-06  -1.722105   0.574160   4.676815   1.048442\n",
       "2000-01-07  -2.300659   1.975162   6.166305   1.270135\n",
       "2000-01-08  -1.986703   2.240946   4.567565   2.249473\n",
       "2000-01-09  -2.751842   4.056325   4.794222   3.251098\n",
       "2000-01-10  -2.414831   3.709938   6.191617   3.671819\n",
       "2000-01-11  -2.185105   4.974114   4.592093   3.051645\n",
       "2000-01-12  -1.051591   4.864246   3.903071   2.514888\n",
       "2000-01-13  -0.895485   6.409715   3.485436   2.016970\n",
       "2000-01-14  -2.343244   6.277809   3.130254   0.745204\n",
       "2000-01-15  -1.651507   4.484172   4.189348  -0.088953\n",
       "2000-01-16  -1.667312   4.147812   5.313882  -0.942089\n",
       "2000-01-17  -3.672971   4.582160   7.699881  -0.385328\n",
       "2000-01-18  -2.498489   5.763128   7.985801  -2.379000\n",
       "2000-01-19  -1.485000   6.303664   8.129667  -1.216021\n",
       "2000-01-20  -0.616894   5.923785   6.281701  -0.898953\n",
       "2000-01-21  -0.375034   7.153917   5.613645   0.287504\n",
       "2000-01-22  -1.285720   7.712159   5.851137  -2.497753\n",
       "2000-01-23  -1.087472   8.595716   6.024975  -2.064069\n",
       "2000-01-24   0.698336   9.038967   6.803058  -3.450699\n",
       "2000-01-25   2.642931   9.174231   5.367116  -4.397316\n",
       "2000-01-26   1.617444   9.241905   4.388028  -4.761652\n",
       "2000-01-27   2.285681   9.835671   5.018486  -4.239968\n",
       "2000-01-28   2.000772   7.421834   4.700959  -4.481559\n",
       "2000-01-29   2.769450   7.773632   4.524692  -4.962009\n",
       "2000-01-30   2.631244   9.478377   4.043663  -4.486985\n",
       "...               ...        ...        ...        ...\n",
       "2002-08-28  59.714300 -12.004390 -30.037777  37.016091\n",
       "2002-08-29  58.350876 -11.979683 -31.114387  37.228657\n",
       "2002-08-30  59.427521 -13.067186 -33.257386  38.002699\n",
       "2002-08-31  59.688054 -14.657816 -32.860148  37.912338\n",
       "2002-09-01  57.965507 -14.319673 -33.001027  38.581343\n",
       "2002-09-02  59.143571 -14.628160 -31.773570  36.677045\n",
       "2002-09-03  60.115401 -16.194898 -30.702006  37.147781\n",
       "2002-09-04  60.881693 -16.277813 -31.178087  35.552054\n",
       "2002-09-05  60.955927 -17.267000 -30.917618  37.577790\n",
       "2002-09-06  59.555480 -16.770311 -29.685831  38.006304\n",
       "2002-09-07  57.769637 -17.628000 -28.869308  37.590048\n",
       "2002-09-08  58.139465 -18.628497 -29.362193  38.692991\n",
       "2002-09-09  59.506774 -18.414810 -29.858011  39.954244\n",
       "2002-09-10  57.636196 -18.332899 -29.551767  39.793987\n",
       "2002-09-11  55.575349 -19.046661 -29.177713  39.624809\n",
       "2002-09-12  57.001209 -18.550850 -29.481526  39.972268\n",
       "2002-09-13  57.369815 -18.118808 -31.503816  41.176488\n",
       "2002-09-14  57.357193 -18.474465 -31.216621  41.077126\n",
       "2002-09-15  59.125287 -19.022989 -30.500801  39.328276\n",
       "2002-09-16  57.806099 -18.412148 -29.868476  40.849361\n",
       "2002-09-17  58.078552 -17.027418 -30.006486  40.544853\n",
       "2002-09-18  58.447127 -16.833854 -28.580791  39.894819\n",
       "2002-09-19  58.237701 -16.283959 -29.521682  39.610973\n",
       "2002-09-20  59.131153 -16.885537 -30.451692  42.363204\n",
       "2002-09-21  58.113639 -17.142690 -30.508865  42.722171\n",
       "2002-09-22  56.388856 -17.850305 -30.795737  44.163956\n",
       "2002-09-23  54.802328 -16.176873 -29.348422  44.351928\n",
       "2002-09-24  54.367983 -15.742824 -29.678398  44.762649\n",
       "2002-09-25  55.831036 -16.302711 -30.493836  45.935456\n",
       "2002-09-26  55.301766 -16.469946 -32.092837  46.175228\n",
       "\n",
       "[1000 rows x 4 columns]"
      ]
     },
     "execution_count": 60,
     "metadata": {},
     "output_type": "execute_result"
    }
   ],
   "source": [
    "pd.read_hdf('foo.h5','df')"
   ]
  },
  {
   "cell_type": "markdown",
   "metadata": {},
   "source": [
    "### 11.3 Excel文件"
   ]
  },
  {
   "cell_type": "markdown",
   "metadata": {},
   "source": [
    "### 读写Excel文件，请参看[MS Excel](http://pandas.pydata.org/pandas-docs/stable/io.html#io-excel)\n",
    "### 写入excel文件："
   ]
  },
  {
   "cell_type": "code",
   "execution_count": 61,
   "metadata": {},
   "outputs": [],
   "source": [
    "df.to_excel('foo.xlsx', sheet_name='Sheet1')"
   ]
  },
  {
   "cell_type": "markdown",
   "metadata": {},
   "source": [
    "### 从excel文件中读取："
   ]
  },
  {
   "cell_type": "code",
   "execution_count": 62,
   "metadata": {},
   "outputs": [
    {
     "data": {
      "text/html": [
       "<div>\n",
       "<style scoped>\n",
       "    .dataframe tbody tr th:only-of-type {\n",
       "        vertical-align: middle;\n",
       "    }\n",
       "\n",
       "    .dataframe tbody tr th {\n",
       "        vertical-align: top;\n",
       "    }\n",
       "\n",
       "    .dataframe thead th {\n",
       "        text-align: right;\n",
       "    }\n",
       "</style>\n",
       "<table border=\"1\" class=\"dataframe\">\n",
       "  <thead>\n",
       "    <tr style=\"text-align: right;\">\n",
       "      <th></th>\n",
       "      <th>A</th>\n",
       "      <th>B</th>\n",
       "      <th>C</th>\n",
       "      <th>D</th>\n",
       "    </tr>\n",
       "  </thead>\n",
       "  <tbody>\n",
       "    <tr>\n",
       "      <th>2000-01-01</th>\n",
       "      <td>-1.793806</td>\n",
       "      <td>-1.439573</td>\n",
       "      <td>-0.116765</td>\n",
       "      <td>1.078453</td>\n",
       "    </tr>\n",
       "    <tr>\n",
       "      <th>2000-01-02</th>\n",
       "      <td>-0.977361</td>\n",
       "      <td>1.680866</td>\n",
       "      <td>0.181192</td>\n",
       "      <td>0.387798</td>\n",
       "    </tr>\n",
       "    <tr>\n",
       "      <th>2000-01-03</th>\n",
       "      <td>-0.403201</td>\n",
       "      <td>0.980279</td>\n",
       "      <td>2.359307</td>\n",
       "      <td>0.778115</td>\n",
       "    </tr>\n",
       "    <tr>\n",
       "      <th>2000-01-04</th>\n",
       "      <td>0.276690</td>\n",
       "      <td>2.253842</td>\n",
       "      <td>1.523397</td>\n",
       "      <td>1.613605</td>\n",
       "    </tr>\n",
       "    <tr>\n",
       "      <th>2000-01-05</th>\n",
       "      <td>-1.127549</td>\n",
       "      <td>0.891669</td>\n",
       "      <td>3.286792</td>\n",
       "      <td>2.135944</td>\n",
       "    </tr>\n",
       "    <tr>\n",
       "      <th>2000-01-06</th>\n",
       "      <td>-1.722105</td>\n",
       "      <td>0.574160</td>\n",
       "      <td>4.676815</td>\n",
       "      <td>1.048442</td>\n",
       "    </tr>\n",
       "    <tr>\n",
       "      <th>2000-01-07</th>\n",
       "      <td>-2.300659</td>\n",
       "      <td>1.975162</td>\n",
       "      <td>6.166305</td>\n",
       "      <td>1.270135</td>\n",
       "    </tr>\n",
       "    <tr>\n",
       "      <th>2000-01-08</th>\n",
       "      <td>-1.986703</td>\n",
       "      <td>2.240946</td>\n",
       "      <td>4.567565</td>\n",
       "      <td>2.249473</td>\n",
       "    </tr>\n",
       "    <tr>\n",
       "      <th>2000-01-09</th>\n",
       "      <td>-2.751842</td>\n",
       "      <td>4.056325</td>\n",
       "      <td>4.794222</td>\n",
       "      <td>3.251098</td>\n",
       "    </tr>\n",
       "    <tr>\n",
       "      <th>2000-01-10</th>\n",
       "      <td>-2.414831</td>\n",
       "      <td>3.709938</td>\n",
       "      <td>6.191617</td>\n",
       "      <td>3.671819</td>\n",
       "    </tr>\n",
       "    <tr>\n",
       "      <th>2000-01-11</th>\n",
       "      <td>-2.185105</td>\n",
       "      <td>4.974114</td>\n",
       "      <td>4.592093</td>\n",
       "      <td>3.051645</td>\n",
       "    </tr>\n",
       "    <tr>\n",
       "      <th>2000-01-12</th>\n",
       "      <td>-1.051591</td>\n",
       "      <td>4.864246</td>\n",
       "      <td>3.903071</td>\n",
       "      <td>2.514888</td>\n",
       "    </tr>\n",
       "    <tr>\n",
       "      <th>2000-01-13</th>\n",
       "      <td>-0.895485</td>\n",
       "      <td>6.409715</td>\n",
       "      <td>3.485436</td>\n",
       "      <td>2.016970</td>\n",
       "    </tr>\n",
       "    <tr>\n",
       "      <th>2000-01-14</th>\n",
       "      <td>-2.343244</td>\n",
       "      <td>6.277809</td>\n",
       "      <td>3.130254</td>\n",
       "      <td>0.745204</td>\n",
       "    </tr>\n",
       "    <tr>\n",
       "      <th>2000-01-15</th>\n",
       "      <td>-1.651507</td>\n",
       "      <td>4.484172</td>\n",
       "      <td>4.189348</td>\n",
       "      <td>-0.088953</td>\n",
       "    </tr>\n",
       "    <tr>\n",
       "      <th>2000-01-16</th>\n",
       "      <td>-1.667312</td>\n",
       "      <td>4.147812</td>\n",
       "      <td>5.313882</td>\n",
       "      <td>-0.942089</td>\n",
       "    </tr>\n",
       "    <tr>\n",
       "      <th>2000-01-17</th>\n",
       "      <td>-3.672971</td>\n",
       "      <td>4.582160</td>\n",
       "      <td>7.699881</td>\n",
       "      <td>-0.385328</td>\n",
       "    </tr>\n",
       "    <tr>\n",
       "      <th>2000-01-18</th>\n",
       "      <td>-2.498489</td>\n",
       "      <td>5.763128</td>\n",
       "      <td>7.985801</td>\n",
       "      <td>-2.379000</td>\n",
       "    </tr>\n",
       "    <tr>\n",
       "      <th>2000-01-19</th>\n",
       "      <td>-1.485000</td>\n",
       "      <td>6.303664</td>\n",
       "      <td>8.129667</td>\n",
       "      <td>-1.216021</td>\n",
       "    </tr>\n",
       "    <tr>\n",
       "      <th>2000-01-20</th>\n",
       "      <td>-0.616894</td>\n",
       "      <td>5.923785</td>\n",
       "      <td>6.281701</td>\n",
       "      <td>-0.898953</td>\n",
       "    </tr>\n",
       "    <tr>\n",
       "      <th>2000-01-21</th>\n",
       "      <td>-0.375034</td>\n",
       "      <td>7.153917</td>\n",
       "      <td>5.613645</td>\n",
       "      <td>0.287504</td>\n",
       "    </tr>\n",
       "    <tr>\n",
       "      <th>2000-01-22</th>\n",
       "      <td>-1.285720</td>\n",
       "      <td>7.712159</td>\n",
       "      <td>5.851137</td>\n",
       "      <td>-2.497753</td>\n",
       "    </tr>\n",
       "    <tr>\n",
       "      <th>2000-01-23</th>\n",
       "      <td>-1.087472</td>\n",
       "      <td>8.595716</td>\n",
       "      <td>6.024975</td>\n",
       "      <td>-2.064069</td>\n",
       "    </tr>\n",
       "    <tr>\n",
       "      <th>2000-01-24</th>\n",
       "      <td>0.698336</td>\n",
       "      <td>9.038967</td>\n",
       "      <td>6.803058</td>\n",
       "      <td>-3.450699</td>\n",
       "    </tr>\n",
       "    <tr>\n",
       "      <th>2000-01-25</th>\n",
       "      <td>2.642931</td>\n",
       "      <td>9.174231</td>\n",
       "      <td>5.367116</td>\n",
       "      <td>-4.397316</td>\n",
       "    </tr>\n",
       "    <tr>\n",
       "      <th>2000-01-26</th>\n",
       "      <td>1.617444</td>\n",
       "      <td>9.241905</td>\n",
       "      <td>4.388028</td>\n",
       "      <td>-4.761652</td>\n",
       "    </tr>\n",
       "    <tr>\n",
       "      <th>2000-01-27</th>\n",
       "      <td>2.285681</td>\n",
       "      <td>9.835671</td>\n",
       "      <td>5.018486</td>\n",
       "      <td>-4.239968</td>\n",
       "    </tr>\n",
       "    <tr>\n",
       "      <th>2000-01-28</th>\n",
       "      <td>2.000772</td>\n",
       "      <td>7.421834</td>\n",
       "      <td>4.700959</td>\n",
       "      <td>-4.481559</td>\n",
       "    </tr>\n",
       "    <tr>\n",
       "      <th>2000-01-29</th>\n",
       "      <td>2.769450</td>\n",
       "      <td>7.773632</td>\n",
       "      <td>4.524692</td>\n",
       "      <td>-4.962009</td>\n",
       "    </tr>\n",
       "    <tr>\n",
       "      <th>2000-01-30</th>\n",
       "      <td>2.631244</td>\n",
       "      <td>9.478377</td>\n",
       "      <td>4.043663</td>\n",
       "      <td>-4.486985</td>\n",
       "    </tr>\n",
       "    <tr>\n",
       "      <th>...</th>\n",
       "      <td>...</td>\n",
       "      <td>...</td>\n",
       "      <td>...</td>\n",
       "      <td>...</td>\n",
       "    </tr>\n",
       "    <tr>\n",
       "      <th>2002-08-28</th>\n",
       "      <td>59.714300</td>\n",
       "      <td>-12.004390</td>\n",
       "      <td>-30.037777</td>\n",
       "      <td>37.016091</td>\n",
       "    </tr>\n",
       "    <tr>\n",
       "      <th>2002-08-29</th>\n",
       "      <td>58.350876</td>\n",
       "      <td>-11.979683</td>\n",
       "      <td>-31.114387</td>\n",
       "      <td>37.228657</td>\n",
       "    </tr>\n",
       "    <tr>\n",
       "      <th>2002-08-30</th>\n",
       "      <td>59.427521</td>\n",
       "      <td>-13.067186</td>\n",
       "      <td>-33.257386</td>\n",
       "      <td>38.002699</td>\n",
       "    </tr>\n",
       "    <tr>\n",
       "      <th>2002-08-31</th>\n",
       "      <td>59.688054</td>\n",
       "      <td>-14.657816</td>\n",
       "      <td>-32.860148</td>\n",
       "      <td>37.912338</td>\n",
       "    </tr>\n",
       "    <tr>\n",
       "      <th>2002-09-01</th>\n",
       "      <td>57.965507</td>\n",
       "      <td>-14.319673</td>\n",
       "      <td>-33.001027</td>\n",
       "      <td>38.581343</td>\n",
       "    </tr>\n",
       "    <tr>\n",
       "      <th>2002-09-02</th>\n",
       "      <td>59.143571</td>\n",
       "      <td>-14.628160</td>\n",
       "      <td>-31.773570</td>\n",
       "      <td>36.677045</td>\n",
       "    </tr>\n",
       "    <tr>\n",
       "      <th>2002-09-03</th>\n",
       "      <td>60.115401</td>\n",
       "      <td>-16.194898</td>\n",
       "      <td>-30.702006</td>\n",
       "      <td>37.147781</td>\n",
       "    </tr>\n",
       "    <tr>\n",
       "      <th>2002-09-04</th>\n",
       "      <td>60.881693</td>\n",
       "      <td>-16.277813</td>\n",
       "      <td>-31.178087</td>\n",
       "      <td>35.552054</td>\n",
       "    </tr>\n",
       "    <tr>\n",
       "      <th>2002-09-05</th>\n",
       "      <td>60.955927</td>\n",
       "      <td>-17.267000</td>\n",
       "      <td>-30.917618</td>\n",
       "      <td>37.577790</td>\n",
       "    </tr>\n",
       "    <tr>\n",
       "      <th>2002-09-06</th>\n",
       "      <td>59.555480</td>\n",
       "      <td>-16.770311</td>\n",
       "      <td>-29.685831</td>\n",
       "      <td>38.006304</td>\n",
       "    </tr>\n",
       "    <tr>\n",
       "      <th>2002-09-07</th>\n",
       "      <td>57.769637</td>\n",
       "      <td>-17.628000</td>\n",
       "      <td>-28.869308</td>\n",
       "      <td>37.590048</td>\n",
       "    </tr>\n",
       "    <tr>\n",
       "      <th>2002-09-08</th>\n",
       "      <td>58.139465</td>\n",
       "      <td>-18.628497</td>\n",
       "      <td>-29.362193</td>\n",
       "      <td>38.692991</td>\n",
       "    </tr>\n",
       "    <tr>\n",
       "      <th>2002-09-09</th>\n",
       "      <td>59.506774</td>\n",
       "      <td>-18.414810</td>\n",
       "      <td>-29.858011</td>\n",
       "      <td>39.954244</td>\n",
       "    </tr>\n",
       "    <tr>\n",
       "      <th>2002-09-10</th>\n",
       "      <td>57.636196</td>\n",
       "      <td>-18.332899</td>\n",
       "      <td>-29.551767</td>\n",
       "      <td>39.793987</td>\n",
       "    </tr>\n",
       "    <tr>\n",
       "      <th>2002-09-11</th>\n",
       "      <td>55.575349</td>\n",
       "      <td>-19.046661</td>\n",
       "      <td>-29.177713</td>\n",
       "      <td>39.624809</td>\n",
       "    </tr>\n",
       "    <tr>\n",
       "      <th>2002-09-12</th>\n",
       "      <td>57.001209</td>\n",
       "      <td>-18.550850</td>\n",
       "      <td>-29.481526</td>\n",
       "      <td>39.972268</td>\n",
       "    </tr>\n",
       "    <tr>\n",
       "      <th>2002-09-13</th>\n",
       "      <td>57.369815</td>\n",
       "      <td>-18.118808</td>\n",
       "      <td>-31.503816</td>\n",
       "      <td>41.176488</td>\n",
       "    </tr>\n",
       "    <tr>\n",
       "      <th>2002-09-14</th>\n",
       "      <td>57.357193</td>\n",
       "      <td>-18.474465</td>\n",
       "      <td>-31.216621</td>\n",
       "      <td>41.077126</td>\n",
       "    </tr>\n",
       "    <tr>\n",
       "      <th>2002-09-15</th>\n",
       "      <td>59.125287</td>\n",
       "      <td>-19.022989</td>\n",
       "      <td>-30.500801</td>\n",
       "      <td>39.328276</td>\n",
       "    </tr>\n",
       "    <tr>\n",
       "      <th>2002-09-16</th>\n",
       "      <td>57.806099</td>\n",
       "      <td>-18.412148</td>\n",
       "      <td>-29.868476</td>\n",
       "      <td>40.849361</td>\n",
       "    </tr>\n",
       "    <tr>\n",
       "      <th>2002-09-17</th>\n",
       "      <td>58.078552</td>\n",
       "      <td>-17.027418</td>\n",
       "      <td>-30.006486</td>\n",
       "      <td>40.544853</td>\n",
       "    </tr>\n",
       "    <tr>\n",
       "      <th>2002-09-18</th>\n",
       "      <td>58.447127</td>\n",
       "      <td>-16.833854</td>\n",
       "      <td>-28.580791</td>\n",
       "      <td>39.894819</td>\n",
       "    </tr>\n",
       "    <tr>\n",
       "      <th>2002-09-19</th>\n",
       "      <td>58.237701</td>\n",
       "      <td>-16.283959</td>\n",
       "      <td>-29.521682</td>\n",
       "      <td>39.610973</td>\n",
       "    </tr>\n",
       "    <tr>\n",
       "      <th>2002-09-20</th>\n",
       "      <td>59.131153</td>\n",
       "      <td>-16.885537</td>\n",
       "      <td>-30.451692</td>\n",
       "      <td>42.363204</td>\n",
       "    </tr>\n",
       "    <tr>\n",
       "      <th>2002-09-21</th>\n",
       "      <td>58.113639</td>\n",
       "      <td>-17.142690</td>\n",
       "      <td>-30.508865</td>\n",
       "      <td>42.722171</td>\n",
       "    </tr>\n",
       "    <tr>\n",
       "      <th>2002-09-22</th>\n",
       "      <td>56.388856</td>\n",
       "      <td>-17.850305</td>\n",
       "      <td>-30.795737</td>\n",
       "      <td>44.163956</td>\n",
       "    </tr>\n",
       "    <tr>\n",
       "      <th>2002-09-23</th>\n",
       "      <td>54.802328</td>\n",
       "      <td>-16.176873</td>\n",
       "      <td>-29.348422</td>\n",
       "      <td>44.351928</td>\n",
       "    </tr>\n",
       "    <tr>\n",
       "      <th>2002-09-24</th>\n",
       "      <td>54.367983</td>\n",
       "      <td>-15.742824</td>\n",
       "      <td>-29.678398</td>\n",
       "      <td>44.762649</td>\n",
       "    </tr>\n",
       "    <tr>\n",
       "      <th>2002-09-25</th>\n",
       "      <td>55.831036</td>\n",
       "      <td>-16.302711</td>\n",
       "      <td>-30.493836</td>\n",
       "      <td>45.935456</td>\n",
       "    </tr>\n",
       "    <tr>\n",
       "      <th>2002-09-26</th>\n",
       "      <td>55.301766</td>\n",
       "      <td>-16.469946</td>\n",
       "      <td>-32.092837</td>\n",
       "      <td>46.175228</td>\n",
       "    </tr>\n",
       "  </tbody>\n",
       "</table>\n",
       "<p>1000 rows × 4 columns</p>\n",
       "</div>"
      ],
      "text/plain": [
       "                    A          B          C          D\n",
       "2000-01-01  -1.793806  -1.439573  -0.116765   1.078453\n",
       "2000-01-02  -0.977361   1.680866   0.181192   0.387798\n",
       "2000-01-03  -0.403201   0.980279   2.359307   0.778115\n",
       "2000-01-04   0.276690   2.253842   1.523397   1.613605\n",
       "2000-01-05  -1.127549   0.891669   3.286792   2.135944\n",
       "2000-01-06  -1.722105   0.574160   4.676815   1.048442\n",
       "2000-01-07  -2.300659   1.975162   6.166305   1.270135\n",
       "2000-01-08  -1.986703   2.240946   4.567565   2.249473\n",
       "2000-01-09  -2.751842   4.056325   4.794222   3.251098\n",
       "2000-01-10  -2.414831   3.709938   6.191617   3.671819\n",
       "2000-01-11  -2.185105   4.974114   4.592093   3.051645\n",
       "2000-01-12  -1.051591   4.864246   3.903071   2.514888\n",
       "2000-01-13  -0.895485   6.409715   3.485436   2.016970\n",
       "2000-01-14  -2.343244   6.277809   3.130254   0.745204\n",
       "2000-01-15  -1.651507   4.484172   4.189348  -0.088953\n",
       "2000-01-16  -1.667312   4.147812   5.313882  -0.942089\n",
       "2000-01-17  -3.672971   4.582160   7.699881  -0.385328\n",
       "2000-01-18  -2.498489   5.763128   7.985801  -2.379000\n",
       "2000-01-19  -1.485000   6.303664   8.129667  -1.216021\n",
       "2000-01-20  -0.616894   5.923785   6.281701  -0.898953\n",
       "2000-01-21  -0.375034   7.153917   5.613645   0.287504\n",
       "2000-01-22  -1.285720   7.712159   5.851137  -2.497753\n",
       "2000-01-23  -1.087472   8.595716   6.024975  -2.064069\n",
       "2000-01-24   0.698336   9.038967   6.803058  -3.450699\n",
       "2000-01-25   2.642931   9.174231   5.367116  -4.397316\n",
       "2000-01-26   1.617444   9.241905   4.388028  -4.761652\n",
       "2000-01-27   2.285681   9.835671   5.018486  -4.239968\n",
       "2000-01-28   2.000772   7.421834   4.700959  -4.481559\n",
       "2000-01-29   2.769450   7.773632   4.524692  -4.962009\n",
       "2000-01-30   2.631244   9.478377   4.043663  -4.486985\n",
       "...               ...        ...        ...        ...\n",
       "2002-08-28  59.714300 -12.004390 -30.037777  37.016091\n",
       "2002-08-29  58.350876 -11.979683 -31.114387  37.228657\n",
       "2002-08-30  59.427521 -13.067186 -33.257386  38.002699\n",
       "2002-08-31  59.688054 -14.657816 -32.860148  37.912338\n",
       "2002-09-01  57.965507 -14.319673 -33.001027  38.581343\n",
       "2002-09-02  59.143571 -14.628160 -31.773570  36.677045\n",
       "2002-09-03  60.115401 -16.194898 -30.702006  37.147781\n",
       "2002-09-04  60.881693 -16.277813 -31.178087  35.552054\n",
       "2002-09-05  60.955927 -17.267000 -30.917618  37.577790\n",
       "2002-09-06  59.555480 -16.770311 -29.685831  38.006304\n",
       "2002-09-07  57.769637 -17.628000 -28.869308  37.590048\n",
       "2002-09-08  58.139465 -18.628497 -29.362193  38.692991\n",
       "2002-09-09  59.506774 -18.414810 -29.858011  39.954244\n",
       "2002-09-10  57.636196 -18.332899 -29.551767  39.793987\n",
       "2002-09-11  55.575349 -19.046661 -29.177713  39.624809\n",
       "2002-09-12  57.001209 -18.550850 -29.481526  39.972268\n",
       "2002-09-13  57.369815 -18.118808 -31.503816  41.176488\n",
       "2002-09-14  57.357193 -18.474465 -31.216621  41.077126\n",
       "2002-09-15  59.125287 -19.022989 -30.500801  39.328276\n",
       "2002-09-16  57.806099 -18.412148 -29.868476  40.849361\n",
       "2002-09-17  58.078552 -17.027418 -30.006486  40.544853\n",
       "2002-09-18  58.447127 -16.833854 -28.580791  39.894819\n",
       "2002-09-19  58.237701 -16.283959 -29.521682  39.610973\n",
       "2002-09-20  59.131153 -16.885537 -30.451692  42.363204\n",
       "2002-09-21  58.113639 -17.142690 -30.508865  42.722171\n",
       "2002-09-22  56.388856 -17.850305 -30.795737  44.163956\n",
       "2002-09-23  54.802328 -16.176873 -29.348422  44.351928\n",
       "2002-09-24  54.367983 -15.742824 -29.678398  44.762649\n",
       "2002-09-25  55.831036 -16.302711 -30.493836  45.935456\n",
       "2002-09-26  55.301766 -16.469946 -32.092837  46.175228\n",
       "\n",
       "[1000 rows x 4 columns]"
      ]
     },
     "execution_count": 62,
     "metadata": {},
     "output_type": "execute_result"
    }
   ],
   "source": [
    "pd.read_excel('foo.xlsx', 'Sheet1', index_col=None, na_values=['NA'])"
   ]
  },
  {
   "cell_type": "markdown",
   "metadata": {},
   "source": [
    "## 12.代码陷阱"
   ]
  },
  {
   "cell_type": "markdown",
   "metadata": {},
   "source": [
    "### 某些操作可能你会看到类似这样的异常："
   ]
  },
  {
   "cell_type": "markdown",
   "metadata": {},
   "source": [
    "if pd.Series([False, True, False]):\n",
    "    print(\"I was true\")\n",
    "Traceback\n",
    "    ...\n",
    "ValueError: The truth value of an array is ambiguous. Use a.empty, a.any() or a.all()."
   ]
  },
  {
   "cell_type": "markdown",
   "metadata": {},
   "source": [
    "### 关于这些操作和说明，请查看[Comparisons](http://pandas.pydata.org/pandas-docs/stable/basics.html#basics-compare)\n",
    "### 也记得要看看[Gotchas](http://pandas.pydata.org/pandas-docs/stable/gotchas.html#gotchas)"
   ]
  }
 ],
 "metadata": {
  "kernelspec": {
   "display_name": "Python 3",
   "language": "python",
   "name": "python3"
  },
  "language_info": {
   "codemirror_mode": {
    "name": "ipython",
    "version": 3
   },
   "file_extension": ".py",
   "mimetype": "text/x-python",
   "name": "python",
   "nbconvert_exporter": "python",
   "pygments_lexer": "ipython3",
   "version": "3.6.4"
  }
 },
 "nbformat": 4,
 "nbformat_minor": 2
}
